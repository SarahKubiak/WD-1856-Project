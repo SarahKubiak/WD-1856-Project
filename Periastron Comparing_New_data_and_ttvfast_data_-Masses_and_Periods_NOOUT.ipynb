{
 "cells": [
  {
   "cell_type": "code",
   "execution_count": 6,
   "metadata": {},
   "outputs": [],
   "source": [
    "import ttvfast\n",
    "import numpy as np\n",
    "import pandas as pd \n",
    "import matplotlib.pyplot as plt\n",
    "from ttvfast import models\n",
    "import pdb\n",
    "\n",
    "\n",
    "\n",
    "gravity =  0.000295994511                        # AU^3/day^2/M_sun\n",
    "stellar_mass = 0.518 #0.95573417954    #change me                # M_sun\n",
    "\n",
    "\n",
    "planet1 = models.Planet(\n",
    "    mass=0.00954588, #0.00002878248,                         # M_sun\n",
    "    period=1.4079405,#1.0917340278625494e+01,              # days\n",
    "    eccentricity=0,#5.6159310042858110e-02,\n",
    "    inclination=88.778,#9.0921164935951211e+01,         # degrees\n",
    "    longnode=-1.1729336712101943e-18,           # degrees\n",
    "    argument=1.8094838714599581e+02,            # degrees\n",
    "    mean_anomaly= -90 #-8.7093652691581923e+01,       # degrees\n",
    ")\n",
    "\n",
    "planet2 = models.Planet(\n",
    "    mass=0.00954588,#0.00061895914,\n",
    "    period=200,#1.4079405,#2.2266898036209028e+01,\n",
    "    eccentricity= 0.7, #5.6691301931178648e-02,\n",
    "    inclination=8.7598285693573246e+01,\n",
    "    longnode=4.6220554014026838e-01,\n",
    "    argument=1.6437004273382669e+00,\n",
    "    mean_anomaly=-1.9584857031843157e+01,\n",
    ")\n",
    "\n",
    "planets = [planet1, planet2]\n",
    "Time = 66.70357200363651-1.4079405+0.003714472890699483 #-1045                                    # days\n",
    "dt = 0.02                                       # days\n",
    "Total = 510 #1700                                    # days\n",
    "\n",
    "results = ttvfast.ttvfast(planets, stellar_mass, Time, dt, Total)\n",
    "#print(results)"
   ]
  },
  {
   "cell_type": "code",
   "execution_count": 7,
   "metadata": {},
   "outputs": [],
   "source": [
    "#print(results.keys())\n",
    "#print(results[\"positions\"][2])\n",
    "whichplanet = results[\"positions\"][0]\n",
    "whichtransit = results[\"positions\"][1]\n",
    "transittimes = results[\"positions\"][2]\n",
    "planet1transits = []\n",
    "planet1times = []\n",
    "transittimesplanet0 = []\n",
    "transitnumberplanet0 = []\n",
    "for i in range(375):\n",
    "    a = whichplanet[i]\n",
    "    condition = a==0  \n",
    "    if condition: \n",
    "        transittimesplanet0.append(transittimes[i] )\n",
    "        transitnumberplanet0.append(whichtransit[i] )"
   ]
  },
  {
   "cell_type": "code",
   "execution_count": 8,
   "metadata": {},
   "outputs": [
    {
     "data": {
      "text/html": [
       "<div>\n",
       "<style scoped>\n",
       "    .dataframe tbody tr th:only-of-type {\n",
       "        vertical-align: middle;\n",
       "    }\n",
       "\n",
       "    .dataframe tbody tr th {\n",
       "        vertical-align: top;\n",
       "    }\n",
       "\n",
       "    .dataframe thead th {\n",
       "        text-align: right;\n",
       "    }\n",
       "</style>\n",
       "<table border=\"1\" class=\"dataframe\">\n",
       "  <thead>\n",
       "    <tr style=\"text-align: right;\">\n",
       "      <th></th>\n",
       "      <th>Time</th>\n",
       "      <th>Uncertainty</th>\n",
       "    </tr>\n",
       "  </thead>\n",
       "  <tbody>\n",
       "    <tr>\n",
       "      <th>0</th>\n",
       "      <td>2.459016e+06</td>\n",
       "      <td>0.000002</td>\n",
       "    </tr>\n",
       "    <tr>\n",
       "      <th>1</th>\n",
       "      <td>2.459033e+06</td>\n",
       "      <td>0.000002</td>\n",
       "    </tr>\n",
       "    <tr>\n",
       "      <th>2</th>\n",
       "      <td>2.459061e+06</td>\n",
       "      <td>0.000002</td>\n",
       "    </tr>\n",
       "    <tr>\n",
       "      <th>3</th>\n",
       "      <td>2.459085e+06</td>\n",
       "      <td>0.000002</td>\n",
       "    </tr>\n",
       "    <tr>\n",
       "      <th>4</th>\n",
       "      <td>2.459092e+06</td>\n",
       "      <td>0.000003</td>\n",
       "    </tr>\n",
       "    <tr>\n",
       "      <th>5</th>\n",
       "      <td>2.459095e+06</td>\n",
       "      <td>0.000009</td>\n",
       "    </tr>\n",
       "    <tr>\n",
       "      <th>6</th>\n",
       "      <td>2.459102e+06</td>\n",
       "      <td>0.000002</td>\n",
       "    </tr>\n",
       "    <tr>\n",
       "      <th>7</th>\n",
       "      <td>2.459116e+06</td>\n",
       "      <td>0.000003</td>\n",
       "    </tr>\n",
       "    <tr>\n",
       "      <th>8</th>\n",
       "      <td>2.459126e+06</td>\n",
       "      <td>0.000002</td>\n",
       "    </tr>\n",
       "    <tr>\n",
       "      <th>9</th>\n",
       "      <td>2.459140e+06</td>\n",
       "      <td>0.000003</td>\n",
       "    </tr>\n",
       "    <tr>\n",
       "      <th>10</th>\n",
       "      <td>2.458779e+06</td>\n",
       "      <td>0.000002</td>\n",
       "    </tr>\n",
       "    <tr>\n",
       "      <th>11</th>\n",
       "      <td>2.458912e+06</td>\n",
       "      <td>0.000003</td>\n",
       "    </tr>\n",
       "    <tr>\n",
       "      <th>12</th>\n",
       "      <td>2.458981e+06</td>\n",
       "      <td>0.000008</td>\n",
       "    </tr>\n",
       "    <tr>\n",
       "      <th>13</th>\n",
       "      <td>2.458991e+06</td>\n",
       "      <td>0.000006</td>\n",
       "    </tr>\n",
       "    <tr>\n",
       "      <th>14</th>\n",
       "      <td>2.459015e+06</td>\n",
       "      <td>0.000007</td>\n",
       "    </tr>\n",
       "  </tbody>\n",
       "</table>\n",
       "</div>"
      ],
      "text/plain": [
       "            Time  Uncertainty\n",
       "0   2.459016e+06     0.000002\n",
       "1   2.459033e+06     0.000002\n",
       "2   2.459061e+06     0.000002\n",
       "3   2.459085e+06     0.000002\n",
       "4   2.459092e+06     0.000003\n",
       "5   2.459095e+06     0.000009\n",
       "6   2.459102e+06     0.000002\n",
       "7   2.459116e+06     0.000003\n",
       "8   2.459126e+06     0.000002\n",
       "9   2.459140e+06     0.000003\n",
       "10  2.458779e+06     0.000002\n",
       "11  2.458912e+06     0.000003\n",
       "12  2.458981e+06     0.000008\n",
       "13  2.458991e+06     0.000006\n",
       "14  2.459015e+06     0.000007"
      ]
     },
     "execution_count": 8,
     "metadata": {},
     "output_type": "execute_result"
    }
   ],
   "source": [
    "# df=pd.read_csv(r'/Users/sarahkubiak/Desktop/WD1856/test.txt', sep=' ')\n",
    "df=pd.read_csv(r'/Users/sarahkubiak/Desktop/WD1856/newdatawithoutbadthings.txt', sep=' ')\n",
    "df"
   ]
  },
  {
   "cell_type": "code",
   "execution_count": 9,
   "metadata": {},
   "outputs": [],
   "source": [
    "brucetransittime=np.array(df['Time'])\n",
    "#brucetransittime= 1.40794050*brucetransitnumber + 2458779.3750828\n",
    "brucetransitnumber= np.round((brucetransittime-2458779.3750828)/1.40794050)\n",
    "#brucex= brucetransitnumber\n",
    "#brucey=np.array(df['dT[sec]'])\n",
    "bruceerr= np.array(df['Uncertainty'])*60*60*24\n",
    "#fig, ax = plt.subplots(figsize=(16, 8))\n",
    "\n",
    "#plt.errorbar(brucex, brucey, yerr = bruceerr, fmt = 'o')\n",
    "#ax.set_ylabel('seconds');\n",
    "#ax.set_xlabel('transit number');"
   ]
  },
  {
   "cell_type": "code",
   "execution_count": 10,
   "metadata": {},
   "outputs": [],
   "source": [
    "actualbrucetransittime = np.array(df['Time'])-2458700"
   ]
  },
  {
   "cell_type": "code",
   "execution_count": 11,
   "metadata": {},
   "outputs": [
    {
     "name": "stdout",
     "output_type": "stream",
     "text": [
      "315.9088683668524\n"
     ]
    }
   ],
   "source": [
    "print(actualbrucetransittime[0])"
   ]
  },
  {
   "cell_type": "code",
   "execution_count": 12,
   "metadata": {},
   "outputs": [
    {
     "name": "stdout",
     "output_type": "stream",
     "text": [
      "66.703572003636\n"
     ]
    }
   ],
   "source": [
    "print(transittimesplanet0[0])"
   ]
  },
  {
   "cell_type": "code",
   "execution_count": 13,
   "metadata": {},
   "outputs": [
    {
     "data": {
      "text/plain": [
       "-1.407952366862446"
      ]
     },
     "execution_count": 13,
     "metadata": {},
     "output_type": "execute_result"
    }
   ],
   "source": [
    "actualbrucetransittime[14]-actualbrucetransittime[0]"
   ]
  },
  {
   "cell_type": "code",
   "execution_count": 14,
   "metadata": {},
   "outputs": [
    {
     "data": {
      "text/plain": [
       "-249.2052963632164"
      ]
     },
     "execution_count": 14,
     "metadata": {},
     "output_type": "execute_result"
    }
   ],
   "source": [
    "transittimesplanet0[0]- actualbrucetransittime[0]"
   ]
  },
  {
   "cell_type": "code",
   "execution_count": 15,
   "metadata": {},
   "outputs": [
    {
     "name": "stdout",
     "output_type": "stream",
     "text": [
      "[66.703572   69.51945347 73.74333002]\n"
     ]
    }
   ],
   "source": [
    "transittimesplanet0 = np.array(transittimesplanet0)\n",
    "print(transittimesplanet0[np.array([0, 2, 5])])"
   ]
  },
  {
   "cell_type": "code",
   "execution_count": 16,
   "metadata": {},
   "outputs": [
    {
     "name": "stdout",
     "output_type": "stream",
     "text": [
      " bruce transit number 168.0 coresponds to transit time 315.9088683668524\n",
      " bruce transit number 180.0 coresponds to transit time 332.80413679406047\n",
      " bruce transit number 200.0 coresponds to transit time 360.9629293610342\n",
      " bruce transit number 217.0 coresponds to transit time 384.8978941459209\n",
      " bruce transit number 222.0 coresponds to transit time 391.93759056413546\n",
      " bruce transit number 224.0 coresponds to transit time 394.753486501053\n",
      " bruce transit number 229.0 coresponds to transit time 401.793159971945\n",
      " bruce transit number 239.0 coresponds to transit time 415.87255670595914\n",
      " bruce transit number 246.0 coresponds to transit time 425.728129317984\n",
      " bruce transit number 256.0 coresponds to transit time 439.80752397188917\n",
      " bruce transit number 0.0 coresponds to transit time 79.37508499994874\n",
      " bruce transit number 94.0 coresponds to transit time 211.72136700013652\n",
      " bruce transit number 143.0 coresponds to transit time 280.7103829998523\n",
      " bruce transit number 150.0 coresponds to transit time 290.56595900002867\n"
     ]
    }
   ],
   "source": [
    "#for i in range(29):\n",
    "    #print('datapoint number', i,'coresponds to transit time', transittimesplanet0[i] )\n",
    "#print(transittimesplanet0[9])\n",
    "#print(transittimesplanet0[157])\n",
    "#print(transittimesplanet0[174])\n",
    "#print(transittimesplanet0[311])\n",
    "for i in range(14):\n",
    "    print(' bruce transit number', brucetransitnumber[i],'coresponds to transit time', actualbrucetransittime[i] )\n",
    "    #for j in range(len(transittimesplanet0)):\n",
    "        #print(transittimesplanet0[i])\n",
    "        #condition = actualbrucetransittime[i]==transittimesplanet0[i]\n",
    "        #if condition: \n",
    "            #print(i)\n",
    "transitswewant = (brucetransitnumber + 9)\n",
    "transitswewant = (transitswewant.astype(int))\n",
    "#print(transitswewant)"
   ]
  },
  {
   "cell_type": "code",
   "execution_count": 17,
   "metadata": {},
   "outputs": [
    {
     "name": "stdout",
     "output_type": "stream",
     "text": [
      "[-136.33910311 -150.10416608 -174.18533778 -193.84287186 -199.66576359\n",
      " -203.4872703  -207.27673653 -218.92133172 -226.13875391 -231.69492244\n",
      "    8.81725948  -89.71567339 -107.99827277 -115.55639567 -134.04587027]\n"
     ]
    }
   ],
   "source": [
    "print((np.array(transittimesplanet0)[transitswewant]-actualbrucetransittime) * 24 * 60 * 60)"
   ]
  },
  {
   "cell_type": "code",
   "execution_count": 18,
   "metadata": {},
   "outputs": [
    {
     "name": "stdout",
     "output_type": "stream",
     "text": [
      "9020588.128618864\n"
     ]
    }
   ],
   "source": [
    "chisq = np.sum(((actualbrucetransittime - np.array(transittimesplanet0)[transitswewant]) * 24 * 60 * 60)**2 / bruceerr**2)\n",
    "print(chisq)"
   ]
  },
  {
   "cell_type": "code",
   "execution_count": 19,
   "metadata": {},
   "outputs": [],
   "source": [
    "def loglikelihood(p, actualbrucetransittime, bruceerr, yesplot= False): #here p is an array of the parameters: let's define p[0] = slope, and p[1] = intercept\n",
    "    #slope = p[0]\n",
    "    #intercept = p[1]\n",
    "    #quad = p[2]\n",
    "    #model = slope*x + intercept+ quad*x**2\n",
    "    #chisq = np.sum((y - model)**2 / e**2)\n",
    "    \n",
    "    gravity =  0.000295994511                        # AU^3/day^2/M_sun\n",
    "    stellar_mass = 0.518 #0.95573417954    #change me                # M_sun\n",
    "\n",
    "\n",
    "    planet1 = models.Planet(\n",
    "        mass = 0.00954588, #0.00002878248,                         # M_sun\n",
    "        period = p[7],#1.4079405,#1.0917340278625494e+01,              # days\n",
    "        eccentricity = 0,#5.6159310042858110e-02,\n",
    "        inclination = 20,#88.778,#9.0921164935951211e+01,         # degrees\n",
    "        longnode = -1.1729336712101943e-18,           # degrees\n",
    "        argument = 1.8094838714599581e+02,            # degrees\n",
    "        mean_anomaly = p[8],#-90 #-8.7093652691581923e+01,       # degrees\n",
    "    )\n",
    "\n",
    "    planet2 = models.Planet(\n",
    "        mass = p[0],#0.00954588,#0.00061895914,\n",
    "        period = p[1],#200,#1.4079405,#2.2266898036209028e+01,\n",
    "        eccentricity = p[2],#0.7, #5.6691301931178648e-02,\n",
    "        inclination = p[3],#8.7598285693573246e+01,\n",
    "        longnode = p[4],#4.6220554014026838e-01,\n",
    "        argument = p[5],#1.6437004273382669e+00,\n",
    "        mean_anomaly = p[6],#-1.9584857031843157e+01,\n",
    "    )\n",
    "\n",
    "    planets = [planet1, planet2]\n",
    "    Time = 66.70357200363651-1.4079405+0.003714472890699483 #-1045                                    # days\n",
    "    dt = 0.02                                       # days\n",
    "    Total = 510 #1700                                    # days\n",
    "\n",
    "    results = ttvfast.ttvfast(planets, stellar_mass, Time, dt, Total)\n",
    "    whichplanet = results[\"positions\"][0]\n",
    "    whichtransit = results[\"positions\"][1]\n",
    "    transittimes = results[\"positions\"][2]\n",
    "    planet1transits = []\n",
    "    planet1times = []\n",
    "    transittimesplanet0 = []\n",
    "    transitnumberplanet0 = []\n",
    "    for i in range(375):\n",
    "        a = whichplanet[i]\n",
    "        condition = a == 0  \n",
    "        if condition: \n",
    "            transittimesplanet0.append(transittimes[i] )\n",
    "            transitnumberplanet0.append(whichtransit[i] )\n",
    "    \n",
    "    \n",
    "    if yesplot: \n",
    "        fig, ax = plt.subplots(figsize=(16, 8))\n",
    "    #m=np.mean((actualbrucetransittime-1.4079405*brucetransitnumber)*24*60*60)\n",
    "    #model data- model line \n",
    "    #plt.errorbar(brucetransitnumber, (actualbrucetransittime-1.4079405*brucetransitnumber)*24*60*60-m, yerr = bruceerr, fmt = 'o-', label = 'Data')\n",
    "    #print(actualbrucetransittime)\n",
    "    #print(np.array(transittimesplanet0)[transitswewant])\n",
    "    #bruce data- model line \n",
    "    #plt.plot(brucetransitnumber, (np.array(transittimesplanet0)[transitswewant]-1.4079405*brucetransitnumber)*24*60*60-m,\"o-\", label = 'Model')\n",
    "    #ax.set_ylabel('seconds');\n",
    "    '''ax.set_xlabel('transit number');\n",
    "    ax.set_title('mass = '+ str(p[0])+ ' period ='+ str(p[1]))\n",
    "    plt.show()'''\n",
    "    '''print(np.array(transittimesplanet0)[transitswewant[0:5]])\n",
    "    print(actualbrucetransittime[0:5])'''\n",
    "    #print(\"transits we want\",np.array(transittimesplanet0)[transitswewant])\n",
    "    #print(\"actual brue transits\",actualbrucetransittime)\n",
    "    #print(\"actual bruce - transits we want\",actualbrucetransittime-np.array(transittimesplanet0)[transitswewant])\n",
    "    pbruce = np.polyfit(brucetransitnumber,actualbrucetransittime,1, w= 1/bruceerr)\n",
    "    pmodel = np.polyfit(brucetransitnumber,np.array(transittimesplanet0)[transitswewant],1,w= 1/bruceerr)\n",
    "    brucetrend = np.polyval(pbruce,brucetransitnumber)\n",
    "    modeltrend = np.polyval(pmodel,brucetransitnumber)\n",
    "    brucetransittimecorrected = actualbrucetransittime - brucetrend\n",
    "    modeltransittimecorrected = np.array(transittimesplanet0)[transitswewant] - modeltrend\n",
    "    if yesplot:\n",
    "        plt.errorbar(brucetransitnumber,brucetransittimecorrected*60*60*24, yerr = bruceerr, fmt = 'o-', label = 'Corrected Data')\n",
    "        print(actualbrucetransittime)\n",
    "        print(np.array(transittimesplanet0)[transitswewant])\n",
    "        #bruce data- model line \n",
    "        plt.plot(brucetransitnumber, modeltransittimecorrected*60*60*24,\"o-\", label = 'Corrected Model')\n",
    "        ax.set_ylabel('seconds');\n",
    "        ax.set_xlabel('transit number');\n",
    "        ax.set_title('mass = '+ str(p[0])+ ' period ='+ str(p[1])+ 'periastron ='+ str(p[5])) \n",
    "        plt.show()\n",
    "    chisq = np.sum((brucetransittimecorrected*60*60*24 - modeltransittimecorrected*60*60*24)**2/ bruceerr**2)\n",
    "    #print(brucetransittimecorrected*60*60*24 - modeltransittimecorrected*60*60*24)\n",
    "    #print(bruceerr)\n",
    "    negloglikelihood = 0.5 * chisq\n",
    "    return negloglikelihood\n"
   ]
  },
  {
   "cell_type": "code",
   "execution_count": 20,
   "metadata": {},
   "outputs": [
    {
     "data": {
      "text/plain": [
       "849.3221498613184"
      ]
     },
     "execution_count": 20,
     "metadata": {},
     "output_type": "execute_result"
    }
   ],
   "source": [
    "loglikelihood([0.00954588,200,0.6,8.7598285693573246e+01,4.6220554014026838e-01,1.6437004273382669e+00,-1.9584857031843157e+01,1.40795,-90],actualbrucetransittime , bruceerr)"
   ]
  },
  {
   "cell_type": "code",
   "execution_count": 16,
   "metadata": {},
   "outputs": [
    {
     "name": "stdout",
     "output_type": "stream",
     "text": [
      "[168. 180. 200. 217. 222. 224. 229. 239. 246. 256.   0.  94. 143. 150.\n",
      " 167.]\n"
     ]
    }
   ],
   "source": [
    "print(brucetransitnumber)\n"
   ]
  },
  {
   "cell_type": "code",
   "execution_count": 17,
   "metadata": {},
   "outputs": [
    {
     "data": {
      "text/plain": [
       "\"'for j in range(len(massestotest)):\\n        thismass= massestotest[j]\\n        for k in range(len(periodstotest)):\\n            thisperiod= periodstotest[k]\\n            for m in range(len(meananomolytotest)):\\n                thismeananomoly= meananomolytotest[m]\\n                loglikelihood([thismass,\\n                           thisperiod,0.6,\\n                           8.7598285693573246e+01,\\n                           4.6220554014026838e-01,\\n                           1.6437004273382669e+00,\\n                           thismeananomoly,\\n                           1.40795,-90],actualbrucetransittime , bruceerr)\""
      ]
     },
     "execution_count": 17,
     "metadata": {},
     "output_type": "execute_result"
    }
   ],
   "source": [
    "#grid search \n",
    "periodstotest = np.linspace(50,1000,30)\n",
    "massestotest = np.linspace(0.1,13,10)/1047.572 #conversion from jupiter to solar masses\n",
    "periastrontotest = np.linspace(0,360,10)\n",
    "''''for j in range(len(massestotest)):\n",
    "        thismass= massestotest[j]\n",
    "        for k in range(len(periodstotest)):\n",
    "            thisperiod= periodstotest[k]\n",
    "            for m in range(len(meananomolytotest)):\n",
    "                thismeananomoly= meananomolytotest[m]\n",
    "                loglikelihood([thismass,\n",
    "                           thisperiod,0.6,\n",
    "                           8.7598285693573246e+01,\n",
    "                           4.6220554014026838e-01,\n",
    "                           1.6437004273382669e+00,\n",
    "                           thismeananomoly,\n",
    "                           1.40795,-90],actualbrucetransittime , bruceerr)'''\n"
   ]
  },
  {
   "cell_type": "code",
   "execution_count": 18,
   "metadata": {},
   "outputs": [],
   "source": [
    "#for j in range(len(ecentricitiestotest)):\n",
    "    #print(j)\n",
    "    #print('loop finished')\n",
    "    #print(ecentricitiestotest[j])"
   ]
  },
  {
   "cell_type": "code",
   "execution_count": 19,
   "metadata": {},
   "outputs": [
    {
     "name": "stdout",
     "output_type": "stream",
     "text": [
      "[[[0. 0. 0. ... 0. 0. 0.]\n",
      "  [0. 0. 0. ... 0. 0. 0.]\n",
      "  [0. 0. 0. ... 0. 0. 0.]\n",
      "  ...\n",
      "  [0. 0. 0. ... 0. 0. 0.]\n",
      "  [0. 0. 0. ... 0. 0. 0.]\n",
      "  [0. 0. 0. ... 0. 0. 0.]]\n",
      "\n",
      " [[0. 0. 0. ... 0. 0. 0.]\n",
      "  [0. 0. 0. ... 0. 0. 0.]\n",
      "  [0. 0. 0. ... 0. 0. 0.]\n",
      "  ...\n",
      "  [0. 0. 0. ... 0. 0. 0.]\n",
      "  [0. 0. 0. ... 0. 0. 0.]\n",
      "  [0. 0. 0. ... 0. 0. 0.]]\n",
      "\n",
      " [[0. 0. 0. ... 0. 0. 0.]\n",
      "  [0. 0. 0. ... 0. 0. 0.]\n",
      "  [0. 0. 0. ... 0. 0. 0.]\n",
      "  ...\n",
      "  [0. 0. 0. ... 0. 0. 0.]\n",
      "  [0. 0. 0. ... 0. 0. 0.]\n",
      "  [0. 0. 0. ... 0. 0. 0.]]\n",
      "\n",
      " ...\n",
      "\n",
      " [[0. 0. 0. ... 0. 0. 0.]\n",
      "  [0. 0. 0. ... 0. 0. 0.]\n",
      "  [0. 0. 0. ... 0. 0. 0.]\n",
      "  ...\n",
      "  [0. 0. 0. ... 0. 0. 0.]\n",
      "  [0. 0. 0. ... 0. 0. 0.]\n",
      "  [0. 0. 0. ... 0. 0. 0.]]\n",
      "\n",
      " [[0. 0. 0. ... 0. 0. 0.]\n",
      "  [0. 0. 0. ... 0. 0. 0.]\n",
      "  [0. 0. 0. ... 0. 0. 0.]\n",
      "  ...\n",
      "  [0. 0. 0. ... 0. 0. 0.]\n",
      "  [0. 0. 0. ... 0. 0. 0.]\n",
      "  [0. 0. 0. ... 0. 0. 0.]]\n",
      "\n",
      " [[0. 0. 0. ... 0. 0. 0.]\n",
      "  [0. 0. 0. ... 0. 0. 0.]\n",
      "  [0. 0. 0. ... 0. 0. 0.]\n",
      "  ...\n",
      "  [0. 0. 0. ... 0. 0. 0.]\n",
      "  [0. 0. 0. ... 0. 0. 0.]\n",
      "  [0. 0. 0. ... 0. 0. 0.]]]\n",
      "[[[  14.49246041   15.11923234   14.64085029 ...   15.08759597\n",
      "     14.5591885    14.49245844]\n",
      "  [  95.4798212    93.50091133   73.12167852 ...   92.85291909\n",
      "     96.32901506   95.47982272]\n",
      "  [ 318.13657262  292.04726264  227.53842968 ...  290.34383337\n",
      "    319.45452481  318.13657418]\n",
      "  ...\n",
      "  [3463.45904101 3004.9690277  2362.93870446 ... 2983.17359848\n",
      "   3463.05711238 3463.45904734]\n",
      "  [4481.34479726 3876.17311165 3048.55094374 ... 3845.67108978\n",
      "   4479.68216162 4481.34480356]\n",
      "  [5623.22433164 4852.11908171 3815.89960632 ... 4810.73027483\n",
      "   5619.95669899 5623.224308  ]]\n",
      "\n",
      " [[  13.69902974   14.30579972   15.03784579 ...   13.63792966\n",
      "     13.75579309   13.69902974]\n",
      "  [  20.31720268   22.8873201    43.44860073 ...   23.47086572\n",
      "     26.79321599   20.31720268]\n",
      "  [  52.26687992   44.55824652  102.15864627 ...   66.33236182\n",
      "     75.6471772    52.26687988]\n",
      "  ...\n",
      "  [ 569.51168096  343.61163721  832.42907256 ...  755.83337323\n",
      "    834.73252038  569.5116817 ]\n",
      "  [ 740.18260874  440.48026055 1062.38818814 ...  984.87826751\n",
      "   1085.19355216  740.18261017]\n",
      "  [ 931.90056862  549.35404419 1319.20641442 ... 1243.05580512\n",
      "   1367.1498836   931.90057548]]\n",
      "\n",
      " [[  13.88622425   14.22911294   14.71421671 ...   13.94985481\n",
      "     13.83791056   13.88622425]\n",
      "  [  15.61507516   17.36260496   25.86879604 ...   16.69524481\n",
      "     13.46103389   15.61507516]\n",
      "  [  28.81519155   25.47615255   44.02342678 ...   31.09731145\n",
      "     21.96503141   28.81519118]\n",
      "  ...\n",
      "  [ 258.79068727  136.17607731  236.3087181  ...  269.3828913\n",
      "    192.13426258  258.79066897]\n",
      "  [ 336.02516745  171.4734166   294.39040711 ...  348.64825493\n",
      "    250.62685016  336.02516051]\n",
      "  [ 423.17452544  210.88101672  358.79417993 ...  437.92257591\n",
      "    316.92868399  423.17453407]]\n",
      "\n",
      " ...\n",
      "\n",
      " [[  14.22572693   14.19271762   14.16859557 ...   14.17053384\n",
      "     14.21412569   14.22572693]\n",
      "  [  14.6074853    14.09596444   13.74080799 ...   13.76684966\n",
      "     14.42613652   14.6074853 ]\n",
      "  [  15.00936743   14.00939322   13.35051993 ...   13.39380427\n",
      "     14.65188429   15.00936743]\n",
      "  ...\n",
      "  [  17.31030967   13.72440581   11.94278384 ...   11.97184309\n",
      "     15.9797235    17.31030967]\n",
      "  [  17.82674942   13.69604379   11.76635185 ...   11.7729303\n",
      "     16.28375242   17.82674942]\n",
      "  [  18.36126095   13.67690626   11.62379346 ...   11.60148446\n",
      "     16.60015919   18.36126095]]\n",
      "\n",
      " [[  14.22501803   14.19582737   14.17080646 ...   14.17053815\n",
      "     14.21096948   14.22501803]\n",
      "  [  14.59626896   14.14172227   13.77276728 ...   13.76693279\n",
      "     14.37575965   14.59626896]\n",
      "  [  14.98706043   14.0942271    13.40860444 ...   13.3939336\n",
      "     14.5506167    14.98706043]\n",
      "  ...\n",
      "  [  17.22393322   13.95273588   12.07905967 ...   11.97172314\n",
      "     15.57083802   17.22393322]\n",
      "  [  17.7259018    13.94301603   11.90813596 ...   11.7726872\n",
      "     15.80305578   17.7259018 ]\n",
      "  [  18.24541749   13.93929562   11.76781779 ...   11.60110071\n",
      "     16.0443513    18.24541749]]\n",
      "\n",
      " [[  14.22402589   14.19838933   14.1731026  ...   14.17097548\n",
      "     14.20817808   14.22402589]\n",
      "  [  14.58060423   14.17979747   13.8058554  ...   13.77336042\n",
      "     14.33144532   14.58060423]\n",
      "  [  14.95568839   14.16546334   13.46855128 ...   13.405735\n",
      "     14.46197237   14.95568839]\n",
      "  ...\n",
      "  [  17.09904406   14.15561504   12.21641312 ...   12.00164219\n",
      "     15.21966728   17.09904406]\n",
      "  [  17.57941509   14.16561273   12.04997798 ...   11.8045415\n",
      "     15.39149779   17.57941509]\n",
      "  [  18.07641097   14.17947406   11.91060811 ...   11.63435434\n",
      "     15.56984863   18.07641097]]]\n"
     ]
    }
   ],
   "source": [
    "a=np.zeros((len(periodstotest),len(massestotest),len(periastrontotest)))\n",
    "testedmasses= np.zeros((len(periodstotest),len(massestotest),len(periastrontotest)))\n",
    "testedperiods = np.zeros((len(periodstotest),len(massestotest),len(periastrontotest)))\n",
    "print(a)\n",
    "for c in range(len(periodstotest)): \n",
    "    for d in range(len(massestotest)):\n",
    "        for e in range(len(periastrontotest)):\n",
    "            a[c,d,e]=loglikelihood([massestotest[d],periodstotest[c],0,8.7598285693573246e+01,\n",
    "                                               4.6220554014026838e-01,periastrontotest[e],\n",
    "                                               -1.9584857031843157e+01,1.40795,-90],actualbrucetransittime , bruceerr)\n",
    "            testedmasses[c,d,e]=massestotest[d]\n",
    "            testedperiods[c,d,e]= periodstotest[c]\n",
    "print(a)"
   ]
  },
  {
   "cell_type": "code",
   "execution_count": 20,
   "metadata": {},
   "outputs": [
    {
     "data": {
      "text/plain": [
       "Text(0.5, 0, 'masses in solar masses')"
      ]
     },
     "execution_count": 20,
     "metadata": {},
     "output_type": "execute_result"
    },
    {
     "data": {
      "image/png": "[encoded data removed]",
      "text/plain": [
       "<Figure size 432x288 with 2 Axes>"
      ]
     },
     "metadata": {
      "needs_background": "light"
     },
     "output_type": "display_data"
    }
   ],
   "source": [
    "fig,ax= plt.subplots()\n",
    "im=ax.imshow(np.min(a, axis= 2),extent = [min(massestotest), max(massestotest),max(periodstotest),min(periodstotest)], aspect='auto')\n",
    "\n",
    "fig.colorbar(im)\n",
    "ax.set_ylabel('period in days')\n",
    "ax.set_xlabel('masses in solar masses')\n"
   ]
  },
  {
   "cell_type": "code",
   "execution_count": 21,
   "metadata": {},
   "outputs": [
    {
     "data": {
      "text/plain": [
       "Text(0.5, 0, 'masses in solar masses')"
      ]
     },
     "execution_count": 21,
     "metadata": {},
     "output_type": "execute_result"
    },
    {
     "data": {
      "image/png": "[encoded data removed]",
      "text/plain": [
       "<Figure size 432x288 with 2 Axes>"
      ]
     },
     "metadata": {
      "needs_background": "light"
     },
     "output_type": "display_data"
    }
   ],
   "source": [
    "fig,ax= plt.subplots()\n",
    "im=ax.imshow(np.min(testedmasses, axis= 2),extent = [min(massestotest), max(massestotest),max(periodstotest),min(periodstotest)], aspect='auto')\n",
    "\n",
    "fig.colorbar(im)\n",
    "ax.set_ylabel('period in days')\n",
    "ax.set_xlabel('masses in solar masses')"
   ]
  },
  {
   "cell_type": "code",
   "execution_count": 22,
   "metadata": {},
   "outputs": [
    {
     "data": {
      "text/plain": [
       "Text(0.5, 0, 'masses in solar masses')"
      ]
     },
     "execution_count": 22,
     "metadata": {},
     "output_type": "execute_result"
    },
    {
     "data": {
      "image/png": "[encoded data removed]",
      "text/plain": [
       "<Figure size 432x288 with 2 Axes>"
      ]
     },
     "metadata": {
      "needs_background": "light"
     },
     "output_type": "display_data"
    }
   ],
   "source": [
    "fig,ax= plt.subplots()\n",
    "im=ax.imshow(np.min(testedperiods, axis= 2),extent = [min(massestotest), max(massestotest),max(periodstotest),min(periodstotest)], aspect='auto')\n",
    "\n",
    "fig.colorbar(im)\n",
    "ax.set_ylabel('period in days')\n",
    "ax.set_xlabel('masses in solar masses')"
   ]
  },
  {
   "cell_type": "code",
   "execution_count": 23,
   "metadata": {},
   "outputs": [
    {
     "data": {
      "text/plain": [
       "[<matplotlib.lines.Line2D at 0x7ffdd2a6f370>]"
      ]
     },
     "execution_count": 23,
     "metadata": {},
     "output_type": "execute_result"
    },
    {
     "data": {
      "image/png": "[encoded data removed]",
      "text/plain": [
       "<Figure size 432x288 with 1 Axes>"
      ]
     },
     "metadata": {
      "needs_background": "light"
     },
     "output_type": "display_data"
    }
   ],
   "source": [
    "plt.plot(np.resize(a, 5*5*6))"
   ]
  },
  {
   "cell_type": "code",
   "execution_count": 24,
   "metadata": {},
   "outputs": [],
   "source": [
    "np.savez(\"biggerperiastronmasstest.npz\",a=a,massestotest=massestotest,periodstotest=periodstotest,periastrontotest=periastrontotest )"
   ]
  },
  {
   "cell_type": "code",
   "execution_count": 25,
   "metadata": {},
   "outputs": [],
   "source": [
    "f=np.load('biggerperiastronmasstest.npz')\n",
    "a = f[\"a\"]\n",
    "massestotest = f['massestotest']\n",
    "periodstotest = f['periodstotest']\n",
    "meananomolytotest = f['periastrontotest']"
   ]
  },
  {
   "cell_type": "code",
   "execution_count": 26,
   "metadata": {},
   "outputs": [
    {
     "name": "stdout",
     "output_type": "stream",
     "text": [
      "[[[  14.49246041   15.11923234   14.64085029 ...   15.08759597\n",
      "     14.5591885    14.49245844]\n",
      "  [  95.4798212    93.50091133   73.12167852 ...   92.85291909\n",
      "     96.32901506   95.47982272]\n",
      "  [ 318.13657262  292.04726264  227.53842968 ...  290.34383337\n",
      "    319.45452481  318.13657418]\n",
      "  ...\n",
      "  [3463.45904101 3004.9690277  2362.93870446 ... 2983.17359848\n",
      "   3463.05711238 3463.45904734]\n",
      "  [4481.34479726 3876.17311165 3048.55094374 ... 3845.67108978\n",
      "   4479.68216162 4481.34480356]\n",
      "  [5623.22433164 4852.11908171 3815.89960632 ... 4810.73027483\n",
      "   5619.95669899 5623.224308  ]]\n",
      "\n",
      " [[  13.69902974   14.30579972   15.03784579 ...   13.63792966\n",
      "     13.75579309   13.69902974]\n",
      "  [  20.31720268   22.8873201    43.44860073 ...   23.47086572\n",
      "     26.79321599   20.31720268]\n",
      "  [  52.26687992   44.55824652  102.15864627 ...   66.33236182\n",
      "     75.6471772    52.26687988]\n",
      "  ...\n",
      "  [ 569.51168096  343.61163721  832.42907256 ...  755.83337323\n",
      "    834.73252038  569.5116817 ]\n",
      "  [ 740.18260874  440.48026055 1062.38818814 ...  984.87826751\n",
      "   1085.19355216  740.18261017]\n",
      "  [ 931.90056862  549.35404419 1319.20641442 ... 1243.05580512\n",
      "   1367.1498836   931.90057548]]\n",
      "\n",
      " [[  13.88622425   14.22911294   14.71421671 ...   13.94985481\n",
      "     13.83791056   13.88622425]\n",
      "  [  15.61507516   17.36260496   25.86879604 ...   16.69524481\n",
      "     13.46103389   15.61507516]\n",
      "  [  28.81519155   25.47615255   44.02342678 ...   31.09731145\n",
      "     21.96503141   28.81519118]\n",
      "  ...\n",
      "  [ 258.79068727  136.17607731  236.3087181  ...  269.3828913\n",
      "    192.13426258  258.79066897]\n",
      "  [ 336.02516745  171.4734166   294.39040711 ...  348.64825493\n",
      "    250.62685016  336.02516051]\n",
      "  [ 423.17452544  210.88101672  358.79417993 ...  437.92257591\n",
      "    316.92868399  423.17453407]]\n",
      "\n",
      " ...\n",
      "\n",
      " [[  14.22572693   14.19271762   14.16859557 ...   14.17053384\n",
      "     14.21412569   14.22572693]\n",
      "  [  14.6074853    14.09596444   13.74080799 ...   13.76684966\n",
      "     14.42613652   14.6074853 ]\n",
      "  [  15.00936743   14.00939322   13.35051993 ...   13.39380427\n",
      "     14.65188429   15.00936743]\n",
      "  ...\n",
      "  [  17.31030967   13.72440581   11.94278384 ...   11.97184309\n",
      "     15.9797235    17.31030967]\n",
      "  [  17.82674942   13.69604379   11.76635185 ...   11.7729303\n",
      "     16.28375242   17.82674942]\n",
      "  [  18.36126095   13.67690626   11.62379346 ...   11.60148446\n",
      "     16.60015919   18.36126095]]\n",
      "\n",
      " [[  14.22501803   14.19582737   14.17080646 ...   14.17053815\n",
      "     14.21096948   14.22501803]\n",
      "  [  14.59626896   14.14172227   13.77276728 ...   13.76693279\n",
      "     14.37575965   14.59626896]\n",
      "  [  14.98706043   14.0942271    13.40860444 ...   13.3939336\n",
      "     14.5506167    14.98706043]\n",
      "  ...\n",
      "  [  17.22393322   13.95273588   12.07905967 ...   11.97172314\n",
      "     15.57083802   17.22393322]\n",
      "  [  17.7259018    13.94301603   11.90813596 ...   11.7726872\n",
      "     15.80305578   17.7259018 ]\n",
      "  [  18.24541749   13.93929562   11.76781779 ...   11.60110071\n",
      "     16.0443513    18.24541749]]\n",
      "\n",
      " [[  14.22402589   14.19838933   14.1731026  ...   14.17097548\n",
      "     14.20817808   14.22402589]\n",
      "  [  14.58060423   14.17979747   13.8058554  ...   13.77336042\n",
      "     14.33144532   14.58060423]\n",
      "  [  14.95568839   14.16546334   13.46855128 ...   13.405735\n",
      "     14.46197237   14.95568839]\n",
      "  ...\n",
      "  [  17.09904406   14.15561504   12.21641312 ...   12.00164219\n",
      "     15.21966728   17.09904406]\n",
      "  [  17.57941509   14.16561273   12.04997798 ...   11.8045415\n",
      "     15.39149779   17.57941509]\n",
      "  [  18.07641097   14.17947406   11.91060811 ...   11.63435434\n",
      "     15.56984863   18.07641097]]]\n"
     ]
    }
   ],
   "source": [
    "print(f[\"a\"])"
   ]
  },
  {
   "cell_type": "code",
   "execution_count": 27,
   "metadata": {},
   "outputs": [
    {
     "name": "stdout",
     "output_type": "stream",
     "text": [
      "6.808982454326428e-07\n"
     ]
    },
    {
     "name": "stderr",
     "output_type": "stream",
     "text": [
      "<ipython-input-27-b17d73cc2d40>:8: RuntimeWarning: divide by zero encountered in log10\n",
      "  im=ax.imshow(np.maximum(np.log10(planetlikihood/noplanetlikihood), -4 ),extent = [min(massestotest)*1047.572, max(massestotest)*1047.572,max(periodstotest),min(periodstotest)], aspect='auto')\n"
     ]
    },
    {
     "data": {
      "text/plain": [
       "Text(0.5, 0, 'masses in Jupiter masses')"
      ]
     },
     "execution_count": 27,
     "metadata": {},
     "output_type": "execute_result"
    },
    {
     "data": {
      "image/png": "[encoded data removed]",
      "text/plain": [
       "<Figure size 432x288 with 2 Axes>"
      ]
     },
     "metadata": {
      "needs_background": "light"
     },
     "output_type": "display_data"
    }
   ],
   "source": [
    "noplanetlikihood=np.exp(loglikelihood([0,120,0,90,\n",
    "                                               4.6220554014026838e-01,1.6437004273382669e+00,\n",
    "                                               10,1.40795,-90],actualbrucetransittime , bruceerr, yesplot= False)*-1)\n",
    "print(noplanetlikihood)\n",
    "planetlikihood = np.exp(-1*np.min(a, axis= 2))\n",
    "\n",
    "fig,ax= plt.subplots()\n",
    "im=ax.imshow(np.maximum(np.log10(planetlikihood/noplanetlikihood), -4 ),extent = [min(massestotest)*1047.572, max(massestotest)*1047.572,max(periodstotest),min(periodstotest)], aspect='auto')\n",
    "\n",
    "fig.colorbar(im, label = 'log base ten probability')\n",
    "ax.set_ylabel('period in days')\n",
    "ax.set_xlabel('masses in Jupiter masses')"
   ]
  },
  {
   "cell_type": "code",
   "execution_count": 28,
   "metadata": {},
   "outputs": [
    {
     "name": "stdout",
     "output_type": "stream",
     "text": [
      "6.808982454326428e-07\n",
      "[[9.72369620e-007 1.67242770e-028 9.09254579e-095 4.63146608e-205\n",
      "  0.00000000e+000 0.00000000e+000 0.00000000e+000 0.00000000e+000\n",
      "  0.00000000e+000 0.00000000e+000]\n",
      " [1.32177184e-006 1.08959978e-008 4.45245372e-020 4.20552523e-035\n",
      "  1.13723017e-055 1.03112361e-081 3.65956517e-113 5.90693294e-150\n",
      "  5.03330739e-192 2.62162154e-239]\n",
      " [9.77849011e-007 1.42543448e-006 2.88873739e-010 2.02992187e-017\n",
      "  4.27637843e-025 9.16030429e-035 2.25869766e-046 7.23570842e-060\n",
      "  3.38876440e-075 2.60338322e-092]\n",
      " [9.46298679e-007 9.28808438e-006 1.01827242e-006 1.35004454e-009\n",
      "  2.34041993e-014 5.72811253e-021 2.13423675e-029 1.30360579e-039\n",
      "  1.40388192e-051 2.93388609e-065]\n",
      " [9.32939640e-007 1.47465923e-005 1.15236896e-005 1.73738224e-006\n",
      "  3.30339267e-008 8.22669170e-011 2.78515855e-014 1.32953007e-018\n",
      "  9.27626084e-024 9.79929960e-030]\n",
      " [8.29231918e-007 6.63794932e-006 2.01520886e-005 2.32986937e-005\n",
      "  1.04407753e-005 1.84524537e-006 1.30825130e-007 3.78364972e-009\n",
      "  4.53781753e-011 2.29360360e-013]\n",
      " [7.54685878e-007 2.39479061e-006 4.20998116e-006 4.14444834e-006\n",
      "  2.30889849e-006 7.35510123e-007 1.35342830e-007 1.45305906e-008\n",
      "  9.19159682e-010 3.45893313e-011]\n",
      " [7.50834254e-007 2.10165943e-006 3.52163050e-006 3.54350132e-006\n",
      "  2.78661236e-006 1.58736112e-006 6.40141818e-007 1.83914794e-007\n",
      "  3.78791681e-008 5.62693426e-009]\n",
      " [7.56662419e-007 2.58516109e-006 5.23064224e-006 6.32419367e-006\n",
      "  4.60971505e-006 2.04330416e-006 7.68832090e-007 3.51859721e-007\n",
      "  1.29695352e-007 3.86472545e-008]\n",
      " [7.52285429e-007 2.47667028e-006 5.25595679e-006 7.24136827e-006\n",
      "  6.52246694e-006 3.86733129e-006 1.51970533e-006 3.98426624e-007\n",
      "  7.74612319e-008 3.54835938e-008]\n",
      " [7.28306112e-007 1.57130058e-006 2.71976105e-006 3.82730204e-006\n",
      "  4.37194600e-006 4.06794592e-006 3.09358750e-006 1.92927490e-006\n",
      "  9.89904401e-007 4.19237235e-007]\n",
      " [7.32750716e-007 1.74767889e-006 2.97428512e-006 3.63228070e-006\n",
      "  3.20091876e-006 2.63433253e-006 2.48254676e-006 2.39472404e-006\n",
      "  2.15796497e-006 1.81816993e-006]\n",
      " [7.22102436e-007 1.57876837e-006 3.08979982e-006 5.42279159e-006\n",
      "  8.54997493e-006 1.21315687e-005 1.55177425e-005 1.79237381e-005\n",
      "  1.87260846e-005 1.77251092e-005]\n",
      " [7.27955691e-007 1.71313291e-006 3.33922337e-006 5.40776680e-006\n",
      "  7.29883800e-006 8.23498431e-006 7.79003849e-006 6.19662689e-006\n",
      "  4.15682850e-006 2.35825718e-006]\n",
      " [7.21951419e-007 1.58892253e-006 3.18695288e-006 5.83413939e-006\n",
      "  9.76237787e-006 1.49535197e-005 2.09974334e-005 2.70667897e-005\n",
      "  3.20744451e-005 3.49886838e-005]\n",
      " [7.29882537e-007 1.85455599e-006 4.19270047e-006 8.44980806e-006\n",
      "  1.52096743e-005 2.44972704e-005 3.53698710e-005 4.58613826e-005\n",
      "  5.34966446e-005 5.62375906e-005]\n",
      " [7.31178935e-007 1.87633887e-006 4.16240666e-006 8.00101836e-006\n",
      "  1.33576582e-005 1.94127141e-005 2.46144525e-005 2.72899793e-005\n",
      "  2.65137028e-005 2.26215118e-005]\n",
      " [7.27329325e-007 1.71783769e-006 3.46056097e-006 5.96109054e-006\n",
      "  8.80265096e-006 1.11706969e-005 1.23526368e-005 1.61475162e-005\n",
      "  1.99386484e-005 2.32748944e-005]\n",
      " [7.20309274e-007 1.50822382e-006 2.85380453e-006 4.88388346e-006\n",
      "  7.57181562e-006 1.06517921e-005 1.42439572e-005 1.83738662e-005\n",
      "  2.21651240e-005 2.50298727e-005]\n",
      " [7.22823633e-007 1.60506558e-006 3.19764520e-006 5.72540999e-006\n",
      "  9.22930470e-006 1.34169115e-005 1.76189882e-005 2.09347217e-005\n",
      "  2.25429804e-005 2.20344939e-005]\n",
      " [7.23626975e-007 1.62840621e-006 3.27224543e-006 5.88231042e-006\n",
      "  9.47646581e-006 1.37056038e-005 1.78259457e-005 2.08855649e-005\n",
      "  2.20802632e-005 2.10979498e-005]\n",
      " [7.22643490e-007 1.59470579e-006 3.14162058e-006 5.53522367e-006\n",
      "  8.73758742e-006 1.23788442e-005 1.57668790e-005 1.80850998e-005\n",
      "  1.87123154e-005 1.74934873e-005]\n",
      " [7.20405819e-007 1.52469114e-006 2.89453239e-006 4.93762353e-006\n",
      "  7.58112999e-006 1.04940546e-005 1.31178041e-005 1.48314428e-005\n",
      "  1.51914789e-005 1.41184418e-005]\n",
      " [7.17386561e-007 1.43636027e-006 2.60282581e-006 4.27541958e-006\n",
      "  6.37580022e-006 8.64518640e-006 1.06744677e-005 1.20196002e-005\n",
      "  1.23604814e-005 1.37034758e-005]\n",
      " [7.13937834e-007 1.34252971e-006 2.31142800e-006 3.64862101e-006\n",
      "  5.28766857e-006 7.04479603e-006 8.63997408e-006 9.76701814e-006\n",
      "  1.11578210e-005 1.32161145e-005]\n",
      " [7.10348825e-007 1.25116370e-006 2.04344553e-006 3.09835659e-006\n",
      "  4.36641611e-006 5.72586491e-006 6.99469390e-006 8.33657195e-006\n",
      "  1.01264634e-005 1.18432057e-005]\n",
      " [7.06797551e-007 1.16659375e-006 1.80810708e-006 2.63411765e-006\n",
      "  3.61056710e-006 4.66075898e-006 5.94585389e-006 7.41655845e-006\n",
      "  8.91510357e-006 1.03328004e-005]\n",
      " [7.03417328e-007 1.09073953e-006 1.60691639e-006 2.26671601e-006\n",
      "  3.11195926e-006 4.12176378e-006 5.26952239e-006 6.50601227e-006\n",
      "  7.76136878e-006 9.15249111e-006]\n",
      " [7.01154097e-007 1.04977700e-006 1.52436352e-006 2.14781781e-006\n",
      "  2.93775656e-006 3.90258485e-006 5.03731071e-006 6.32043112e-006\n",
      "  7.71235322e-006 9.15600409e-006]\n",
      " [7.00847525e-007 1.04305107e-006 1.50647963e-006 2.11247404e-006\n",
      "  2.87734931e-006 3.80854897e-006 4.90099032e-006 6.13413070e-006\n",
      "  7.47055322e-006 8.85654044e-006]]\n",
      "[[  13.84352984   63.95810632  216.5381289   470.4970706   815.31308522\n",
      "  1244.41146244 1760.920979   2362.93870446 3048.55094374 3815.89960632]\n",
      " [  13.53653742   18.33487029   44.55824652   79.15407906  126.51358449\n",
      "   186.47874344  258.89477117  343.61163721  440.48026055  549.35404419]\n",
      " [  13.83791056   13.46103389   21.96503141   38.43594928   56.11152084\n",
      "    78.37559886  105.10412589  136.17607731  171.4734166   210.88101672]\n",
      " [  13.87070759   11.58677823   13.79740308   20.42312825   31.38586093\n",
      "    46.60890088   66.01685861   89.53568452  117.09259854  148.59170319]\n",
      " [  13.88492533   11.12449853   11.37110568   13.26313104   17.22573072\n",
      "    23.22105207   31.2118865    41.16170612   53.03458369   66.79524188]\n",
      " [  14.00276596   11.92270748   10.81220262   10.66711326   11.46979172\n",
      "    13.2028983    15.84940429   19.39257676   23.81598985   29.103482  ]\n",
      " [  14.09696423   12.94221476   12.37805239   12.39374087   12.97873999\n",
      "    14.12270153   15.81545479   18.04700972   20.80756125   24.08747582]\n",
      " [  14.10208091   13.07278332   12.55658647   12.55039525   12.79068391\n",
      "    13.35343759   14.2615761    15.50879326   17.08886453   18.99570108]\n",
      " [  14.09434863   12.86572274   12.16097649   11.97112801   12.28734451\n",
      "    13.10094237   14.07839324   14.86003326   15.85807758   17.0687901 ]\n",
      " [  14.10015003   12.90859553   12.1561485    11.83570038   11.94025789\n",
      "    12.46294588   13.39699411   14.73574249   16.37348826   17.15419539]\n",
      " [  14.13254439   13.36360689   12.81496653   12.47335043   12.34030234\n",
      "    12.41237237   12.68617914   13.15836633   13.82565746   14.68482888]\n",
      " [  14.12646028   13.257222     12.72550684   12.52564981   12.65207268\n",
      "    12.84688072   12.90622561   12.94224256   13.04634492   13.2176801 ]\n",
      " [  14.14109883   13.35886553   12.68740425   12.12489982   11.66958221\n",
      "    11.31969952   11.07352651   10.92938457   10.88559311   10.94052833]\n",
      " [  14.13302565   13.27718676   12.6097723    12.12767434   11.8277954\n",
      "    11.7071191    11.76266476   11.99150546   12.39075815   12.9575877 ]\n",
      " [  14.14130799   13.35245443   12.65644531   12.05178379   11.53697455\n",
      "    11.11056386   10.77111035   10.51720305   10.34745095   10.26048587]\n",
      " [  14.13038222   13.19786525   12.38216553   11.68136683   11.09357886\n",
      "    10.61694886   10.2496502     9.98988713    9.83589162    9.78592515]\n",
      " [  14.12860763   13.18618809   12.38941713   11.73594173   11.22342069\n",
      "    10.84958234   10.61217679   10.50899098   10.53784887   10.69660925]\n",
      " [  14.13388647   13.27444421   12.57407985   12.03025712   11.64045764\n",
      "    11.40221655   11.30164101   11.03374432   10.82285058   10.66813527]\n",
      " [  14.14358517   13.40457788   12.76685753   12.22956986   11.79107767\n",
      "    11.44978241   11.1591778    10.90458122   10.7169905    10.59544054]\n",
      " [  14.14010058   13.34234594   12.65309589   12.0705964    11.59312684\n",
      "    11.21899459   10.94653336   10.77410145   10.70008683   10.72290143]\n",
      " [  14.13898981   13.32790881   12.63003413   12.04356095   11.56669912\n",
      "    11.19770577   10.93485554   10.77645231   10.72082642   10.76633469]\n",
      " [  14.14034983   13.34882129   12.67077178   12.10437858   11.64787644\n",
      "    11.29952165   11.05759909   10.92042218   10.88632868   10.9536819 ]\n",
      " [  14.14345115   13.3937187    12.75268698   12.21862641   11.78984829\n",
      "    11.46470169   11.24154016   11.11876112   11.09477588   11.16802868]\n",
      " [  14.147651     13.45339823   12.85891285   12.36262831   11.96300095\n",
      "    11.65850788   11.44765587   11.32897189   11.30100615   11.19786105]\n",
      " [  14.15246995   13.52095488   12.97764504   12.52116127   12.15013313\n",
      "    11.86322137   11.65911097   11.53649934   11.40336987   11.23407368]\n",
      " [  14.15750968   13.59143648   13.10087319   12.68463872   12.341568\n",
      "    12.07051694   11.87035871   11.69485846   11.50035842   11.34375622]\n",
      " [  14.16252156   13.66142238   13.22323007   12.84696229   12.53164571\n",
      "    12.27633225   12.03281641   11.81179543   11.62776369   11.48018722]\n",
      " [  14.16731548   13.72865462   13.3411935    12.99717847   12.68025804\n",
      "    12.39922938   12.15357083   11.94278384   11.76635185   11.60148446]\n",
      " [  14.17053815   13.76693279   13.3939336    13.0510582    12.73786434\n",
      "    12.45387144   12.19863821   11.97172314   11.7726872    11.60110071]\n",
      " [  14.17097548   13.77336042   13.405735     13.06765077   12.75864107\n",
      "    12.47826229   12.22607327   12.00164219   11.8045415    11.63435434]]\n"
     ]
    }
   ],
   "source": [
    "print(noplanetlikihood)\n",
    "print(planetlikihood)\n",
    "print(np.min(a, axis = 2))"
   ]
  },
  {
   "cell_type": "code",
   "execution_count": 29,
   "metadata": {},
   "outputs": [],
   "source": [
    "#test=loglikelihood([massestotest[c],periodstotest[d],0.6,8.7598285693573246e+01,\n",
    "                                              # 4.6220554014026838e-01,1.6437004273382669e+00,\n",
    "                                               #meananomolytotest[e],1.40795,-90],actualbrucetransittime , bruceerr, yesplot= True)\n",
    "#print(test)\n",
    "#print(noplanetlikihood)"
   ]
  },
  {
   "cell_type": "code",
   "execution_count": 30,
   "metadata": {},
   "outputs": [
    {
     "name": "stdout",
     "output_type": "stream",
     "text": [
      "(79, 10, 58)\n",
      "301.0033444816054\n",
      "0.0013393163458266385\n",
      "210.9090909090909\n"
     ]
    }
   ],
   "source": [
    "import numpy as np\n",
    "f=np.load('biggerperiastronmass.npz')\n",
    "a = f[\"a\"]\n",
    "ind = np.unravel_index(np.argmin(f[\"a\"], axis=None), f[\"a\"].shape)\n",
    "print(ind)\n",
    "print(f[\"periodstotest\"][ind[0]])\n",
    "print(f[\"massestotest\"][ind[1]])\n",
    "#meananomolytotest = np.linspace(0,360,100)\n",
    "print(f[\"periastrontotest\"][ind[2]])"
   ]
  },
  {
   "cell_type": "code",
   "execution_count": 31,
   "metadata": {},
   "outputs": [
    {
     "name": "stdout",
     "output_type": "stream",
     "text": [
      "[315.90886837 332.80413679 360.96292936 384.89789415 391.93759056\n",
      " 394.7534865  401.79315997 415.87255671 425.72812932 439.80752397\n",
      "  79.375085   211.721367   280.710383   290.565959   314.500916  ]\n",
      "[315.91077133 332.80617405 360.96517895 384.90033267 391.94008358\n",
      " 394.75598392 401.7957347  415.87523606 425.73088693 439.81038826\n",
      "  79.37513924 211.72245677 280.71201659 290.56766782 314.50282112]\n"
     ]
    },
    {
     "data": {
      "image/png": "[encoded data removed]",
      "text/plain": [
       "<Figure size 1152x576 with 1 Axes>"
      ]
     },
     "metadata": {
      "needs_background": "light"
     },
     "output_type": "display_data"
    }
   ],
   "source": [
    "somethingwedontcareabout=np.exp(loglikelihood([f[\"massestotest\"][ind[1]],f[\"periodstotest\"][ind[0]],0,90,\n",
    "                                               4.6220554014026838e-01,f[\"periastrontotest\"][ind[2]],\n",
    "                                               -1.9584857031843157e+01,1.40795,-90],actualbrucetransittime , bruceerr, yesplot= True)*-1)"
   ]
  },
  {
   "cell_type": "code",
   "execution_count": 32,
   "metadata": {},
   "outputs": [
    {
     "name": "stdout",
     "output_type": "stream",
     "text": [
      "6.808982454326428e-07\n",
      "(300, 100, 100)\n",
      "(300, 100)\n"
     ]
    },
    {
     "data": {
      "image/png": "[encoded data removed]",
      "text/plain": [
       "<Figure size 432x288 with 2 Axes>"
      ]
     },
     "metadata": {
      "needs_background": "light"
     },
     "output_type": "display_data"
    }
   ],
   "source": [
    "\n",
    "noplanetlikihood=np.exp(loglikelihood([0,120,0,90,\n",
    "                                               4.6220554014026838e-01,1.6437004273382669e+00,\n",
    "                                               10,1.40795,-90],actualbrucetransittime , bruceerr, yesplot= False)*-1)\n",
    "print(noplanetlikihood)\n",
    "planetlikihood = np.exp(-1*a[:,0,:])\n",
    "fig,ax= plt.subplots()\n",
    "im=ax.imshow(np.maximum(np.log10(planetlikihood/noplanetlikihood),-4 ),extent = [min(massestotest)*1047.572, max(massestotest)*1047.572,max(periodstotest),min(periodstotest)], aspect='auto')\n",
    "\n",
    "fig.colorbar(im, label = 'log base ten probability')\n",
    "ax.set_xlabel('periods in days')\n",
    "ax.set_ylabel('masses in jupiter masses')\n",
    "print(np.shape(a))\n",
    "print(np.shape(planetlikihood))"
   ]
  },
  {
   "cell_type": "code",
   "execution_count": 33,
   "metadata": {},
   "outputs": [
    {
     "ename": "IndexError",
     "evalue": "index 35 is out of bounds for axis 0 with size 10",
     "output_type": "error",
     "traceback": [
      "\u001b[0;31m---------------------------------------------------------------------------\u001b[0m",
      "\u001b[0;31mIndexError\u001b[0m                                Traceback (most recent call last)",
      "\u001b[0;32m<ipython-input-33-76fcfb409d1f>\u001b[0m in \u001b[0;36m<module>\u001b[0;34m\u001b[0m\n\u001b[0;32m----> 1\u001b[0;31m test=loglikelihood([massestotest[35],periodstotest[0],0.6,8.7598285693573246e+01,\n\u001b[0m\u001b[1;32m      2\u001b[0m                                                \u001b[0;36m4.6220554014026838e-01\u001b[0m\u001b[0;34m,\u001b[0m\u001b[0mperiastrontotest\u001b[0m\u001b[0;34m[\u001b[0m\u001b[0;36m0\u001b[0m\u001b[0;34m]\u001b[0m\u001b[0;34m,\u001b[0m\u001b[0;34m\u001b[0m\u001b[0;34m\u001b[0m\u001b[0m\n\u001b[1;32m      3\u001b[0m                                                -1.9584857031843157e+01,1.40795,-90],actualbrucetransittime , bruceerr, yesplot= True)\n\u001b[1;32m      4\u001b[0m \u001b[0;31m#print(test)\u001b[0m\u001b[0;34m\u001b[0m\u001b[0;34m\u001b[0m\u001b[0;34m\u001b[0m\u001b[0m\n\u001b[1;32m      5\u001b[0m \u001b[0;31m#print(noplanetlikihood)\u001b[0m\u001b[0;34m\u001b[0m\u001b[0;34m\u001b[0m\u001b[0;34m\u001b[0m\u001b[0m\n",
      "\u001b[0;31mIndexError\u001b[0m: index 35 is out of bounds for axis 0 with size 10"
     ]
    }
   ],
   "source": [
    "test=loglikelihood([massestotest[35],periodstotest[0],0.6,8.7598285693573246e+01,\n",
    "                                               4.6220554014026838e-01,periastrontotest[0],\n",
    "                                               -1.9584857031843157e+01,1.40795,-90],actualbrucetransittime , bruceerr, yesplot= True)\n",
    "#print(test)\n",
    "#print(noplanetlikihood)\n",
    "#a[c,d,e]=loglikelihood([1/1047.572,130,ecentricitiestotest[c],inclinationstotest[d],\n",
    "                                               #4.6220554014026838e-01,1.6437004273382669e+00,\n",
    "                                               #meananomolytotest[e],1.40795,-90],actualbrucetransittime , bruceerr)\n",
    "print(a[35,0,0])\n",
    "print(a[35,0,1])\n",
    "planetlikihood = np.exp(-1*a[35,0,1])\n",
    "ratio = np.maximum(np.log10(planetlikihood/noplanetlikihood),-4 ) \n",
    "print(ratio)\n"
   ]
  },
  {
   "cell_type": "code",
   "execution_count": null,
   "metadata": {},
   "outputs": [],
   "source": [
    "#fig,ax= plt.subplots()\n",
    "#im=ax.imshow(np.log(a[:,0,:]))\n",
    "#np.shape(a[:,0,:])"
   ]
  },
  {
   "cell_type": "code",
   "execution_count": null,
   "metadata": {},
   "outputs": [],
   "source": [
    "#junk=np.random.uniform(0,1,(3,6))\n",
    "#print(junk)\n",
    "#fig,ax= plt.subplots()\n",
    "#im=ax.imshow(junk)"
   ]
  },
  {
   "cell_type": "code",
   "execution_count": 26,
   "metadata": {},
   "outputs": [
    {
     "name": "stdout",
     "output_type": "stream",
     "text": [
      "(79, 10, 58)\n",
      "301.0033444816054\n",
      "0.0013393163458266385\n",
      "210.9090909090909\n"
     ]
    }
   ],
   "source": [
    "import numpy as np\n",
    "f=np.load('biggerperiastronmass.npz')\n",
    "a = f[\"a\"]\n",
    "ind = np.unravel_index(np.argmin(f[\"a\"], axis=None), f[\"a\"].shape)\n",
    "print(ind)\n",
    "print(f[\"periodstotest\"][ind[0]])\n",
    "print(f[\"massestotest\"][ind[1]])\n",
    "#meananomolytotest = np.linspace(0,360,100)\n",
    "print(f[\"periastrontotest\"][ind[2]])\n"
   ]
  },
  {
   "cell_type": "code",
   "execution_count": 27,
   "metadata": {},
   "outputs": [
    {
     "name": "stdout",
     "output_type": "stream",
     "text": [
      "6.808982454326428e-07\n"
     ]
    },
    {
     "name": "stderr",
     "output_type": "stream",
     "text": [
      "<ipython-input-27-b17d73cc2d40>:8: RuntimeWarning: divide by zero encountered in log10\n",
      "  im=ax.imshow(np.maximum(np.log10(planetlikihood/noplanetlikihood), -4 ),extent = [min(massestotest)*1047.572, max(massestotest)*1047.572,max(periodstotest),min(periodstotest)], aspect='auto')\n"
     ]
    },
    {
     "data": {
      "text/plain": [
       "Text(0.5, 0, 'masses in Jupiter masses')"
      ]
     },
     "execution_count": 27,
     "metadata": {},
     "output_type": "execute_result"
    },
    {
     "data": {
      "image/png": "[encoded data removed]",
      "text/plain": [
       "<Figure size 432x288 with 2 Axes>"
      ]
     },
     "metadata": {
      "needs_background": "light"
     },
     "output_type": "display_data"
    }
   ],
   "source": [
    "noplanetlikihood=np.exp(loglikelihood([0,120,0,90,\n",
    "                                               4.6220554014026838e-01,1.6437004273382669e+00,\n",
    "                                               10,1.40795,-90],actualbrucetransittime , bruceerr, yesplot= False)*-1)\n",
    "print(noplanetlikihood)\n",
    "planetlikihood = np.exp(-1*np.min(a, axis= 2))\n",
    "\n",
    "fig,ax= plt.subplots()\n",
    "im=ax.imshow(np.maximum(np.log10(planetlikihood/noplanetlikihood), -4 ),extent = [min(massestotest)*1047.572, max(massestotest)*1047.572,max(periodstotest),min(periodstotest)], aspect='auto')\n",
    "\n",
    "fig.colorbar(im, label = 'log base ten probability')\n",
    "ax.set_ylabel('period in days')\n",
    "ax.set_xlabel('masses in Jupiter masses')\n",
    "#pretty sure ecentricity was not at zero"
   ]
  },
  {
   "cell_type": "code",
   "execution_count": null,
   "metadata": {},
   "outputs": [],
   "source": []
  }
 ],
 "metadata": {
  "kernelspec": {
   "display_name": "Python 3",
   "language": "python",
   "name": "python3"
  },
  "language_info": {
   "codemirror_mode": {
    "name": "ipython",
    "version": 3
   },
   "file_extension": ".py",
   "mimetype": "text/x-python",
   "name": "python",
   "nbconvert_exporter": "python",
   "pygments_lexer": "ipython3",
   "version": "3.8.8"
  }
 },
 "nbformat": 4,
 "nbformat_minor": 4
}
