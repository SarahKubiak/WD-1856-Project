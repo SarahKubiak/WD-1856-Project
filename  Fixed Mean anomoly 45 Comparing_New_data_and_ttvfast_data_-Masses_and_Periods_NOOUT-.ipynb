{
 "cells": [
  {
   "cell_type": "code",
   "execution_count": 1,
   "metadata": {},
   "outputs": [],
   "source": [
    "import ttvfast\n",
    "import numpy as np\n",
    "import pandas as pd \n",
    "import matplotlib.pyplot as plt\n",
    "from ttvfast import models\n",
    "import pdb\n",
    "\n",
    "\n",
    "\n",
    "gravity =  0.000295994511                        # AU^3/day^2/M_sun\n",
    "stellar_mass = 0.518 #0.95573417954    #change me                # M_sun\n",
    "\n",
    "\n",
    "planet1 = models.Planet(\n",
    "    mass=0.00954588, #0.00002878248,                         # M_sun\n",
    "    period=1.4079405,#1.0917340278625494e+01,              # days\n",
    "    eccentricity=0,#5.6159310042858110e-02,\n",
    "    inclination=88.778,#9.0921164935951211e+01,         # degrees\n",
    "    longnode=-1.1729336712101943e-18,           # degrees\n",
    "    argument=1.8094838714599581e+02,            # degrees\n",
    "    mean_anomaly= -90 #-8.7093652691581923e+01,       # degrees\n",
    ")\n",
    "\n",
    "planet2 = models.Planet(\n",
    "    mass=0.00954588,#0.00061895914,\n",
    "    period=200,#1.4079405,#2.2266898036209028e+01,\n",
    "    eccentricity= 0.7, #5.6691301931178648e-02,\n",
    "    inclination=8.7598285693573246e+01,\n",
    "    longnode=4.6220554014026838e-01,\n",
    "    argument=1.6437004273382669e+00,\n",
    "    mean_anomaly=-1.9584857031843157e+01,\n",
    ")\n",
    "\n",
    "planets = [planet1, planet2]\n",
    "Time = 66.70357200363651-1.4079405+0.003714472890699483 #-1045                                    # days\n",
    "dt = 0.02                                       # days\n",
    "Total = 510 #1700                                    # days\n",
    "\n",
    "results = ttvfast.ttvfast(planets, stellar_mass, Time, dt, Total)\n",
    "#print(results)"
   ]
  },
  {
   "cell_type": "code",
   "execution_count": 2,
   "metadata": {},
   "outputs": [],
   "source": [
    "#print(results.keys())\n",
    "#print(results[\"positions\"][2])\n",
    "whichplanet = results[\"positions\"][0]\n",
    "whichtransit = results[\"positions\"][1]\n",
    "transittimes = results[\"positions\"][2]\n",
    "planet1transits = []\n",
    "planet1times = []\n",
    "transittimesplanet0 = []\n",
    "transitnumberplanet0 = []\n",
    "for i in range(375):\n",
    "    a = whichplanet[i]\n",
    "    condition = a==0  \n",
    "    if condition: \n",
    "        transittimesplanet0.append(transittimes[i] )\n",
    "        transitnumberplanet0.append(whichtransit[i] )"
   ]
  },
  {
   "cell_type": "code",
   "execution_count": 3,
   "metadata": {},
   "outputs": [
    {
     "data": {
      "text/html": [
       "<div>\n",
       "<style scoped>\n",
       "    .dataframe tbody tr th:only-of-type {\n",
       "        vertical-align: middle;\n",
       "    }\n",
       "\n",
       "    .dataframe tbody tr th {\n",
       "        vertical-align: top;\n",
       "    }\n",
       "\n",
       "    .dataframe thead th {\n",
       "        text-align: right;\n",
       "    }\n",
       "</style>\n",
       "<table border=\"1\" class=\"dataframe\">\n",
       "  <thead>\n",
       "    <tr style=\"text-align: right;\">\n",
       "      <th></th>\n",
       "      <th>Time</th>\n",
       "      <th>Uncertainty</th>\n",
       "    </tr>\n",
       "  </thead>\n",
       "  <tbody>\n",
       "    <tr>\n",
       "      <th>0</th>\n",
       "      <td>2.459016e+06</td>\n",
       "      <td>0.000002</td>\n",
       "    </tr>\n",
       "    <tr>\n",
       "      <th>1</th>\n",
       "      <td>2.459033e+06</td>\n",
       "      <td>0.000002</td>\n",
       "    </tr>\n",
       "    <tr>\n",
       "      <th>2</th>\n",
       "      <td>2.459061e+06</td>\n",
       "      <td>0.000002</td>\n",
       "    </tr>\n",
       "    <tr>\n",
       "      <th>3</th>\n",
       "      <td>2.459085e+06</td>\n",
       "      <td>0.000002</td>\n",
       "    </tr>\n",
       "    <tr>\n",
       "      <th>4</th>\n",
       "      <td>2.459092e+06</td>\n",
       "      <td>0.000003</td>\n",
       "    </tr>\n",
       "    <tr>\n",
       "      <th>5</th>\n",
       "      <td>2.459095e+06</td>\n",
       "      <td>0.000009</td>\n",
       "    </tr>\n",
       "    <tr>\n",
       "      <th>6</th>\n",
       "      <td>2.459102e+06</td>\n",
       "      <td>0.000002</td>\n",
       "    </tr>\n",
       "    <tr>\n",
       "      <th>7</th>\n",
       "      <td>2.459116e+06</td>\n",
       "      <td>0.000003</td>\n",
       "    </tr>\n",
       "    <tr>\n",
       "      <th>8</th>\n",
       "      <td>2.459126e+06</td>\n",
       "      <td>0.000002</td>\n",
       "    </tr>\n",
       "    <tr>\n",
       "      <th>9</th>\n",
       "      <td>2.459140e+06</td>\n",
       "      <td>0.000003</td>\n",
       "    </tr>\n",
       "    <tr>\n",
       "      <th>10</th>\n",
       "      <td>2.458779e+06</td>\n",
       "      <td>0.000002</td>\n",
       "    </tr>\n",
       "    <tr>\n",
       "      <th>11</th>\n",
       "      <td>2.458912e+06</td>\n",
       "      <td>0.000003</td>\n",
       "    </tr>\n",
       "    <tr>\n",
       "      <th>12</th>\n",
       "      <td>2.458981e+06</td>\n",
       "      <td>0.000008</td>\n",
       "    </tr>\n",
       "    <tr>\n",
       "      <th>13</th>\n",
       "      <td>2.458991e+06</td>\n",
       "      <td>0.000006</td>\n",
       "    </tr>\n",
       "    <tr>\n",
       "      <th>14</th>\n",
       "      <td>2.459015e+06</td>\n",
       "      <td>0.000007</td>\n",
       "    </tr>\n",
       "  </tbody>\n",
       "</table>\n",
       "</div>"
      ],
      "text/plain": [
       "            Time  Uncertainty\n",
       "0   2.459016e+06     0.000002\n",
       "1   2.459033e+06     0.000002\n",
       "2   2.459061e+06     0.000002\n",
       "3   2.459085e+06     0.000002\n",
       "4   2.459092e+06     0.000003\n",
       "5   2.459095e+06     0.000009\n",
       "6   2.459102e+06     0.000002\n",
       "7   2.459116e+06     0.000003\n",
       "8   2.459126e+06     0.000002\n",
       "9   2.459140e+06     0.000003\n",
       "10  2.458779e+06     0.000002\n",
       "11  2.458912e+06     0.000003\n",
       "12  2.458981e+06     0.000008\n",
       "13  2.458991e+06     0.000006\n",
       "14  2.459015e+06     0.000007"
      ]
     },
     "execution_count": 3,
     "metadata": {},
     "output_type": "execute_result"
    }
   ],
   "source": [
    "# df=pd.read_csv(r'/Users/sarahkubiak/Desktop/WD1856/test.txt', sep=' ')\n",
    "df=pd.read_csv(r'/Users/sarahkubiak/Desktop/WD1856/newdatawithoutbadthings.txt', sep=' ')\n",
    "df"
   ]
  },
  {
   "cell_type": "code",
   "execution_count": 4,
   "metadata": {},
   "outputs": [],
   "source": [
    "brucetransittime=np.array(df['Time'])\n",
    "#brucetransittime= 1.40794050*brucetransitnumber + 2458779.3750828\n",
    "brucetransitnumber= np.round((brucetransittime-2458779.3750828)/1.40794050)\n",
    "#brucex= brucetransitnumber\n",
    "#brucey=np.array(df['dT[sec]'])\n",
    "bruceerr= np.array(df['Uncertainty'])*60*60*24\n",
    "#fig, ax = plt.subplots(figsize=(16, 8))\n",
    "\n",
    "#plt.errorbar(brucex, brucey, yerr = bruceerr, fmt = 'o')\n",
    "#ax.set_ylabel('seconds');\n",
    "#ax.set_xlabel('transit number');"
   ]
  },
  {
   "cell_type": "code",
   "execution_count": 5,
   "metadata": {},
   "outputs": [],
   "source": [
    "actualbrucetransittime = np.array(df['Time'])-2458700"
   ]
  },
  {
   "cell_type": "code",
   "execution_count": 6,
   "metadata": {},
   "outputs": [
    {
     "name": "stdout",
     "output_type": "stream",
     "text": [
      "315.9088683668524\n"
     ]
    }
   ],
   "source": [
    "print(actualbrucetransittime[0])"
   ]
  },
  {
   "cell_type": "code",
   "execution_count": 7,
   "metadata": {},
   "outputs": [
    {
     "name": "stdout",
     "output_type": "stream",
     "text": [
      "66.703572003636\n"
     ]
    }
   ],
   "source": [
    "print(transittimesplanet0[0])"
   ]
  },
  {
   "cell_type": "code",
   "execution_count": 8,
   "metadata": {},
   "outputs": [
    {
     "data": {
      "text/plain": [
       "-1.407952366862446"
      ]
     },
     "execution_count": 8,
     "metadata": {},
     "output_type": "execute_result"
    }
   ],
   "source": [
    "actualbrucetransittime[14]-actualbrucetransittime[0]"
   ]
  },
  {
   "cell_type": "code",
   "execution_count": 9,
   "metadata": {},
   "outputs": [
    {
     "data": {
      "text/plain": [
       "-249.2052963632164"
      ]
     },
     "execution_count": 9,
     "metadata": {},
     "output_type": "execute_result"
    }
   ],
   "source": [
    "transittimesplanet0[0]- actualbrucetransittime[0]"
   ]
  },
  {
   "cell_type": "code",
   "execution_count": 10,
   "metadata": {},
   "outputs": [
    {
     "name": "stdout",
     "output_type": "stream",
     "text": [
      "[66.703572   69.51945347 73.74333002]\n"
     ]
    }
   ],
   "source": [
    "transittimesplanet0 = np.array(transittimesplanet0)\n",
    "print(transittimesplanet0[np.array([0, 2, 5])])"
   ]
  },
  {
   "cell_type": "code",
   "execution_count": 11,
   "metadata": {},
   "outputs": [
    {
     "name": "stdout",
     "output_type": "stream",
     "text": [
      " bruce transit number 168.0 coresponds to transit time 315.9088683668524\n",
      " bruce transit number 180.0 coresponds to transit time 332.80413679406047\n",
      " bruce transit number 200.0 coresponds to transit time 360.9629293610342\n",
      " bruce transit number 217.0 coresponds to transit time 384.8978941459209\n",
      " bruce transit number 222.0 coresponds to transit time 391.93759056413546\n",
      " bruce transit number 224.0 coresponds to transit time 394.753486501053\n",
      " bruce transit number 229.0 coresponds to transit time 401.793159971945\n",
      " bruce transit number 239.0 coresponds to transit time 415.87255670595914\n",
      " bruce transit number 246.0 coresponds to transit time 425.728129317984\n",
      " bruce transit number 256.0 coresponds to transit time 439.80752397188917\n",
      " bruce transit number 0.0 coresponds to transit time 79.37508499994874\n",
      " bruce transit number 94.0 coresponds to transit time 211.72136700013652\n",
      " bruce transit number 143.0 coresponds to transit time 280.7103829998523\n",
      " bruce transit number 150.0 coresponds to transit time 290.56595900002867\n"
     ]
    }
   ],
   "source": [
    "#for i in range(29):\n",
    "    #print('datapoint number', i,'coresponds to transit time', transittimesplanet0[i] )\n",
    "#print(transittimesplanet0[9])\n",
    "#print(transittimesplanet0[157])\n",
    "#print(transittimesplanet0[174])\n",
    "#print(transittimesplanet0[311])\n",
    "for i in range(14):\n",
    "    print(' bruce transit number', brucetransitnumber[i],'coresponds to transit time', actualbrucetransittime[i] )\n",
    "    #for j in range(len(transittimesplanet0)):\n",
    "        #print(transittimesplanet0[i])\n",
    "        #condition = actualbrucetransittime[i]==transittimesplanet0[i]\n",
    "        #if condition: \n",
    "            #print(i)\n",
    "transitswewant = (brucetransitnumber + 9)\n",
    "transitswewant = (transitswewant.astype(int))\n",
    "#print(transitswewant)"
   ]
  },
  {
   "cell_type": "code",
   "execution_count": 12,
   "metadata": {},
   "outputs": [
    {
     "name": "stdout",
     "output_type": "stream",
     "text": [
      "[-136.33910311 -150.10416608 -174.18533778 -193.84287186 -199.66576359\n",
      " -203.4872703  -207.27673653 -218.92133172 -226.13875391 -231.69492244\n",
      "    8.81725948  -89.71567339 -107.99827277 -115.55639567 -134.04587027]\n"
     ]
    }
   ],
   "source": [
    "print((np.array(transittimesplanet0)[transitswewant]-actualbrucetransittime) * 24 * 60 * 60)"
   ]
  },
  {
   "cell_type": "code",
   "execution_count": 13,
   "metadata": {},
   "outputs": [
    {
     "name": "stdout",
     "output_type": "stream",
     "text": [
      "9020588.128618864\n"
     ]
    }
   ],
   "source": [
    "chisq = np.sum(((actualbrucetransittime - np.array(transittimesplanet0)[transitswewant]) * 24 * 60 * 60)**2 / bruceerr**2)\n",
    "print(chisq)"
   ]
  },
  {
   "cell_type": "code",
   "execution_count": 59,
   "metadata": {},
   "outputs": [],
   "source": [
    "def loglikelihood(p, actualbrucetransittime, bruceerr, yesplot= False,debug =False): #here p is an array of the parameters: let's define p[0] = slope, and p[1] = intercept\n",
    "    #slope = p[0]\n",
    "    #intercept = p[1]\n",
    "    #quad = p[2]\n",
    "    #model = slope*x + intercept+ quad*x**2\n",
    "    #chisq = np.sum((y - model)**2 / e**2)\n",
    "    \n",
    "    gravity =  0.000295994511                        # AU^3/day^2/M_sun\n",
    "    stellar_mass = 0.518 #0.95573417954    #change me                # M_sun\n",
    "\n",
    "\n",
    "    planet1 = models.Planet(\n",
    "        mass = 0.00954588, #0.00002878248,                         # M_sun\n",
    "        period = p[7],#1.4079405,#1.0917340278625494e+01,              # days\n",
    "        eccentricity = 0,#5.6159310042858110e-02,\n",
    "        inclination = 20,#88.778,#9.0921164935951211e+01,         # degrees\n",
    "        longnode = -1.1729336712101943e-18,           # degrees\n",
    "        argument = 1.8094838714599581e+02,            # degrees\n",
    "        mean_anomaly = p[8],#-90 #-8.7093652691581923e+01,       # degrees\n",
    "    )\n",
    "\n",
    "    planet2 = models.Planet(\n",
    "        mass = p[0],#0.00954588,#0.00061895914,\n",
    "        period = p[1],#200,#1.4079405,#2.2266898036209028e+01,\n",
    "        eccentricity = p[2],#0.7, #5.6691301931178648e-02,\n",
    "        inclination = p[3],#8.7598285693573246e+01,\n",
    "        longnode = p[4],#4.6220554014026838e-01,\n",
    "        argument = p[5],#1.6437004273382669e+00,\n",
    "        mean_anomaly = p[6],#-1.9584857031843157e+01,\n",
    "    )\n",
    "    if debug: \n",
    "        print(\"planet1mass=\",planet1.mass)\n",
    "        print(\"planet1period=\", planet1.period)\n",
    "        print(\"planet1eccentricity=\", planet1.eccentricity)\n",
    "        print(\"planet1inclination=\", planet1.inclination)\n",
    "        print(\"planet1longnode=\", planet1.longnode)\n",
    "        print(\"planet1argument=\", planet1.argument)\n",
    "        print(\"planet1mean_anomaly=\", planet1.mean_anomaly)\n",
    "        \n",
    "        print(\"planet2mass=\",planet2.mass)\n",
    "        print(\"planet2period=\", planet2.period)\n",
    "        print(\"planet2eccentricity=\", planet2.eccentricity)\n",
    "        print(\"planet2inclination=\", planet2.inclination)\n",
    "        print(\"planet2longnode=\", planet2.longnode)\n",
    "        print(\"planet2argument=\", planet2.argument)\n",
    "        print(\"planet2mean_anomaly=\", planet2.mean_anomaly)\n",
    "    planets = [planet1, planet2]\n",
    "    Time = 66.70357200363651-1.4079405+0.003714472890699483 #-1045                                    # days\n",
    "    dt = 0.02                                       # days\n",
    "    Total = 510 #1700                                    # days\n",
    "\n",
    "    results = ttvfast.ttvfast(planets, stellar_mass, Time, dt, Total)\n",
    "    whichplanet = results[\"positions\"][0]\n",
    "    whichtransit = results[\"positions\"][1]\n",
    "    transittimes = results[\"positions\"][2]\n",
    "    planet1transits = []\n",
    "    planet1times = []\n",
    "    transittimesplanet0 = []\n",
    "    transitnumberplanet0 = []\n",
    "    for i in range(375):\n",
    "        a = whichplanet[i]\n",
    "        condition = a == 0  \n",
    "        if condition: \n",
    "            transittimesplanet0.append(transittimes[i] )\n",
    "            transitnumberplanet0.append(whichtransit[i] )\n",
    "    \n",
    "    \n",
    "    if yesplot: \n",
    "        fig, ax = plt.subplots(figsize=(16, 8))\n",
    "    #m=np.mean((actualbrucetransittime-1.4079405*brucetransitnumber)*24*60*60)\n",
    "    #model data- model line \n",
    "    #plt.errorbar(brucetransitnumber, (actualbrucetransittime-1.4079405*brucetransitnumber)*24*60*60-m, yerr = bruceerr, fmt = 'o-', label = 'Data')\n",
    "    #print(actualbrucetransittime)\n",
    "    #print(np.array(transittimesplanet0)[transitswewant])\n",
    "    #bruce data- model line \n",
    "    #plt.plot(brucetransitnumber, (np.array(transittimesplanet0)[transitswewant]-1.4079405*brucetransitnumber)*24*60*60-m,\"o-\", label = 'Model')\n",
    "    #ax.set_ylabel('seconds');\n",
    "    '''ax.set_xlabel('transit number');\n",
    "    ax.set_title('mass = '+ str(p[0])+ ' period ='+ str(p[1]))\n",
    "    plt.show()'''\n",
    "    '''print(np.array(transittimesplanet0)[transitswewant[0:5]])\n",
    "    print(actualbrucetransittime[0:5])'''\n",
    "    #print(\"transits we want\",np.array(transittimesplanet0)[transitswewant])\n",
    "    #print(\"actual brue transits\",actualbrucetransittime)\n",
    "    #print(\"actual bruce - transits we want\",actualbrucetransittime-np.array(transittimesplanet0)[transitswewant])\n",
    "    pbruce = np.polyfit(brucetransitnumber,actualbrucetransittime,1, w= 1/bruceerr)\n",
    "    pmodel = np.polyfit(brucetransitnumber,np.array(transittimesplanet0)[transitswewant],1,w= 1/bruceerr)\n",
    "    brucetrend = np.polyval(pbruce,brucetransitnumber)\n",
    "    modeltrend = np.polyval(pmodel,brucetransitnumber)\n",
    "    brucetransittimecorrected = actualbrucetransittime - brucetrend\n",
    "    modeltransittimecorrected = np.array(transittimesplanet0)[transitswewant] - modeltrend\n",
    "    if yesplot:\n",
    "        plt.errorbar(brucetransitnumber,brucetransittimecorrected*60*60*24, yerr = bruceerr, fmt = 'o-', label = 'Corrected Data')\n",
    "        print(actualbrucetransittime)\n",
    "        print(np.array(transittimesplanet0)[transitswewant])\n",
    "        #bruce data- model line \n",
    "        plt.plot(brucetransitnumber, modeltransittimecorrected*60*60*24,\"o-\", label = 'Corrected Model')\n",
    "        ax.set_ylabel('seconds');\n",
    "        ax.set_xlabel('transit number');\n",
    "        ax.set_title('mass = '+ str(p[0])+ ' period ='+ str(p[1])+ 'periastron ='+ str(p[5])) \n",
    "        plt.show()\n",
    "    chisq = np.sum((brucetransittimecorrected*60*60*24 - modeltransittimecorrected*60*60*24)**2/ bruceerr**2)\n",
    "    #print(brucetransittimecorrected*60*60*24 - modeltransittimecorrected*60*60*24)\n",
    "    #print(bruceerr)\n",
    "    negloglikelihood = 0.5 * chisq\n",
    "    if debug:\n",
    "        print(np.array(transittimesplanet0)[transitswewant])\n",
    "    return negloglikelihood\n",
    "\n"
   ]
  },
  {
   "cell_type": "code",
   "execution_count": 51,
   "metadata": {},
   "outputs": [
    {
     "name": "stdout",
     "output_type": "stream",
     "text": [
      "planet1mass= 0.00954588\n",
      "planet1period= 1.40795\n",
      "planet1eccentricity= 0\n",
      "planet1inclination= 20\n",
      "planet1longnode= -1.1729336712101943e-18\n",
      "planet1argument= 180.9483871459958\n",
      "planet1mean_anomaly= -90\n",
      "planet2mass= 0.00954588\n",
      "planet2period= 200\n",
      "planet2eccentricity= 0.6\n",
      "planet2inclination= 87.59828569357325\n",
      "planet2longnode= 0.4622055401402684\n",
      "planet2argument= 1.643700427338267\n",
      "planet2mean_anomaly= -19.584857031843157\n"
     ]
    },
    {
     "data": {
      "text/plain": [
       "849.3221498613184"
      ]
     },
     "execution_count": 51,
     "metadata": {},
     "output_type": "execute_result"
    }
   ],
   "source": [
    "loglikelihood([0.00954588,200,0.6,8.7598285693573246e+01,4.6220554014026838e-01,1.6437004273382669e+00,-1.9584857031843157e+01,1.40795,-90],actualbrucetransittime , bruceerr,debug=True)"
   ]
  },
  {
   "cell_type": "code",
   "execution_count": 16,
   "metadata": {},
   "outputs": [
    {
     "name": "stdout",
     "output_type": "stream",
     "text": [
      "[168. 180. 200. 217. 222. 224. 229. 239. 246. 256.   0.  94. 143. 150.\n",
      " 167.]\n"
     ]
    }
   ],
   "source": [
    "print(brucetransitnumber)\n"
   ]
  },
  {
   "cell_type": "code",
   "execution_count": 17,
   "metadata": {},
   "outputs": [
    {
     "data": {
      "text/plain": [
       "\"'for j in range(len(massestotest)):\\n        thismass= massestotest[j]\\n        for k in range(len(periodstotest)):\\n            thisperiod= periodstotest[k]\\n            for m in range(len(meananomolytotest)):\\n                thismeananomoly= meananomolytotest[m]\\n                loglikelihood([thismass,\\n                           thisperiod,0.6,\\n                           8.7598285693573246e+01,\\n                           4.6220554014026838e-01,\\n                           1.6437004273382669e+00,\\n                           thismeananomoly,\\n                           1.40795,-90],actualbrucetransittime , bruceerr)\""
      ]
     },
     "execution_count": 17,
     "metadata": {},
     "output_type": "execute_result"
    }
   ],
   "source": [
    "#grid search \n",
    "periodstotest = np.linspace(50,1000,300)\n",
    "massestotest = np.linspace(0.1,13,100)/1047.572 #conversion from jupiter to solar masses\n",
    "periastrontotest = np.linspace(0,360,100)\n",
    "''''for j in range(len(massestotest)):\n",
    "        thismass= massestotest[j]\n",
    "        for k in range(len(periodstotest)):\n",
    "            thisperiod= periodstotest[k]\n",
    "            for m in range(len(meananomolytotest)):\n",
    "                thismeananomoly= meananomolytotest[m]\n",
    "                loglikelihood([thismass,\n",
    "                           thisperiod,0.6,\n",
    "                           8.7598285693573246e+01,\n",
    "                           4.6220554014026838e-01,\n",
    "                           1.6437004273382669e+00,\n",
    "                           thismeananomoly,\n",
    "                           1.40795,-90],actualbrucetransittime , bruceerr)'''\n"
   ]
  },
  {
   "cell_type": "code",
   "execution_count": 60,
   "metadata": {},
   "outputs": [
    {
     "name": "stdout",
     "output_type": "stream",
     "text": [
      "14.983384805522636\n",
      "14.915442022042319\n",
      "13.849306331841406\n",
      "planet1mass= 0.00954588\n",
      "planet1period= 1.40795\n",
      "planet1eccentricity= 0\n",
      "planet1inclination= 20\n",
      "planet1longnode= -1.1729336712101943e-18\n",
      "planet1argument= 180.9483871459958\n",
      "planet1mean_anomaly= -90\n",
      "planet2mass= 9.545883242392887e-05\n",
      "planet2period= 50.0\n",
      "planet2eccentricity= 0\n",
      "planet2inclination= 87.59828569357325\n",
      "planet2longnode= 0.4622055401402684\n",
      "planet2argument= 0.0\n",
      "planet2mean_anomaly= 45\n",
      "[315.91079323 332.80619731 360.96520289 384.90035818 391.94010896\n",
      " 394.75600967 401.79576141 415.87526557 425.73091807 439.81041957\n",
      "  79.375141   211.72246939 280.71203592 290.56768688 314.50284278]\n",
      "14.983384805522636\n",
      "planet1mass= 0.00954588\n",
      "planet1period= 1.40795\n",
      "planet1eccentricity= 0\n",
      "planet1inclination= 20\n",
      "planet1longnode= -1.1729336712101943e-18\n",
      "planet1argument= 180.9483871459958\n",
      "planet1mean_anomaly= -90\n",
      "planet2mass= 9.545883242392887e-05\n",
      "planet2period= 50.0\n",
      "planet2eccentricity= 0\n",
      "planet2inclination= 87.59828569357325\n",
      "planet2longnode= 0.4622055401402684\n",
      "planet2argument= 54.54545454545455\n",
      "planet2mean_anomaly= 45\n",
      "[315.91074788 332.80614744 360.96514975 384.90029945 391.94004999\n",
      " 394.75595017 401.79570101 415.87520226 425.73085202 439.81035202\n",
      "  79.37513804 211.72244322 280.71199593 290.56764551 314.5027978 ]\n",
      "13.849306331841406\n"
     ]
    }
   ],
   "source": [
    "#for j in range(len(ecentricitiestotest)):\n",
    "    #print(j)\n",
    "    #print('loop finished')\n",
    "    #print(ecentricitiestotest[j])\n",
    "#print(periastrontotest)\n",
    "print(a[0,0,0])\n",
    "print(a[0,0,1])\n",
    "print(a[0,0,15])\n",
    "print(loglikelihood([massestotest[0],periodstotest[0],0,8.7598285693573246e+01,\n",
    "                                               4.6220554014026838e-01,periastrontotest[0],\n",
    "                                               45,1.40795,-90],actualbrucetransittime , bruceerr,debug=True,yesplot=False)) \n",
    "print(loglikelihood([massestotest[0],periodstotest[0],0,8.7598285693573246e+01,\n",
    "                                               4.6220554014026838e-01,periastrontotest[15],\n",
    "                                               45,1.40795,-90],actualbrucetransittime , bruceerr,debug=True,yesplot=False))"
   ]
  },
  {
   "cell_type": "code",
   "execution_count": 19,
   "metadata": {},
   "outputs": [
    {
     "name": "stdout",
     "output_type": "stream",
     "text": [
      "[[[0. 0. 0. ... 0. 0. 0.]\n",
      "  [0. 0. 0. ... 0. 0. 0.]\n",
      "  [0. 0. 0. ... 0. 0. 0.]\n",
      "  ...\n",
      "  [0. 0. 0. ... 0. 0. 0.]\n",
      "  [0. 0. 0. ... 0. 0. 0.]\n",
      "  [0. 0. 0. ... 0. 0. 0.]]\n",
      "\n",
      " [[0. 0. 0. ... 0. 0. 0.]\n",
      "  [0. 0. 0. ... 0. 0. 0.]\n",
      "  [0. 0. 0. ... 0. 0. 0.]\n",
      "  ...\n",
      "  [0. 0. 0. ... 0. 0. 0.]\n",
      "  [0. 0. 0. ... 0. 0. 0.]\n",
      "  [0. 0. 0. ... 0. 0. 0.]]\n",
      "\n",
      " [[0. 0. 0. ... 0. 0. 0.]\n",
      "  [0. 0. 0. ... 0. 0. 0.]\n",
      "  [0. 0. 0. ... 0. 0. 0.]\n",
      "  ...\n",
      "  [0. 0. 0. ... 0. 0. 0.]\n",
      "  [0. 0. 0. ... 0. 0. 0.]\n",
      "  [0. 0. 0. ... 0. 0. 0.]]\n",
      "\n",
      " ...\n",
      "\n",
      " [[0. 0. 0. ... 0. 0. 0.]\n",
      "  [0. 0. 0. ... 0. 0. 0.]\n",
      "  [0. 0. 0. ... 0. 0. 0.]\n",
      "  ...\n",
      "  [0. 0. 0. ... 0. 0. 0.]\n",
      "  [0. 0. 0. ... 0. 0. 0.]\n",
      "  [0. 0. 0. ... 0. 0. 0.]]\n",
      "\n",
      " [[0. 0. 0. ... 0. 0. 0.]\n",
      "  [0. 0. 0. ... 0. 0. 0.]\n",
      "  [0. 0. 0. ... 0. 0. 0.]\n",
      "  ...\n",
      "  [0. 0. 0. ... 0. 0. 0.]\n",
      "  [0. 0. 0. ... 0. 0. 0.]\n",
      "  [0. 0. 0. ... 0. 0. 0.]]\n",
      "\n",
      " [[0. 0. 0. ... 0. 0. 0.]\n",
      "  [0. 0. 0. ... 0. 0. 0.]\n",
      "  [0. 0. 0. ... 0. 0. 0.]\n",
      "  ...\n",
      "  [0. 0. 0. ... 0. 0. 0.]\n",
      "  [0. 0. 0. ... 0. 0. 0.]\n",
      "  [0. 0. 0. ... 0. 0. 0.]]]\n",
      "[[[  14.98338481   14.91544202   14.83826389 ...   15.08591009\n",
      "     15.04061683   14.98338714]\n",
      "  [  16.80518024   16.62921792   16.43147295 ...   17.07719229\n",
      "     16.95556386   16.80518024]\n",
      "  [  19.53125265   19.2252255    18.88436805 ...   20.01332584\n",
      "     19.79579717   19.53125334]\n",
      "  ...\n",
      "  [4112.97999508 4005.26008072 3897.44911838 ... 4317.82519597\n",
      "   4218.01995362 4112.98000731]\n",
      "  [4193.57465136 4083.77598974 3973.95189193 ... 4402.51118566\n",
      "   4300.68991836 4193.57464319]\n",
      "  [4274.89522047 4162.99867357 4051.14516084 ... 4487.96333916\n",
      "   4384.10539369 4274.89521644]]\n",
      "\n",
      " [[  15.08091616   15.0310225    14.96395451 ...   15.12151835\n",
      "     15.11156296   15.08091619]\n",
      "  [  17.16158795   17.0087917    16.81451571 ...   17.31477661\n",
      "     17.26549431   17.16158795]\n",
      "  [  20.29486747   19.99640741   19.6300405  ...   20.62808031\n",
      "     20.5096637    20.29486794]\n",
      "  ...\n",
      "  [4703.18637425 4513.55893916 4317.58025151 ... 5012.23586504\n",
      "   4873.44640219 4703.18640806]\n",
      "  [4794.4943108  4601.21889814 4401.55453127 ... 5109.68849233\n",
      "   4968.09426035 4794.49423787]\n",
      "  [4886.59541163 4689.64139341 4486.26285621 ... 5207.99114032\n",
      "   5063.56612043 4886.5953972 ]]\n",
      "\n",
      " [[  13.50874103   13.42728592   13.34970887 ...   13.67640635\n",
      "     13.59235747   13.508741  ]\n",
      "  [  13.20845407   13.04428827   12.89442813 ...   13.57150946\n",
      "     13.38502571   13.20845363]\n",
      "  [  13.5859703    13.36560683   13.17605762 ...   14.11821512\n",
      "     13.83734784   13.5859667 ]\n",
      "  ...\n",
      "  [2925.89019205 3042.31313026 3186.23250632 ... 2815.88500634\n",
      "   2847.70086878 2925.8901853 ]\n",
      "  [2984.72194614 3103.65470422 3250.62731882 ... 2872.16981498\n",
      "   2904.78989661 2984.72192506]\n",
      "  [3044.09989312 3165.56901993 3315.62616288 ... 2928.97146595\n",
      "   2962.40654183 3044.09989539]]\n",
      "\n",
      " ...\n",
      "\n",
      " [[  14.17862116   14.1766296    14.17497941 ...   14.18346592\n",
      "     14.18091042   14.17862116]\n",
      "  [  14.15113099   14.14657001   14.14277665 ...   14.16224287\n",
      "     14.15638408   14.15113099]\n",
      "  [  14.12383225   14.11672782   14.11082169 ...   14.14116394\n",
      "     14.13202777   14.12383225]\n",
      "  ...\n",
      "  [  12.39923182   12.24808628   12.11915349 ...   12.77556881\n",
      "     12.57437582   12.39923182]\n",
      "  [  12.38984297   12.2381713    12.10872821 ...   12.767623\n",
      "     12.56561221   12.38984297]\n",
      "  [  12.38062743   12.22844614   12.09851209 ...   12.75980759\n",
      "     12.55700366   12.38062743]]\n",
      "\n",
      " [[  14.17890824   14.1769089    14.17524814 ...   14.18375674\n",
      "     14.18120148   14.17890824]\n",
      "  [  14.15178985   14.1472128    14.14339741 ...   14.1629122\n",
      "     14.15705259   14.15178985]\n",
      "  [  14.12486742   14.11773424   14.11178005 ...   14.14221197\n",
      "     14.13307513   14.12486742]\n",
      "  ...\n",
      "  [  12.41652599   12.26446486   12.13470027 ...   12.79488283\n",
      "     12.59265789   12.41652599]\n",
      "  [  12.40711402   12.25451941   12.1242494  ...   12.78695711\n",
      "     12.58389258   12.40711402]\n",
      "  [  12.39787693   12.24476608   12.11400323 ...   12.77915375\n",
      "     12.57527451   12.39787693]]\n",
      "\n",
      " [[  14.17919381   14.17719179   14.17551582 ...   14.18405057\n",
      "     14.18149266   14.17919381]\n",
      "  [  14.15244684   14.14785136   14.14400837 ...   14.16357952\n",
      "     14.15772152   14.15244684]\n",
      "  [  14.1258927    14.11872773   14.11273098 ...   14.14324379\n",
      "     14.13410483   14.1258927 ]\n",
      "  ...\n",
      "  [  12.43379751   12.28082445   12.15023269 ...   12.81415059\n",
      "     12.61091215   12.43379751]\n",
      "  [  12.42437025   12.27085704   12.13975497 ...   12.80624463\n",
      "     12.60214699   12.42437025]\n",
      "  [  12.41511041   12.26107462   12.12948122 ...   12.79845929\n",
      "     12.59352469   12.41511041]]]\n"
     ]
    }
   ],
   "source": [
    "a=np.zeros((len(periodstotest),len(massestotest),len(periastrontotest)))\n",
    "testedmasses= np.zeros((len(periodstotest),len(massestotest),len(periastrontotest)))\n",
    "testedperiods = np.zeros((len(periodstotest),len(massestotest),len(periastrontotest)))\n",
    "print(a)\n",
    "for c in range(len(periodstotest)):\n",
    "    for d in range(len(massestotest)):\n",
    "        for e in range(len(periastrontotest)):\n",
    "            a[c,d,e]=loglikelihood([massestotest[d],periodstotest[c],0,8.7598285693573246e+01,\n",
    "                                               4.6220554014026838e-01,periastrontotest[e],\n",
    "                                               45,1.40795,-90],actualbrucetransittime , bruceerr)\n",
    "            testedmasses[c,d,e]=massestotest[d]\n",
    "            testedperiods[c,d,e]= periodstotest[c]\n",
    "print(a)"
   ]
  },
  {
   "cell_type": "code",
   "execution_count": 20,
   "metadata": {},
   "outputs": [
    {
     "data": {
      "text/plain": [
       "Text(0.5, 0, 'masses in solar masses')"
      ]
     },
     "execution_count": 20,
     "metadata": {},
     "output_type": "execute_result"
    },
    {
     "data": {
      "image/png": "[encoded data removed]",
      "text/plain": [
       "<Figure size 432x288 with 2 Axes>"
      ]
     },
     "metadata": {
      "needs_background": "light"
     },
     "output_type": "display_data"
    }
   ],
   "source": [
    "fig,ax= plt.subplots()\n",
    "im=ax.imshow(np.min(a, axis= 2),extent = [min(massestotest), max(massestotest),max(periodstotest),min(periodstotest)], aspect='auto')\n",
    "\n",
    "fig.colorbar(im)\n",
    "ax.set_ylabel('period in days')\n",
    "ax.set_xlabel('masses in solar masses')\n"
   ]
  },
  {
   "cell_type": "code",
   "execution_count": 21,
   "metadata": {},
   "outputs": [
    {
     "data": {
      "text/plain": [
       "Text(0.5, 0, 'masses in solar masses')"
      ]
     },
     "execution_count": 21,
     "metadata": {},
     "output_type": "execute_result"
    },
    {
     "data": {
      "image/png": "[encoded data removed]",
      "text/plain": [
       "<Figure size 432x288 with 2 Axes>"
      ]
     },
     "metadata": {
      "needs_background": "light"
     },
     "output_type": "display_data"
    }
   ],
   "source": [
    "fig,ax= plt.subplots()\n",
    "im=ax.imshow(np.min(testedmasses, axis= 2),extent = [min(massestotest), max(massestotest),max(periodstotest),min(periodstotest)], aspect='auto')\n",
    "\n",
    "fig.colorbar(im)\n",
    "ax.set_ylabel('period in days')\n",
    "ax.set_xlabel('masses in solar masses')"
   ]
  },
  {
   "cell_type": "code",
   "execution_count": 22,
   "metadata": {},
   "outputs": [
    {
     "data": {
      "text/plain": [
       "Text(0.5, 0, 'masses in solar masses')"
      ]
     },
     "execution_count": 22,
     "metadata": {},
     "output_type": "execute_result"
    },
    {
     "data": {
      "image/png": "[encoded data removed]",
      "text/plain": [
       "<Figure size 432x288 with 2 Axes>"
      ]
     },
     "metadata": {
      "needs_background": "light"
     },
     "output_type": "display_data"
    }
   ],
   "source": [
    "fig,ax= plt.subplots()\n",
    "im=ax.imshow(np.min(testedperiods, axis= 2),extent = [min(massestotest), max(massestotest),max(periodstotest),min(periodstotest)], aspect='auto')\n",
    "\n",
    "fig.colorbar(im)\n",
    "ax.set_ylabel('period in days')\n",
    "ax.set_xlabel('masses in solar masses')"
   ]
  },
  {
   "cell_type": "code",
   "execution_count": 23,
   "metadata": {},
   "outputs": [
    {
     "data": {
      "text/plain": [
       "[<matplotlib.lines.Line2D at 0x7ffd9177a430>]"
      ]
     },
     "execution_count": 23,
     "metadata": {},
     "output_type": "execute_result"
    },
    {
     "data": {
      "image/png": "[encoded data removed]",
      "text/plain": [
       "<Figure size 432x288 with 1 Axes>"
      ]
     },
     "metadata": {
      "needs_background": "light"
     },
     "output_type": "display_data"
    }
   ],
   "source": [
    "plt.plot(np.resize(a, 5*5*6))"
   ]
  },
  {
   "cell_type": "code",
   "execution_count": 24,
   "metadata": {},
   "outputs": [],
   "source": [
    "np.savez(\"biggermeananomly45masstest.npz\",a=a,massestotest=massestotest,periodstotest=periodstotest,periastrontotest=periastrontotest )"
   ]
  },
  {
   "cell_type": "code",
   "execution_count": 25,
   "metadata": {},
   "outputs": [],
   "source": [
    "f=np.load('biggermeananomly45masstest.npz')\n",
    "a = f[\"a\"]\n",
    "massestotest = f['massestotest']\n",
    "periodstotest = f['periodstotest']\n",
    "periastrontotest = f['periastrontotest']"
   ]
  },
  {
   "cell_type": "code",
   "execution_count": 26,
   "metadata": {},
   "outputs": [
    {
     "name": "stdout",
     "output_type": "stream",
     "text": [
      "[[[  14.98338481   14.91544202   14.83826389 ...   15.08591009\n",
      "     15.04061683   14.98338714]\n",
      "  [  16.80518024   16.62921792   16.43147295 ...   17.07719229\n",
      "     16.95556386   16.80518024]\n",
      "  [  19.53125265   19.2252255    18.88436805 ...   20.01332584\n",
      "     19.79579717   19.53125334]\n",
      "  ...\n",
      "  [4112.97999508 4005.26008072 3897.44911838 ... 4317.82519597\n",
      "   4218.01995362 4112.98000731]\n",
      "  [4193.57465136 4083.77598974 3973.95189193 ... 4402.51118566\n",
      "   4300.68991836 4193.57464319]\n",
      "  [4274.89522047 4162.99867357 4051.14516084 ... 4487.96333916\n",
      "   4384.10539369 4274.89521644]]\n",
      "\n",
      " [[  15.08091616   15.0310225    14.96395451 ...   15.12151835\n",
      "     15.11156296   15.08091619]\n",
      "  [  17.16158795   17.0087917    16.81451571 ...   17.31477661\n",
      "     17.26549431   17.16158795]\n",
      "  [  20.29486747   19.99640741   19.6300405  ...   20.62808031\n",
      "     20.5096637    20.29486794]\n",
      "  ...\n",
      "  [4703.18637425 4513.55893916 4317.58025151 ... 5012.23586504\n",
      "   4873.44640219 4703.18640806]\n",
      "  [4794.4943108  4601.21889814 4401.55453127 ... 5109.68849233\n",
      "   4968.09426035 4794.49423787]\n",
      "  [4886.59541163 4689.64139341 4486.26285621 ... 5207.99114032\n",
      "   5063.56612043 4886.5953972 ]]\n",
      "\n",
      " [[  13.50874103   13.42728592   13.34970887 ...   13.67640635\n",
      "     13.59235747   13.508741  ]\n",
      "  [  13.20845407   13.04428827   12.89442813 ...   13.57150946\n",
      "     13.38502571   13.20845363]\n",
      "  [  13.5859703    13.36560683   13.17605762 ...   14.11821512\n",
      "     13.83734784   13.5859667 ]\n",
      "  ...\n",
      "  [2925.89019205 3042.31313026 3186.23250632 ... 2815.88500634\n",
      "   2847.70086878 2925.8901853 ]\n",
      "  [2984.72194614 3103.65470422 3250.62731882 ... 2872.16981498\n",
      "   2904.78989661 2984.72192506]\n",
      "  [3044.09989312 3165.56901993 3315.62616288 ... 2928.97146595\n",
      "   2962.40654183 3044.09989539]]\n",
      "\n",
      " ...\n",
      "\n",
      " [[  14.17862116   14.1766296    14.17497941 ...   14.18346592\n",
      "     14.18091042   14.17862116]\n",
      "  [  14.15113099   14.14657001   14.14277665 ...   14.16224287\n",
      "     14.15638408   14.15113099]\n",
      "  [  14.12383225   14.11672782   14.11082169 ...   14.14116394\n",
      "     14.13202777   14.12383225]\n",
      "  ...\n",
      "  [  12.39923182   12.24808628   12.11915349 ...   12.77556881\n",
      "     12.57437582   12.39923182]\n",
      "  [  12.38984297   12.2381713    12.10872821 ...   12.767623\n",
      "     12.56561221   12.38984297]\n",
      "  [  12.38062743   12.22844614   12.09851209 ...   12.75980759\n",
      "     12.55700366   12.38062743]]\n",
      "\n",
      " [[  14.17890824   14.1769089    14.17524814 ...   14.18375674\n",
      "     14.18120148   14.17890824]\n",
      "  [  14.15178985   14.1472128    14.14339741 ...   14.1629122\n",
      "     14.15705259   14.15178985]\n",
      "  [  14.12486742   14.11773424   14.11178005 ...   14.14221197\n",
      "     14.13307513   14.12486742]\n",
      "  ...\n",
      "  [  12.41652599   12.26446486   12.13470027 ...   12.79488283\n",
      "     12.59265789   12.41652599]\n",
      "  [  12.40711402   12.25451941   12.1242494  ...   12.78695711\n",
      "     12.58389258   12.40711402]\n",
      "  [  12.39787693   12.24476608   12.11400323 ...   12.77915375\n",
      "     12.57527451   12.39787693]]\n",
      "\n",
      " [[  14.17919381   14.17719179   14.17551582 ...   14.18405057\n",
      "     14.18149266   14.17919381]\n",
      "  [  14.15244684   14.14785136   14.14400837 ...   14.16357952\n",
      "     14.15772152   14.15244684]\n",
      "  [  14.1258927    14.11872773   14.11273098 ...   14.14324379\n",
      "     14.13410483   14.1258927 ]\n",
      "  ...\n",
      "  [  12.43379751   12.28082445   12.15023269 ...   12.81415059\n",
      "     12.61091215   12.43379751]\n",
      "  [  12.42437025   12.27085704   12.13975497 ...   12.80624463\n",
      "     12.60214699   12.42437025]\n",
      "  [  12.41511041   12.26107462   12.12948122 ...   12.79845929\n",
      "     12.59352469   12.41511041]]]\n"
     ]
    }
   ],
   "source": [
    "print(f[\"a\"])"
   ]
  },
  {
   "cell_type": "code",
   "execution_count": 27,
   "metadata": {},
   "outputs": [
    {
     "name": "stdout",
     "output_type": "stream",
     "text": [
      "6.808982454326428e-07\n"
     ]
    },
    {
     "name": "stderr",
     "output_type": "stream",
     "text": [
      "<ipython-input-27-08107e43d7fe>:8: RuntimeWarning: divide by zero encountered in log10\n",
      "  im=ax.imshow(np.maximum(np.log10(planetlikihood/noplanetlikihood), -4 ),extent = [min(massestotest)*1047.572, max(massestotest)*1047.572,max(periodstotest),min(periodstotest)], aspect='auto')\n"
     ]
    },
    {
     "data": {
      "text/plain": [
       "Text(0.5, 0, 'masses in Jupiter masses')"
      ]
     },
     "execution_count": 27,
     "metadata": {},
     "output_type": "execute_result"
    },
    {
     "data": {
      "image/png": "[encoded data removed]",
      "text/plain": [
       "<Figure size 432x288 with 2 Axes>"
      ]
     },
     "metadata": {
      "needs_background": "light"
     },
     "output_type": "display_data"
    }
   ],
   "source": [
    "noplanetlikihood=np.exp(loglikelihood([0,120,0,90,\n",
    "                                               4.6220554014026838e-01,1.6437004273382669e+00,\n",
    "                                               45,1.40795,-90],actualbrucetransittime , bruceerr, yesplot= False)*-1)\n",
    "print(noplanetlikihood)\n",
    "planetlikihood = np.exp(-1*np.min(a, axis= 2))\n",
    "\n",
    "fig,ax= plt.subplots()\n",
    "im=ax.imshow(np.maximum(np.log10(planetlikihood/noplanetlikihood), -4 ),extent = [min(massestotest)*1047.572, max(massestotest)*1047.572,max(periodstotest),min(periodstotest)], aspect='auto')\n",
    "\n",
    "fig.colorbar(im, label = 'log base ten probability')\n",
    "ax.set_ylabel('period in days')\n",
    "ax.set_xlabel('masses in Jupiter masses')"
   ]
  },
  {
   "cell_type": "code",
   "execution_count": 28,
   "metadata": {},
   "outputs": [
    {
     "name": "stdout",
     "output_type": "stream",
     "text": [
      "6.808982454326428e-07\n",
      "[[9.95262434e-07 7.28571698e-07 2.31728906e-07 ... 0.00000000e+00\n",
      "  0.00000000e+00 0.00000000e+00]\n",
      " [1.12249274e-06 1.19739844e-06 6.71083286e-07 ... 0.00000000e+00\n",
      "  0.00000000e+00 0.00000000e+00]\n",
      " [2.15517813e-06 4.36203529e-06 3.60727673e-06 ... 0.00000000e+00\n",
      "  0.00000000e+00 0.00000000e+00]\n",
      " ...\n",
      " [7.05047546e-07 7.37545202e-07 7.71228309e-07 ... 1.01396330e-05\n",
      "  1.02527843e-05 1.03638865e-05]\n",
      " [7.04864782e-07 7.37112926e-07 7.70542449e-07 ... 1.00357488e-05\n",
      "  1.01480491e-05 1.02583682e-05]\n",
      " [7.04707550e-07 7.36728698e-07 7.69916210e-07 ... 9.93236618e-06\n",
      "  1.00438210e-05 1.01533528e-05]]\n",
      "[[  13.82025938   14.1321798    15.27769766 ... 3391.02695147\n",
      "  3459.31588752 3528.26172108]\n",
      " [  13.69995869   13.63535932   14.21437259 ... 2678.08356649\n",
      "  2729.90260136 2782.17707308]\n",
      " [  13.04763718   12.3425718    12.53255744 ... 2609.04530741\n",
      "  2660.66296982 2712.76018034]\n",
      " ...\n",
      " [  14.1650006    14.11993846   14.07528139 ...   11.49905876\n",
      "    11.48796125   11.47718324]\n",
      " [  14.16525985   14.12052473   14.07617109 ...   11.50935696\n",
      "    11.49822907   11.48741678]\n",
      " [  14.16548294   14.12104613   14.07698415 ...   11.51971182\n",
      "    11.50855294   11.49770658]]\n"
     ]
    }
   ],
   "source": [
    "print(noplanetlikihood)\n",
    "print(planetlikihood)\n",
    "print(np.min(a, axis = 2))"
   ]
  },
  {
   "cell_type": "code",
   "execution_count": 29,
   "metadata": {},
   "outputs": [],
   "source": [
    "#test=loglikelihood([massestotest[c],periodstotest[d],0.6,8.7598285693573246e+01,\n",
    "                                              # 4.6220554014026838e-01,1.6437004273382669e+00,\n",
    "                                               #meananomolytotest[e],1.40795,-90],actualbrucetransittime , bruceerr, yesplot= True)\n",
    "#print(test)\n",
    "#print(noplanetlikihood)"
   ]
  },
  {
   "cell_type": "code",
   "execution_count": 30,
   "metadata": {},
   "outputs": [
    {
     "name": "stdout",
     "output_type": "stream",
     "text": [
      "(9, 6, 34)\n",
      "78.59531772575251\n",
      "0.0008417733404655546\n",
      "123.63636363636363\n"
     ]
    }
   ],
   "source": [
    "import numpy as np\n",
    "f=np.load('biggermeananomly45masstest.npz')\n",
    "a = f[\"a\"]\n",
    "ind = np.unravel_index(np.argmin(f[\"a\"], axis=None), f[\"a\"].shape)\n",
    "print(ind)\n",
    "print(f[\"periodstotest\"][ind[0]])\n",
    "print(f[\"massestotest\"][ind[1]])\n",
    "#meananomolytotest = np.linspace(0,360,100)\n",
    "print(f[\"periastrontotest\"][ind[2]])"
   ]
  },
  {
   "cell_type": "code",
   "execution_count": 31,
   "metadata": {},
   "outputs": [
    {
     "name": "stdout",
     "output_type": "stream",
     "text": [
      "[315.90886837 332.80413679 360.96292936 384.89789415 391.93759056\n",
      " 394.7534865  401.79315997 415.87255671 425.72812932 439.80752397\n",
      "  79.375085   211.721367   280.710383   290.565959   314.500916  ]\n",
      "[315.91077874 332.80617425 360.96518121 384.90033758 391.94009038\n",
      " 394.75599085 401.79573907 415.87523585 425.73088979 439.81039355\n",
      "  79.37514039 211.72245867 280.71201854 290.56767102 314.50282829]\n"
     ]
    },
    {
     "data": {
      "image/png": "[encoded data removed]",
      "text/plain": [
       "<Figure size 1152x576 with 1 Axes>"
      ]
     },
     "metadata": {
      "needs_background": "light"
     },
     "output_type": "display_data"
    }
   ],
   "source": [
    "somethingwedontcareabout=np.exp(loglikelihood([f[\"massestotest\"][ind[1]],f[\"periodstotest\"][ind[0]],0,90,\n",
    "                                               4.6220554014026838e-01,f[\"periastrontotest\"][ind[2]],\n",
    "                                               45,1.40795,-90],actualbrucetransittime , bruceerr, yesplot= True)*-1)"
   ]
  },
  {
   "cell_type": "code",
   "execution_count": 32,
   "metadata": {},
   "outputs": [
    {
     "name": "stdout",
     "output_type": "stream",
     "text": [
      "6.808982454326428e-07\n",
      "(300, 100, 100)\n",
      "(300, 100)\n"
     ]
    },
    {
     "data": {
      "image/png": "[encoded data removed]",
      "text/plain": [
       "<Figure size 432x288 with 2 Axes>"
      ]
     },
     "metadata": {
      "needs_background": "light"
     },
     "output_type": "display_data"
    }
   ],
   "source": [
    "\n",
    "noplanetlikihood=np.exp(loglikelihood([0,120,0,90,\n",
    "                                               4.6220554014026838e-01,1.6437004273382669e+00,\n",
    "                                               45,1.40795,-90],actualbrucetransittime , bruceerr, yesplot= False)*-1)\n",
    "print(noplanetlikihood)\n",
    "planetlikihood = np.exp(-1*a[:,0,:])\n",
    "fig,ax= plt.subplots()\n",
    "im=ax.imshow(np.maximum(np.log10(planetlikihood/noplanetlikihood),-4 ),extent = [min(massestotest)*1047.572, max(massestotest)*1047.572,max(periodstotest),min(periodstotest)], aspect='auto')\n",
    "\n",
    "fig.colorbar(im, label = 'log base ten probability')\n",
    "ax.set_xlabel('periods in days')\n",
    "ax.set_ylabel('masses in jupiter masses')\n",
    "print(np.shape(a))\n",
    "print(np.shape(planetlikihood))"
   ]
  },
  {
   "cell_type": "code",
   "execution_count": 36,
   "metadata": {},
   "outputs": [
    {
     "name": "stdout",
     "output_type": "stream",
     "text": [
      "[315.90886837 332.80413679 360.96292936 384.89789415 391.93759056\n",
      " 394.7534865  401.79315997 415.87255671 425.72812932 439.80752397\n",
      "  79.375085   211.721367   280.710383   290.565959   314.500916  ]\n",
      "[315.91852061 332.81482035 360.9756693  384.91234461 391.95244507\n",
      " 394.76846316 401.80909762 415.88965824 425.74604885 439.82650574\n",
      "  79.37521758 211.72549087 280.71787206 290.57394588 314.51049569]\n"
     ]
    },
    {
     "data": {
      "image/png": "[encoded data removed]",
      "text/plain": [
       "<Figure size 1152x576 with 1 Axes>"
      ]
     },
     "metadata": {
      "needs_background": "light"
     },
     "output_type": "display_data"
    },
    {
     "name": "stdout",
     "output_type": "stream",
     "text": [
      "14.159972542868672\n",
      "14.122704500774075\n",
      "0.033505150692179124\n"
     ]
    }
   ],
   "source": [
    "test=loglikelihood([massestotest[35],periodstotest[0],0.6,8.7598285693573246e+01,\n",
    "                                               4.6220554014026838e-01,1.6437004273382669e+00,\n",
    "                                               45,1.40795,-90],actualbrucetransittime , bruceerr, yesplot= True)\n",
    "#print(test)\n",
    "#print(noplanetlikihood)\n",
    "#a[c,d,e]=loglikelihood([1/1047.572,130,ecentricitiestotest[c],inclinationstotest[d],\n",
    "                                               #4.6220554014026838e-01,1.6437004273382669e+00,\n",
    "                                               #meananomolytotest[e],1.40795,-90],actualbrucetransittime , bruceerr)\n",
    "print(a[35,0,0])\n",
    "print(a[35,0,1])\n",
    "planetlikihood = np.exp(-1*a[35,0,1])\n",
    "ratio = np.maximum(np.log10(planetlikihood/noplanetlikihood),-4 ) \n",
    "print(ratio)\n"
   ]
  },
  {
   "cell_type": "code",
   "execution_count": 34,
   "metadata": {},
   "outputs": [],
   "source": [
    "#fig,ax= plt.subplots()\n",
    "#im=ax.imshow(np.log(a[:,0,:]))\n",
    "#np.shape(a[:,0,:])"
   ]
  },
  {
   "cell_type": "code",
   "execution_count": 35,
   "metadata": {},
   "outputs": [],
   "source": [
    "#junk=np.random.uniform(0,1,(3,6))\n",
    "#print(junk)\n",
    "#fig,ax= plt.subplots()\n",
    "#im=ax.imshow(junk)"
   ]
  },
  {
   "cell_type": "code",
   "execution_count": null,
   "metadata": {},
   "outputs": [],
   "source": []
  },
  {
   "cell_type": "code",
   "execution_count": null,
   "metadata": {},
   "outputs": [],
   "source": []
  }
 ],
 "metadata": {
  "kernelspec": {
   "display_name": "Python 3",
   "language": "python",
   "name": "python3"
  },
  "language_info": {
   "codemirror_mode": {
    "name": "ipython",
    "version": 3
   },
   "file_extension": ".py",
   "mimetype": "text/x-python",
   "name": "python",
   "nbconvert_exporter": "python",
   "pygments_lexer": "ipython3",
   "version": "3.8.8"
  }
 },
 "nbformat": 4,
 "nbformat_minor": 4
}
