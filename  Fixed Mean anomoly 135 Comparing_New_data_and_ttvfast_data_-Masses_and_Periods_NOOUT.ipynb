{
 "cells": [
  {
   "cell_type": "code",
   "execution_count": 1,
   "metadata": {},
   "outputs": [],
   "source": [
    "import ttvfast\n",
    "import numpy as np\n",
    "import pandas as pd \n",
    "import matplotlib.pyplot as plt\n",
    "from ttvfast import models\n",
    "import pdb\n",
    "\n",
    "\n",
    "\n",
    "gravity =  0.000295994511                        # AU^3/day^2/M_sun\n",
    "stellar_mass = 0.518 #0.95573417954    #change me                # M_sun\n",
    "\n",
    "\n",
    "planet1 = models.Planet(\n",
    "    mass=0.00954588, #0.00002878248,                         # M_sun\n",
    "    period=1.4079405,#1.0917340278625494e+01,              # days\n",
    "    eccentricity=0,#5.6159310042858110e-02,\n",
    "    inclination=88.778,#9.0921164935951211e+01,         # degrees\n",
    "    longnode=-1.1729336712101943e-18,           # degrees\n",
    "    argument=1.8094838714599581e+02,            # degrees\n",
    "    mean_anomaly= -90 #-8.7093652691581923e+01,       # degrees\n",
    ")\n",
    "\n",
    "planet2 = models.Planet(\n",
    "    mass=0.00954588,#0.00061895914,\n",
    "    period=200,#1.4079405,#2.2266898036209028e+01,\n",
    "    eccentricity= 0.7, #5.6691301931178648e-02,\n",
    "    inclination=8.7598285693573246e+01,\n",
    "    longnode=4.6220554014026838e-01,\n",
    "    argument=1.6437004273382669e+00,\n",
    "    mean_anomaly=-1.9584857031843157e+01,\n",
    ")\n",
    "\n",
    "planets = [planet1, planet2]\n",
    "Time = 66.70357200363651-1.4079405+0.003714472890699483 #-1045                                    # days\n",
    "dt = 0.02                                       # days\n",
    "Total = 510 #1700                                    # days\n",
    "\n",
    "results = ttvfast.ttvfast(planets, stellar_mass, Time, dt, Total)\n",
    "#print(results)"
   ]
  },
  {
   "cell_type": "code",
   "execution_count": 2,
   "metadata": {},
   "outputs": [],
   "source": [
    "#print(results.keys())\n",
    "#print(results[\"positions\"][2])\n",
    "whichplanet = results[\"positions\"][0]\n",
    "whichtransit = results[\"positions\"][1]\n",
    "transittimes = results[\"positions\"][2]\n",
    "planet1transits = []\n",
    "planet1times = []\n",
    "transittimesplanet0 = []\n",
    "transitnumberplanet0 = []\n",
    "for i in range(375):\n",
    "    a = whichplanet[i]\n",
    "    condition = a==0  \n",
    "    if condition: \n",
    "        transittimesplanet0.append(transittimes[i] )\n",
    "        transitnumberplanet0.append(whichtransit[i] )"
   ]
  },
  {
   "cell_type": "code",
   "execution_count": 3,
   "metadata": {},
   "outputs": [
    {
     "data": {
      "text/html": [
       "<div>\n",
       "<style scoped>\n",
       "    .dataframe tbody tr th:only-of-type {\n",
       "        vertical-align: middle;\n",
       "    }\n",
       "\n",
       "    .dataframe tbody tr th {\n",
       "        vertical-align: top;\n",
       "    }\n",
       "\n",
       "    .dataframe thead th {\n",
       "        text-align: right;\n",
       "    }\n",
       "</style>\n",
       "<table border=\"1\" class=\"dataframe\">\n",
       "  <thead>\n",
       "    <tr style=\"text-align: right;\">\n",
       "      <th></th>\n",
       "      <th>Time</th>\n",
       "      <th>Uncertainty</th>\n",
       "    </tr>\n",
       "  </thead>\n",
       "  <tbody>\n",
       "    <tr>\n",
       "      <th>0</th>\n",
       "      <td>2.459016e+06</td>\n",
       "      <td>0.000002</td>\n",
       "    </tr>\n",
       "    <tr>\n",
       "      <th>1</th>\n",
       "      <td>2.459033e+06</td>\n",
       "      <td>0.000002</td>\n",
       "    </tr>\n",
       "    <tr>\n",
       "      <th>2</th>\n",
       "      <td>2.459061e+06</td>\n",
       "      <td>0.000002</td>\n",
       "    </tr>\n",
       "    <tr>\n",
       "      <th>3</th>\n",
       "      <td>2.459085e+06</td>\n",
       "      <td>0.000002</td>\n",
       "    </tr>\n",
       "    <tr>\n",
       "      <th>4</th>\n",
       "      <td>2.459092e+06</td>\n",
       "      <td>0.000003</td>\n",
       "    </tr>\n",
       "    <tr>\n",
       "      <th>5</th>\n",
       "      <td>2.459095e+06</td>\n",
       "      <td>0.000009</td>\n",
       "    </tr>\n",
       "    <tr>\n",
       "      <th>6</th>\n",
       "      <td>2.459102e+06</td>\n",
       "      <td>0.000002</td>\n",
       "    </tr>\n",
       "    <tr>\n",
       "      <th>7</th>\n",
       "      <td>2.459116e+06</td>\n",
       "      <td>0.000003</td>\n",
       "    </tr>\n",
       "    <tr>\n",
       "      <th>8</th>\n",
       "      <td>2.459126e+06</td>\n",
       "      <td>0.000002</td>\n",
       "    </tr>\n",
       "    <tr>\n",
       "      <th>9</th>\n",
       "      <td>2.459140e+06</td>\n",
       "      <td>0.000003</td>\n",
       "    </tr>\n",
       "    <tr>\n",
       "      <th>10</th>\n",
       "      <td>2.458779e+06</td>\n",
       "      <td>0.000002</td>\n",
       "    </tr>\n",
       "    <tr>\n",
       "      <th>11</th>\n",
       "      <td>2.458912e+06</td>\n",
       "      <td>0.000003</td>\n",
       "    </tr>\n",
       "    <tr>\n",
       "      <th>12</th>\n",
       "      <td>2.458981e+06</td>\n",
       "      <td>0.000008</td>\n",
       "    </tr>\n",
       "    <tr>\n",
       "      <th>13</th>\n",
       "      <td>2.458991e+06</td>\n",
       "      <td>0.000006</td>\n",
       "    </tr>\n",
       "    <tr>\n",
       "      <th>14</th>\n",
       "      <td>2.459015e+06</td>\n",
       "      <td>0.000007</td>\n",
       "    </tr>\n",
       "  </tbody>\n",
       "</table>\n",
       "</div>"
      ],
      "text/plain": [
       "            Time  Uncertainty\n",
       "0   2.459016e+06     0.000002\n",
       "1   2.459033e+06     0.000002\n",
       "2   2.459061e+06     0.000002\n",
       "3   2.459085e+06     0.000002\n",
       "4   2.459092e+06     0.000003\n",
       "5   2.459095e+06     0.000009\n",
       "6   2.459102e+06     0.000002\n",
       "7   2.459116e+06     0.000003\n",
       "8   2.459126e+06     0.000002\n",
       "9   2.459140e+06     0.000003\n",
       "10  2.458779e+06     0.000002\n",
       "11  2.458912e+06     0.000003\n",
       "12  2.458981e+06     0.000008\n",
       "13  2.458991e+06     0.000006\n",
       "14  2.459015e+06     0.000007"
      ]
     },
     "execution_count": 3,
     "metadata": {},
     "output_type": "execute_result"
    }
   ],
   "source": [
    "# df=pd.read_csv(r'/Users/sarahkubiak/Desktop/WD1856/test.txt', sep=' ')\n",
    "df=pd.read_csv(r'/Users/sarahkubiak/Desktop/WD1856/newdatawithoutbadthings.txt', sep=' ')\n",
    "df"
   ]
  },
  {
   "cell_type": "code",
   "execution_count": 4,
   "metadata": {},
   "outputs": [],
   "source": [
    "brucetransittime=np.array(df['Time'])\n",
    "#brucetransittime= 1.40794050*brucetransitnumber + 2458779.3750828\n",
    "brucetransitnumber= np.round((brucetransittime-2458779.3750828)/1.40794050)\n",
    "#brucex= brucetransitnumber\n",
    "#brucey=np.array(df['dT[sec]'])\n",
    "bruceerr= np.array(df['Uncertainty'])*60*60*24\n",
    "#fig, ax = plt.subplots(figsize=(16, 8))\n",
    "\n",
    "#plt.errorbar(brucex, brucey, yerr = bruceerr, fmt = 'o')\n",
    "#ax.set_ylabel('seconds');\n",
    "#ax.set_xlabel('transit number');"
   ]
  },
  {
   "cell_type": "code",
   "execution_count": 5,
   "metadata": {},
   "outputs": [],
   "source": [
    "actualbrucetransittime = np.array(df['Time'])-2458700"
   ]
  },
  {
   "cell_type": "code",
   "execution_count": 6,
   "metadata": {},
   "outputs": [
    {
     "name": "stdout",
     "output_type": "stream",
     "text": [
      "315.9088683668524\n"
     ]
    }
   ],
   "source": [
    "print(actualbrucetransittime[0])"
   ]
  },
  {
   "cell_type": "code",
   "execution_count": 7,
   "metadata": {},
   "outputs": [
    {
     "name": "stdout",
     "output_type": "stream",
     "text": [
      "66.703572003636\n"
     ]
    }
   ],
   "source": [
    "print(transittimesplanet0[0])"
   ]
  },
  {
   "cell_type": "code",
   "execution_count": 8,
   "metadata": {},
   "outputs": [
    {
     "data": {
      "text/plain": [
       "-1.407952366862446"
      ]
     },
     "execution_count": 8,
     "metadata": {},
     "output_type": "execute_result"
    }
   ],
   "source": [
    "actualbrucetransittime[14]-actualbrucetransittime[0]"
   ]
  },
  {
   "cell_type": "code",
   "execution_count": 9,
   "metadata": {},
   "outputs": [
    {
     "data": {
      "text/plain": [
       "-249.2052963632164"
      ]
     },
     "execution_count": 9,
     "metadata": {},
     "output_type": "execute_result"
    }
   ],
   "source": [
    "transittimesplanet0[0]- actualbrucetransittime[0]"
   ]
  },
  {
   "cell_type": "code",
   "execution_count": 10,
   "metadata": {},
   "outputs": [
    {
     "name": "stdout",
     "output_type": "stream",
     "text": [
      "[66.703572   69.51945347 73.74333002]\n"
     ]
    }
   ],
   "source": [
    "transittimesplanet0 = np.array(transittimesplanet0)\n",
    "print(transittimesplanet0[np.array([0, 2, 5])])"
   ]
  },
  {
   "cell_type": "code",
   "execution_count": 11,
   "metadata": {},
   "outputs": [
    {
     "name": "stdout",
     "output_type": "stream",
     "text": [
      " bruce transit number 168.0 coresponds to transit time 315.9088683668524\n",
      " bruce transit number 180.0 coresponds to transit time 332.80413679406047\n",
      " bruce transit number 200.0 coresponds to transit time 360.9629293610342\n",
      " bruce transit number 217.0 coresponds to transit time 384.8978941459209\n",
      " bruce transit number 222.0 coresponds to transit time 391.93759056413546\n",
      " bruce transit number 224.0 coresponds to transit time 394.753486501053\n",
      " bruce transit number 229.0 coresponds to transit time 401.793159971945\n",
      " bruce transit number 239.0 coresponds to transit time 415.87255670595914\n",
      " bruce transit number 246.0 coresponds to transit time 425.728129317984\n",
      " bruce transit number 256.0 coresponds to transit time 439.80752397188917\n",
      " bruce transit number 0.0 coresponds to transit time 79.37508499994874\n",
      " bruce transit number 94.0 coresponds to transit time 211.72136700013652\n",
      " bruce transit number 143.0 coresponds to transit time 280.7103829998523\n",
      " bruce transit number 150.0 coresponds to transit time 290.56595900002867\n"
     ]
    }
   ],
   "source": [
    "#for i in range(29):\n",
    "    #print('datapoint number', i,'coresponds to transit time', transittimesplanet0[i] )\n",
    "#print(transittimesplanet0[9])\n",
    "#print(transittimesplanet0[157])\n",
    "#print(transittimesplanet0[174])\n",
    "#print(transittimesplanet0[311])\n",
    "for i in range(14):\n",
    "    print(' bruce transit number', brucetransitnumber[i],'coresponds to transit time', actualbrucetransittime[i] )\n",
    "    #for j in range(len(transittimesplanet0)):\n",
    "        #print(transittimesplanet0[i])\n",
    "        #condition = actualbrucetransittime[i]==transittimesplanet0[i]\n",
    "        #if condition: \n",
    "            #print(i)\n",
    "transitswewant = (brucetransitnumber + 9)\n",
    "transitswewant = (transitswewant.astype(int))\n",
    "#print(transitswewant)"
   ]
  },
  {
   "cell_type": "code",
   "execution_count": 12,
   "metadata": {},
   "outputs": [
    {
     "name": "stdout",
     "output_type": "stream",
     "text": [
      "[-136.33910311 -150.10416608 -174.18533778 -193.84287186 -199.66576359\n",
      " -203.4872703  -207.27673653 -218.92133172 -226.13875391 -231.69492244\n",
      "    8.81725948  -89.71567339 -107.99827277 -115.55639567 -134.04587027]\n"
     ]
    }
   ],
   "source": [
    "print((np.array(transittimesplanet0)[transitswewant]-actualbrucetransittime) * 24 * 60 * 60)"
   ]
  },
  {
   "cell_type": "code",
   "execution_count": 13,
   "metadata": {},
   "outputs": [
    {
     "name": "stdout",
     "output_type": "stream",
     "text": [
      "9020588.128618864\n"
     ]
    }
   ],
   "source": [
    "chisq = np.sum(((actualbrucetransittime - np.array(transittimesplanet0)[transitswewant]) * 24 * 60 * 60)**2 / bruceerr**2)\n",
    "print(chisq)"
   ]
  },
  {
   "cell_type": "code",
   "execution_count": 14,
   "metadata": {},
   "outputs": [],
   "source": [
    "def loglikelihood(p, actualbrucetransittime, bruceerr, yesplot= False): #here p is an array of the parameters: let's define p[0] = slope, and p[1] = intercept\n",
    "    #slope = p[0]\n",
    "    #intercept = p[1]\n",
    "    #quad = p[2]\n",
    "    #model = slope*x + intercept+ quad*x**2\n",
    "    #chisq = np.sum((y - model)**2 / e**2)\n",
    "    \n",
    "    gravity =  0.000295994511                        # AU^3/day^2/M_sun\n",
    "    stellar_mass = 0.518 #0.95573417954    #change me                # M_sun\n",
    "\n",
    "\n",
    "    planet1 = models.Planet(\n",
    "        mass = 0.00954588, #0.00002878248,                         # M_sun\n",
    "        period = p[7],#1.4079405,#1.0917340278625494e+01,              # days\n",
    "        eccentricity = 0,#5.6159310042858110e-02,\n",
    "        inclination = 20,#88.778,#9.0921164935951211e+01,         # degrees\n",
    "        longnode = -1.1729336712101943e-18,           # degrees\n",
    "        argument = 1.8094838714599581e+02,            # degrees\n",
    "        mean_anomaly = p[8],#-90 #-8.7093652691581923e+01,       # degrees\n",
    "    )\n",
    "\n",
    "    planet2 = models.Planet(\n",
    "        mass = p[0],#0.00954588,#0.00061895914,\n",
    "        period = p[1],#200,#1.4079405,#2.2266898036209028e+01,\n",
    "        eccentricity = p[2],#0.7, #5.6691301931178648e-02,\n",
    "        inclination = p[3],#8.7598285693573246e+01,\n",
    "        longnode = p[4],#4.6220554014026838e-01,\n",
    "        argument = p[5],#1.6437004273382669e+00,\n",
    "        mean_anomaly = p[6],#-1.9584857031843157e+01,\n",
    "    )\n",
    "\n",
    "    planets = [planet1, planet2]\n",
    "    Time = 66.70357200363651-1.4079405+0.003714472890699483 #-1045                                    # days\n",
    "    dt = 0.02                                       # days\n",
    "    Total = 510 #1700                                    # days\n",
    "\n",
    "    results = ttvfast.ttvfast(planets, stellar_mass, Time, dt, Total)\n",
    "    whichplanet = results[\"positions\"][0]\n",
    "    whichtransit = results[\"positions\"][1]\n",
    "    transittimes = results[\"positions\"][2]\n",
    "    planet1transits = []\n",
    "    planet1times = []\n",
    "    transittimesplanet0 = []\n",
    "    transitnumberplanet0 = []\n",
    "    for i in range(375):\n",
    "        a = whichplanet[i]\n",
    "        condition = a == 0  \n",
    "        if condition: \n",
    "            transittimesplanet0.append(transittimes[i] )\n",
    "            transitnumberplanet0.append(whichtransit[i] )\n",
    "    \n",
    "    \n",
    "    if yesplot: \n",
    "        fig, ax = plt.subplots(figsize=(16, 8))\n",
    "    #m=np.mean((actualbrucetransittime-1.4079405*brucetransitnumber)*24*60*60)\n",
    "    #model data- model line \n",
    "    #plt.errorbar(brucetransitnumber, (actualbrucetransittime-1.4079405*brucetransitnumber)*24*60*60-m, yerr = bruceerr, fmt = 'o-', label = 'Data')\n",
    "    #print(actualbrucetransittime)\n",
    "    #print(np.array(transittimesplanet0)[transitswewant])\n",
    "    #bruce data- model line \n",
    "    #plt.plot(brucetransitnumber, (np.array(transittimesplanet0)[transitswewant]-1.4079405*brucetransitnumber)*24*60*60-m,\"o-\", label = 'Model')\n",
    "    #ax.set_ylabel('seconds');\n",
    "    '''ax.set_xlabel('transit number');\n",
    "    ax.set_title('mass = '+ str(p[0])+ ' period ='+ str(p[1]))\n",
    "    plt.show()'''\n",
    "    '''print(np.array(transittimesplanet0)[transitswewant[0:5]])\n",
    "    print(actualbrucetransittime[0:5])'''\n",
    "    #print(\"transits we want\",np.array(transittimesplanet0)[transitswewant])\n",
    "    #print(\"actual brue transits\",actualbrucetransittime)\n",
    "    #print(\"actual bruce - transits we want\",actualbrucetransittime-np.array(transittimesplanet0)[transitswewant])\n",
    "    pbruce = np.polyfit(brucetransitnumber,actualbrucetransittime,1, w= 1/bruceerr)\n",
    "    pmodel = np.polyfit(brucetransitnumber,np.array(transittimesplanet0)[transitswewant],1,w= 1/bruceerr)\n",
    "    brucetrend = np.polyval(pbruce,brucetransitnumber)\n",
    "    modeltrend = np.polyval(pmodel,brucetransitnumber)\n",
    "    brucetransittimecorrected = actualbrucetransittime - brucetrend\n",
    "    modeltransittimecorrected = np.array(transittimesplanet0)[transitswewant] - modeltrend\n",
    "    if yesplot:\n",
    "        plt.errorbar(brucetransitnumber,brucetransittimecorrected*60*60*24, yerr = bruceerr, fmt = 'o-', label = 'Corrected Data')\n",
    "        print(actualbrucetransittime)\n",
    "        print(np.array(transittimesplanet0)[transitswewant])\n",
    "        #bruce data- model line \n",
    "        plt.plot(brucetransitnumber, modeltransittimecorrected*60*60*24,\"o-\", label = 'Corrected Model')\n",
    "        ax.set_ylabel('seconds');\n",
    "        ax.set_xlabel('transit number');\n",
    "        ax.set_title('mass = '+ str(p[0])+ ' period ='+ str(p[1])+ 'periastron ='+ str(p[5])) \n",
    "        plt.show()\n",
    "    chisq = np.sum((brucetransittimecorrected*60*60*24 - modeltransittimecorrected*60*60*24)**2/ bruceerr**2)\n",
    "    #print(brucetransittimecorrected*60*60*24 - modeltransittimecorrected*60*60*24)\n",
    "    #print(bruceerr)\n",
    "    negloglikelihood = 0.5 * chisq\n",
    "    return negloglikelihood\n"
   ]
  },
  {
   "cell_type": "code",
   "execution_count": 15,
   "metadata": {},
   "outputs": [
    {
     "data": {
      "text/plain": [
       "849.3221498613184"
      ]
     },
     "execution_count": 15,
     "metadata": {},
     "output_type": "execute_result"
    }
   ],
   "source": [
    "loglikelihood([0.00954588,200,0.6,8.7598285693573246e+01,4.6220554014026838e-01,1.6437004273382669e+00,-1.9584857031843157e+01,1.40795,-90],actualbrucetransittime , bruceerr)"
   ]
  },
  {
   "cell_type": "code",
   "execution_count": 16,
   "metadata": {},
   "outputs": [
    {
     "name": "stdout",
     "output_type": "stream",
     "text": [
      "[168. 180. 200. 217. 222. 224. 229. 239. 246. 256.   0.  94. 143. 150.\n",
      " 167.]\n"
     ]
    }
   ],
   "source": [
    "print(brucetransitnumber)\n"
   ]
  },
  {
   "cell_type": "code",
   "execution_count": 17,
   "metadata": {},
   "outputs": [
    {
     "data": {
      "text/plain": [
       "\"'for j in range(len(massestotest)):\\n        thismass= massestotest[j]\\n        for k in range(len(periodstotest)):\\n            thisperiod= periodstotest[k]\\n            for m in range(len(meananomolytotest)):\\n                thismeananomoly= meananomolytotest[m]\\n                loglikelihood([thismass,\\n                           thisperiod,0.6,\\n                           8.7598285693573246e+01,\\n                           4.6220554014026838e-01,\\n                           1.6437004273382669e+00,\\n                           thismeananomoly,\\n                           1.40795,-90],actualbrucetransittime , bruceerr)\""
      ]
     },
     "execution_count": 17,
     "metadata": {},
     "output_type": "execute_result"
    }
   ],
   "source": [
    "#grid search \n",
    "periodstotest = np.linspace(50,1000,300)\n",
    "massestotest = np.linspace(0.1,13,100)/1047.572 #conversion from jupiter to solar masses\n",
    "periastrontotest = np.linspace(0,360,100)\n",
    "''''for j in range(len(massestotest)):\n",
    "        thismass= massestotest[j]\n",
    "        for k in range(len(periodstotest)):\n",
    "            thisperiod= periodstotest[k]\n",
    "            for m in range(len(meananomolytotest)):\n",
    "                thismeananomoly= meananomolytotest[m]\n",
    "                loglikelihood([thismass,\n",
    "                           thisperiod,0.6,\n",
    "                           8.7598285693573246e+01,\n",
    "                           4.6220554014026838e-01,\n",
    "                           1.6437004273382669e+00,\n",
    "                           thismeananomoly,\n",
    "                           1.40795,-90],actualbrucetransittime , bruceerr)'''\n"
   ]
  },
  {
   "cell_type": "code",
   "execution_count": 18,
   "metadata": {},
   "outputs": [],
   "source": [
    "#for j in range(len(ecentricitiestotest)):\n",
    "    #print(j)\n",
    "    #print('loop finished')\n",
    "    #print(ecentricitiestotest[j])"
   ]
  },
  {
   "cell_type": "code",
   "execution_count": 19,
   "metadata": {},
   "outputs": [
    {
     "name": "stdout",
     "output_type": "stream",
     "text": [
      "[[[0. 0. 0. ... 0. 0. 0.]\n",
      "  [0. 0. 0. ... 0. 0. 0.]\n",
      "  [0. 0. 0. ... 0. 0. 0.]\n",
      "  ...\n",
      "  [0. 0. 0. ... 0. 0. 0.]\n",
      "  [0. 0. 0. ... 0. 0. 0.]\n",
      "  [0. 0. 0. ... 0. 0. 0.]]\n",
      "\n",
      " [[0. 0. 0. ... 0. 0. 0.]\n",
      "  [0. 0. 0. ... 0. 0. 0.]\n",
      "  [0. 0. 0. ... 0. 0. 0.]\n",
      "  ...\n",
      "  [0. 0. 0. ... 0. 0. 0.]\n",
      "  [0. 0. 0. ... 0. 0. 0.]\n",
      "  [0. 0. 0. ... 0. 0. 0.]]\n",
      "\n",
      " [[0. 0. 0. ... 0. 0. 0.]\n",
      "  [0. 0. 0. ... 0. 0. 0.]\n",
      "  [0. 0. 0. ... 0. 0. 0.]\n",
      "  ...\n",
      "  [0. 0. 0. ... 0. 0. 0.]\n",
      "  [0. 0. 0. ... 0. 0. 0.]\n",
      "  [0. 0. 0. ... 0. 0. 0.]]\n",
      "\n",
      " ...\n",
      "\n",
      " [[0. 0. 0. ... 0. 0. 0.]\n",
      "  [0. 0. 0. ... 0. 0. 0.]\n",
      "  [0. 0. 0. ... 0. 0. 0.]\n",
      "  ...\n",
      "  [0. 0. 0. ... 0. 0. 0.]\n",
      "  [0. 0. 0. ... 0. 0. 0.]\n",
      "  [0. 0. 0. ... 0. 0. 0.]]\n",
      "\n",
      " [[0. 0. 0. ... 0. 0. 0.]\n",
      "  [0. 0. 0. ... 0. 0. 0.]\n",
      "  [0. 0. 0. ... 0. 0. 0.]\n",
      "  ...\n",
      "  [0. 0. 0. ... 0. 0. 0.]\n",
      "  [0. 0. 0. ... 0. 0. 0.]\n",
      "  [0. 0. 0. ... 0. 0. 0.]]\n",
      "\n",
      " [[0. 0. 0. ... 0. 0. 0.]\n",
      "  [0. 0. 0. ... 0. 0. 0.]\n",
      "  [0. 0. 0. ... 0. 0. 0.]\n",
      "  ...\n",
      "  [0. 0. 0. ... 0. 0. 0.]\n",
      "  [0. 0. 0. ... 0. 0. 0.]\n",
      "  [0. 0. 0. ... 0. 0. 0.]]]\n",
      "[[[  13.97194605   13.99900087   14.02405818 ...   13.91505701\n",
      "     13.94362013   13.97194751]\n",
      "  [  14.78580845   14.85801036   14.91779237 ...   14.61090125\n",
      "     14.70256726   14.78580797]\n",
      "  [  16.85462076   16.98306339   17.0798192  ...   16.51229976\n",
      "     16.69621252   16.85462076]\n",
      "  ...\n",
      "  [5625.7681988  5666.39097921 5667.00573394 ... 5421.64106817\n",
      "   5543.75654531 5625.76821313]\n",
      "  [5738.66982445 5779.94014513 5780.40575426 ... 5530.79462472\n",
      "   5655.18181553 5738.6698255 ]\n",
      "  [5852.63104643 5894.5515941  5894.86262415 ... 5640.98260653\n",
      "   5767.65698183 5852.6310462 ]]\n",
      "\n",
      " [[  14.38160795   14.46415848   14.5440456  ...   14.21805477\n",
      "     14.29876208   14.38160976]\n",
      "  [  15.39370274   15.54431849   15.68813665 ...   15.08716363\n",
      "     15.23999716   15.39370232]\n",
      "  [  17.28141647   17.45537991   17.61764845 ...   16.91134045\n",
      "     17.09886586   17.28141548]\n",
      "  ...\n",
      "  [3935.90146495 3732.87632676 3527.27815247 ... 4299.64965092\n",
      "   4127.65007457 3935.90146566]\n",
      "  [4013.9549333  3806.62949051 3596.70107953 ... 4385.47220941\n",
      "   4209.77954306 4013.95492485]\n",
      "  [4092.72080438 3881.05372659 3666.75084341 ... 4472.09265247\n",
      "   4292.66735631 4092.72078322]]\n",
      "\n",
      " [[  14.84450701   14.99702717   15.13595883 ...   14.51199498\n",
      "     14.68164221   14.84450701]\n",
      "  [  16.39657233   16.79445144   17.15885815 ...   15.54435791\n",
      "     15.97606241   16.39657274]\n",
      "  [  18.75315125   19.44898178   20.08899464 ...   17.28365749\n",
      "     18.02371249   18.7531499 ]\n",
      "  ...\n",
      "  [3718.11311874 3963.36517698 4193.59246319 ... 3250.41922391\n",
      "   3474.8796917  3718.11316597]\n",
      "  [3791.67956337 4041.53990555 4276.07110465 ... 3315.17372849\n",
      "   3543.86272823 3791.67953463]\n",
      "  [3865.92801767 4120.43440703 4359.30343918 ... 3380.5368015\n",
      "   3613.49000881 3865.92808893]]\n",
      "\n",
      " ...\n",
      "\n",
      " [[  14.22628647   14.22877037   14.23081098 ...   14.22017328\n",
      "     14.22340174   14.22628647]\n",
      "  [  14.26096733   14.26671831   14.2714406  ...   14.24681815\n",
      "     14.25428519   14.26096733]\n",
      "  [  14.29591154   14.30496743   14.31238786 ...   14.27366567\n",
      "     14.28540938   14.29591154]\n",
      "  ...\n",
      "  [  18.77559007   19.22329401   19.58334818 ...   17.67998982\n",
      "     18.25541081   18.77559007]\n",
      "  [  18.83436016   19.28794045   19.65267324 ...   17.72442336\n",
      "     18.30735085   18.83436016]\n",
      "  [  18.89336265   19.3528433    19.7222674  ...   17.76902653\n",
      "     18.35949576   18.89336265]]\n",
      "\n",
      " [[  14.22590673   14.2284111    14.23046791 ...   14.21978819\n",
      "     14.22301477   14.22590673]\n",
      "  [  14.26009117   14.26587923   14.27063404 ...   14.24593134\n",
      "     14.25339457   14.26009117]\n",
      "  [  14.29453725   14.30362739   14.31112383 ...   14.27227239\n",
      "     14.28401049   14.29453725]\n",
      "  ...\n",
      "  [  18.69943607   19.14920698   19.51313293 ...   17.60516705\n",
      "     18.17902237   18.69943607]\n",
      "  [  18.75715187   19.2128353    19.58148137 ...   17.64857119\n",
      "     18.22990828   18.75715187]\n",
      "  [  18.81509414   19.27668781   19.65009088 ...   17.69213867\n",
      "     18.28099895   18.81509414]]\n",
      "\n",
      " [[  14.22553697   14.22803956   14.2301222  ...   14.21941026\n",
      "     14.22263617   14.22553697]\n",
      "  [  14.25922559   14.26503895   14.26983791 ...   14.24505968\n",
      "     14.25252091   14.25922559]\n",
      "  [  14.29317219   14.30230809   14.30986544 ...   14.27089127\n",
      "     14.282631     14.29317219]\n",
      "  ...\n",
      "  [  18.62419455   19.07583775   19.44341234 ...   17.53154842\n",
      "     18.10371664   18.62419455]\n",
      "  [  18.68086154   19.13844126   19.51078873 ...   17.57395151\n",
      "     18.15356643   18.68086154]\n",
      "  [  18.73775496   19.20127195   19.5784349  ...   17.61650738\n",
      "     18.20359887   18.73775496]]]\n"
     ]
    }
   ],
   "source": [
    "a=np.zeros((len(periodstotest),len(massestotest),len(periastrontotest)))\n",
    "testedmasses= np.zeros((len(periodstotest),len(massestotest),len(periastrontotest)))\n",
    "testedperiods = np.zeros((len(periodstotest),len(massestotest),len(periastrontotest)))\n",
    "print(a)\n",
    "for c in range(len(periodstotest)):\n",
    "    for d in range(len(massestotest)):\n",
    "        for e in range(len(periastrontotest)):\n",
    "            a[c,d,e]=loglikelihood([massestotest[d],periodstotest[c],0,8.7598285693573246e+01,\n",
    "                                               4.6220554014026838e-01,periastrontotest[e],\n",
    "                                               135,1.40795,-90],actualbrucetransittime , bruceerr)\n",
    "            testedmasses[c,d,e]=massestotest[d]\n",
    "            testedperiods[c,d,e]= periodstotest[c]\n",
    "print(a)"
   ]
  },
  {
   "cell_type": "code",
   "execution_count": 20,
   "metadata": {},
   "outputs": [
    {
     "data": {
      "text/plain": [
       "Text(0.5, 0, 'masses in solar masses')"
      ]
     },
     "execution_count": 20,
     "metadata": {},
     "output_type": "execute_result"
    },
    {
     "data": {
      "image/png": "[encoded data removed]",
      "text/plain": [
       "<Figure size 432x288 with 2 Axes>"
      ]
     },
     "metadata": {
      "needs_background": "light"
     },
     "output_type": "display_data"
    }
   ],
   "source": [
    "fig,ax= plt.subplots()\n",
    "im=ax.imshow(np.min(a, axis= 2),extent = [min(massestotest), max(massestotest),max(periodstotest),min(periodstotest)], aspect='auto')\n",
    "\n",
    "fig.colorbar(im)\n",
    "ax.set_ylabel('period in days')\n",
    "ax.set_xlabel('masses in solar masses')\n"
   ]
  },
  {
   "cell_type": "code",
   "execution_count": 21,
   "metadata": {},
   "outputs": [
    {
     "data": {
      "text/plain": [
       "Text(0.5, 0, 'masses in solar masses')"
      ]
     },
     "execution_count": 21,
     "metadata": {},
     "output_type": "execute_result"
    },
    {
     "data": {
      "image/png": "[encoded data removed]",
      "text/plain": [
       "<Figure size 432x288 with 2 Axes>"
      ]
     },
     "metadata": {
      "needs_background": "light"
     },
     "output_type": "display_data"
    }
   ],
   "source": [
    "fig,ax= plt.subplots()\n",
    "im=ax.imshow(np.min(testedmasses, axis= 2),extent = [min(massestotest), max(massestotest),max(periodstotest),min(periodstotest)], aspect='auto')\n",
    "\n",
    "fig.colorbar(im)\n",
    "ax.set_ylabel('period in days')\n",
    "ax.set_xlabel('masses in solar masses')"
   ]
  },
  {
   "cell_type": "code",
   "execution_count": 22,
   "metadata": {},
   "outputs": [
    {
     "data": {
      "text/plain": [
       "Text(0.5, 0, 'masses in solar masses')"
      ]
     },
     "execution_count": 22,
     "metadata": {},
     "output_type": "execute_result"
    },
    {
     "data": {
      "image/png": "[encoded data removed]",
      "text/plain": [
       "<Figure size 432x288 with 2 Axes>"
      ]
     },
     "metadata": {
      "needs_background": "light"
     },
     "output_type": "display_data"
    }
   ],
   "source": [
    "fig,ax= plt.subplots()\n",
    "im=ax.imshow(np.min(testedperiods, axis= 2),extent = [min(massestotest), max(massestotest),max(periodstotest),min(periodstotest)], aspect='auto')\n",
    "\n",
    "fig.colorbar(im)\n",
    "ax.set_ylabel('period in days')\n",
    "ax.set_xlabel('masses in solar masses')"
   ]
  },
  {
   "cell_type": "code",
   "execution_count": 23,
   "metadata": {},
   "outputs": [
    {
     "data": {
      "text/plain": [
       "[<matplotlib.lines.Line2D at 0x7f8f97b02430>]"
      ]
     },
     "execution_count": 23,
     "metadata": {},
     "output_type": "execute_result"
    },
    {
     "data": {
      "image/png": "[encoded data removed]",
      "text/plain": [
       "<Figure size 432x288 with 1 Axes>"
      ]
     },
     "metadata": {
      "needs_background": "light"
     },
     "output_type": "display_data"
    }
   ],
   "source": [
    "plt.plot(np.resize(a, 5*5*6))"
   ]
  },
  {
   "cell_type": "code",
   "execution_count": 26,
   "metadata": {},
   "outputs": [],
   "source": [
    "np.savez(\"biggermeananomly135masstest.npz\",a=a,massestotest=massestotest,periodstotest=periodstotest,periastrontotest=periastrontotest )"
   ]
  },
  {
   "cell_type": "code",
   "execution_count": 27,
   "metadata": {},
   "outputs": [],
   "source": [
    "f=np.load('biggermeananomly135masstest.npz')\n",
    "a = f[\"a\"]\n",
    "massestotest = f['massestotest']\n",
    "periodstotest = f['periodstotest']\n",
    "periastrontotest = f['periastrontotest']"
   ]
  },
  {
   "cell_type": "code",
   "execution_count": 28,
   "metadata": {},
   "outputs": [
    {
     "name": "stdout",
     "output_type": "stream",
     "text": [
      "[[[  13.97194605   13.99900087   14.02405818 ...   13.91505701\n",
      "     13.94362013   13.97194751]\n",
      "  [  14.78580845   14.85801036   14.91779237 ...   14.61090125\n",
      "     14.70256726   14.78580797]\n",
      "  [  16.85462076   16.98306339   17.0798192  ...   16.51229976\n",
      "     16.69621252   16.85462076]\n",
      "  ...\n",
      "  [5625.7681988  5666.39097921 5667.00573394 ... 5421.64106817\n",
      "   5543.75654531 5625.76821313]\n",
      "  [5738.66982445 5779.94014513 5780.40575426 ... 5530.79462472\n",
      "   5655.18181553 5738.6698255 ]\n",
      "  [5852.63104643 5894.5515941  5894.86262415 ... 5640.98260653\n",
      "   5767.65698183 5852.6310462 ]]\n",
      "\n",
      " [[  14.38160795   14.46415848   14.5440456  ...   14.21805477\n",
      "     14.29876208   14.38160976]\n",
      "  [  15.39370274   15.54431849   15.68813665 ...   15.08716363\n",
      "     15.23999716   15.39370232]\n",
      "  [  17.28141647   17.45537991   17.61764845 ...   16.91134045\n",
      "     17.09886586   17.28141548]\n",
      "  ...\n",
      "  [3935.90146495 3732.87632676 3527.27815247 ... 4299.64965092\n",
      "   4127.65007457 3935.90146566]\n",
      "  [4013.9549333  3806.62949051 3596.70107953 ... 4385.47220941\n",
      "   4209.77954306 4013.95492485]\n",
      "  [4092.72080438 3881.05372659 3666.75084341 ... 4472.09265247\n",
      "   4292.66735631 4092.72078322]]\n",
      "\n",
      " [[  14.84450701   14.99702717   15.13595883 ...   14.51199498\n",
      "     14.68164221   14.84450701]\n",
      "  [  16.39657233   16.79445144   17.15885815 ...   15.54435791\n",
      "     15.97606241   16.39657274]\n",
      "  [  18.75315125   19.44898178   20.08899464 ...   17.28365749\n",
      "     18.02371249   18.7531499 ]\n",
      "  ...\n",
      "  [3718.11311874 3963.36517698 4193.59246319 ... 3250.41922391\n",
      "   3474.8796917  3718.11316597]\n",
      "  [3791.67956337 4041.53990555 4276.07110465 ... 3315.17372849\n",
      "   3543.86272823 3791.67953463]\n",
      "  [3865.92801767 4120.43440703 4359.30343918 ... 3380.5368015\n",
      "   3613.49000881 3865.92808893]]\n",
      "\n",
      " ...\n",
      "\n",
      " [[  14.22628647   14.22877037   14.23081098 ...   14.22017328\n",
      "     14.22340174   14.22628647]\n",
      "  [  14.26096733   14.26671831   14.2714406  ...   14.24681815\n",
      "     14.25428519   14.26096733]\n",
      "  [  14.29591154   14.30496743   14.31238786 ...   14.27366567\n",
      "     14.28540938   14.29591154]\n",
      "  ...\n",
      "  [  18.77559007   19.22329401   19.58334818 ...   17.67998982\n",
      "     18.25541081   18.77559007]\n",
      "  [  18.83436016   19.28794045   19.65267324 ...   17.72442336\n",
      "     18.30735085   18.83436016]\n",
      "  [  18.89336265   19.3528433    19.7222674  ...   17.76902653\n",
      "     18.35949576   18.89336265]]\n",
      "\n",
      " [[  14.22590673   14.2284111    14.23046791 ...   14.21978819\n",
      "     14.22301477   14.22590673]\n",
      "  [  14.26009117   14.26587923   14.27063404 ...   14.24593134\n",
      "     14.25339457   14.26009117]\n",
      "  [  14.29453725   14.30362739   14.31112383 ...   14.27227239\n",
      "     14.28401049   14.29453725]\n",
      "  ...\n",
      "  [  18.69943607   19.14920698   19.51313293 ...   17.60516705\n",
      "     18.17902237   18.69943607]\n",
      "  [  18.75715187   19.2128353    19.58148137 ...   17.64857119\n",
      "     18.22990828   18.75715187]\n",
      "  [  18.81509414   19.27668781   19.65009088 ...   17.69213867\n",
      "     18.28099895   18.81509414]]\n",
      "\n",
      " [[  14.22553697   14.22803956   14.2301222  ...   14.21941026\n",
      "     14.22263617   14.22553697]\n",
      "  [  14.25922559   14.26503895   14.26983791 ...   14.24505968\n",
      "     14.25252091   14.25922559]\n",
      "  [  14.29317219   14.30230809   14.30986544 ...   14.27089127\n",
      "     14.282631     14.29317219]\n",
      "  ...\n",
      "  [  18.62419455   19.07583775   19.44341234 ...   17.53154842\n",
      "     18.10371664   18.62419455]\n",
      "  [  18.68086154   19.13844126   19.51078873 ...   17.57395151\n",
      "     18.15356643   18.68086154]\n",
      "  [  18.73775496   19.20127195   19.5784349  ...   17.61650738\n",
      "     18.20359887   18.73775496]]]\n"
     ]
    }
   ],
   "source": [
    "print(f[\"a\"])"
   ]
  },
  {
   "cell_type": "code",
   "execution_count": 29,
   "metadata": {},
   "outputs": [
    {
     "name": "stdout",
     "output_type": "stream",
     "text": [
      "6.808982454326428e-07\n"
     ]
    },
    {
     "name": "stderr",
     "output_type": "stream",
     "text": [
      "<ipython-input-29-8a40078f8e3a>:8: RuntimeWarning: divide by zero encountered in log10\n",
      "  im=ax.imshow(np.maximum(np.log10(planetlikihood/noplanetlikihood), -4 ),extent = [min(massestotest)*1047.572, max(massestotest)*1047.572,max(periodstotest),min(periodstotest)], aspect='auto')\n"
     ]
    },
    {
     "data": {
      "text/plain": [
       "Text(0.5, 0, 'masses in Jupiter masses')"
      ]
     },
     "execution_count": 29,
     "metadata": {},
     "output_type": "execute_result"
    },
    {
     "data": {
      "image/png": "[encoded data removed]",
      "text/plain": [
       "<Figure size 432x288 with 2 Axes>"
      ]
     },
     "metadata": {
      "needs_background": "light"
     },
     "output_type": "display_data"
    }
   ],
   "source": [
    "noplanetlikihood=np.exp(loglikelihood([0,120,0,90,\n",
    "                                               4.6220554014026838e-01,1.6437004273382669e+00,\n",
    "                                               135,1.40795,-90],actualbrucetransittime , bruceerr, yesplot= False)*-1)\n",
    "print(noplanetlikihood)\n",
    "planetlikihood = np.exp(-1*np.min(a, axis= 2))\n",
    "\n",
    "fig,ax= plt.subplots()\n",
    "im=ax.imshow(np.maximum(np.log10(planetlikihood/noplanetlikihood), -4 ),extent = [min(massestotest)*1047.572, max(massestotest)*1047.572,max(periodstotest),min(periodstotest)], aspect='auto')\n",
    "\n",
    "fig.colorbar(im, label = 'log base ten probability')\n",
    "ax.set_ylabel('period in days')\n",
    "ax.set_xlabel('masses in Jupiter masses')"
   ]
  },
  {
   "cell_type": "code",
   "execution_count": 30,
   "metadata": {},
   "outputs": [
    {
     "name": "stdout",
     "output_type": "stream",
     "text": [
      "6.808982454326428e-07\n",
      "[[9.95593869e-07 7.29114455e-07 2.32269935e-07 ... 0.00000000e+00\n",
      "  0.00000000e+00 0.00000000e+00]\n",
      " [1.12107637e-06 1.20156603e-06 6.74485247e-07 ... 0.00000000e+00\n",
      "  0.00000000e+00 0.00000000e+00]\n",
      " [2.15421474e-06 4.35268634e-06 3.61236290e-06 ... 0.00000000e+00\n",
      "  0.00000000e+00 0.00000000e+00]\n",
      " ...\n",
      " [7.05066386e-07 7.37593929e-07 7.71317802e-07 ... 1.01180422e-05\n",
      "  1.02404889e-05 1.03613137e-05]\n",
      " [7.04902283e-07 7.37195313e-07 7.70672572e-07 ... 1.00244198e-05\n",
      "  1.01458695e-05 1.02657269e-05]\n",
      " [7.04732184e-07 7.36798290e-07 7.70023840e-07 ... 9.93084426e-06\n",
      "  1.00512861e-05 1.01701918e-05]]\n",
      "[[  13.81992642   14.13143511   15.27536563 ... 3390.23238673\n",
      "  3458.72466385 3527.88088444]\n",
      " [  13.70122129   13.63188483   14.20931603 ... 2674.58529639\n",
      "  2726.31923648 2778.50721012]\n",
      " [  13.04808429   12.34471735   12.53114846 ... 2613.61793534\n",
      "  2665.27719315 2717.41530826]\n",
      " ...\n",
      " [  14.16497387   14.1198724    14.07516535 ...   11.50119037\n",
      "    11.4891612    11.47743153]\n",
      " [  14.16520665   14.12041297   14.07600223 ...   11.51048646\n",
      "    11.49844388   11.4866997 ]\n",
      " [  14.16544799   14.12095167   14.07684436 ...   11.51986506\n",
      "    11.50780996   11.49604949]]\n"
     ]
    }
   ],
   "source": [
    "print(noplanetlikihood)\n",
    "print(planetlikihood)\n",
    "print(np.min(a, axis = 2))"
   ]
  },
  {
   "cell_type": "code",
   "execution_count": 31,
   "metadata": {},
   "outputs": [],
   "source": [
    "#test=loglikelihood([massestotest[c],periodstotest[d],0.6,8.7598285693573246e+01,\n",
    "                                              # 4.6220554014026838e-01,1.6437004273382669e+00,\n",
    "                                               #meananomolytotest[e],1.40795,-90],actualbrucetransittime , bruceerr, yesplot= True)\n",
    "#print(test)\n",
    "#print(noplanetlikihood)"
   ]
  },
  {
   "cell_type": "code",
   "execution_count": 32,
   "metadata": {},
   "outputs": [
    {
     "name": "stdout",
     "output_type": "stream",
     "text": [
      "(9, 6, 9)\n",
      "78.59531772575251\n",
      "0.0008417733404655546\n",
      "32.72727272727273\n"
     ]
    }
   ],
   "source": [
    "import numpy as np\n",
    "f=np.load('biggermeananomly135masstest.npz')\n",
    "a = f[\"a\"]\n",
    "ind = np.unravel_index(np.argmin(f[\"a\"], axis=None), f[\"a\"].shape)\n",
    "print(ind)\n",
    "print(f[\"periodstotest\"][ind[0]])\n",
    "print(f[\"massestotest\"][ind[1]])\n",
    "#meananomolytotest = np.linspace(0,360,100)\n",
    "print(f[\"periastrontotest\"][ind[2]])"
   ]
  },
  {
   "cell_type": "code",
   "execution_count": 33,
   "metadata": {},
   "outputs": [
    {
     "name": "stdout",
     "output_type": "stream",
     "text": [
      "[315.90886837 332.80413679 360.96292936 384.89789415 391.93759056\n",
      " 394.7534865  401.79315997 415.87255671 425.72812932 439.80752397\n",
      "  79.375085   211.721367   280.710383   290.565959   314.500916  ]\n",
      "[315.91106169 332.80648191 360.96552241 384.90070585 391.94046091\n",
      " 394.7563629  401.79612048 415.87564206 425.73130608 439.81082567\n",
      "  79.37515727 211.72262752 280.71226725 290.5679309  314.50311078]\n"
     ]
    },
    {
     "data": {
      "image/png": "[encoded data removed]",
      "text/plain": [
       "<Figure size 1152x576 with 1 Axes>"
      ]
     },
     "metadata": {
      "needs_background": "light"
     },
     "output_type": "display_data"
    }
   ],
   "source": [
    "somethingwedontcareabout=np.exp(loglikelihood([f[\"massestotest\"][ind[1]],f[\"periodstotest\"][ind[0]],0,90,\n",
    "                                               4.6220554014026838e-01,f[\"periastrontotest\"][ind[2]],\n",
    "                                               135,1.40795,-90],actualbrucetransittime , bruceerr, yesplot= True)*-1)"
   ]
  },
  {
   "cell_type": "code",
   "execution_count": 34,
   "metadata": {},
   "outputs": [
    {
     "name": "stdout",
     "output_type": "stream",
     "text": [
      "6.808982454326428e-07\n",
      "(300, 100, 100)\n",
      "(300, 100)\n"
     ]
    },
    {
     "data": {
      "image/png": "[encoded data removed]",
      "text/plain": [
       "<Figure size 432x288 with 2 Axes>"
      ]
     },
     "metadata": {
      "needs_background": "light"
     },
     "output_type": "display_data"
    }
   ],
   "source": [
    "\n",
    "noplanetlikihood=np.exp(loglikelihood([0,120,0,90,\n",
    "                                               4.6220554014026838e-01,1.6437004273382669e+00,\n",
    "                                               135,1.40795,-90],actualbrucetransittime , bruceerr, yesplot= False)*-1)\n",
    "print(noplanetlikihood)\n",
    "planetlikihood = np.exp(-1*a[:,0,:])\n",
    "fig,ax= plt.subplots()\n",
    "im=ax.imshow(np.maximum(np.log10(planetlikihood/noplanetlikihood),-4 ),extent = [min(massestotest)*1047.572, max(massestotest)*1047.572,max(periodstotest),min(periodstotest)], aspect='auto')\n",
    "\n",
    "fig.colorbar(im, label = 'log base ten probability')\n",
    "ax.set_xlabel('periods in days')\n",
    "ax.set_ylabel('masses in jupiter masses')\n",
    "print(np.shape(a))\n",
    "print(np.shape(planetlikihood))"
   ]
  },
  {
   "cell_type": "code",
   "execution_count": 35,
   "metadata": {},
   "outputs": [
    {
     "name": "stdout",
     "output_type": "stream",
     "text": [
      "[315.90886837 332.80413679 360.96292936 384.89789415 391.93759056\n",
      " 394.7534865  401.79315997 415.87255671 425.72812932 439.80752397\n",
      "  79.375085   211.721367   280.710383   290.565959   314.500916  ]\n",
      "[315.91730737 332.81338445 360.97356261 384.90943666 391.94934457\n",
      " 394.76557223 401.80548035 415.88523083 425.74105606 439.82079611\n",
      "  79.37521598 211.72485563 280.71696238 290.57290408 314.50930077]\n"
     ]
    },
    {
     "data": {
      "image/png": "[encoded data removed]",
      "text/plain": [
       "<Figure size 1152x576 with 1 Axes>"
      ]
     },
     "metadata": {
      "needs_background": "light"
     },
     "output_type": "display_data"
    },
    {
     "name": "stdout",
     "output_type": "stream",
     "text": [
      "14.079285782171894\n",
      "14.092858026828116\n",
      "0.04646730963117831\n"
     ]
    }
   ],
   "source": [
    "test=loglikelihood([massestotest[35],periodstotest[0],0.6,8.7598285693573246e+01,\n",
    "                                               4.6220554014026838e-01,1.6437004273382669e+00,\n",
    "                                               135,1.40795,-90],actualbrucetransittime , bruceerr, yesplot= True)\n",
    "#print(test)\n",
    "#print(noplanetlikihood)\n",
    "#a[c,d,e]=loglikelihood([1/1047.572,130,ecentricitiestotest[c],inclinationstotest[d],\n",
    "                                               #4.6220554014026838e-01,1.6437004273382669e+00,\n",
    "                                               #meananomolytotest[e],1.40795,-90],actualbrucetransittime , bruceerr)\n",
    "print(a[35,0,0])\n",
    "print(a[35,0,1])\n",
    "planetlikihood = np.exp(-1*a[35,0,1])\n",
    "ratio = np.maximum(np.log10(planetlikihood/noplanetlikihood),-4 ) \n",
    "print(ratio)\n"
   ]
  },
  {
   "cell_type": "code",
   "execution_count": 36,
   "metadata": {},
   "outputs": [],
   "source": [
    "#fig,ax= plt.subplots()\n",
    "#im=ax.imshow(np.log(a[:,0,:]))\n",
    "#np.shape(a[:,0,:])"
   ]
  },
  {
   "cell_type": "code",
   "execution_count": 37,
   "metadata": {},
   "outputs": [],
   "source": [
    "#junk=np.random.uniform(0,1,(3,6))\n",
    "#print(junk)\n",
    "#fig,ax= plt.subplots()\n",
    "#im=ax.imshow(junk)"
   ]
  },
  {
   "cell_type": "code",
   "execution_count": null,
   "metadata": {},
   "outputs": [],
   "source": []
  },
  {
   "cell_type": "code",
   "execution_count": null,
   "metadata": {},
   "outputs": [],
   "source": []
  }
 ],
 "metadata": {
  "kernelspec": {
   "display_name": "Python 3",
   "language": "python",
   "name": "python3"
  },
  "language_info": {
   "codemirror_mode": {
    "name": "ipython",
    "version": 3
   },
   "file_extension": ".py",
   "mimetype": "text/x-python",
   "name": "python",
   "nbconvert_exporter": "python",
   "pygments_lexer": "ipython3",
   "version": "3.8.8"
  }
 },
 "nbformat": 4,
 "nbformat_minor": 4
}
