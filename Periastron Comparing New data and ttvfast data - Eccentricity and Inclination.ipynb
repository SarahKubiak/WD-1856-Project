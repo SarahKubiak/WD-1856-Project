{
 "cells": [
  {
   "cell_type": "code",
   "execution_count": 1,
   "metadata": {},
   "outputs": [],
   "source": [
    "import ttvfast\n",
    "import numpy as np\n",
    "import pandas as pd \n",
    "import matplotlib.pyplot as plt\n",
    "from ttvfast import models\n",
    "import pdb\n",
    "\n",
    "\n",
    "\n",
    "gravity =  0.000295994511                        # AU^3/day^2/M_sun\n",
    "stellar_mass = 0.518 #0.95573417954    #change me                # M_sun\n",
    "\n",
    "\n",
    "planet1 = models.Planet(\n",
    "    mass=0.00954588, #0.00002878248,                         # M_sun\n",
    "    period=1.4079405,#1.0917340278625494e+01,              # days\n",
    "    eccentricity=0,#5.6159310042858110e-02,\n",
    "    inclination=88.778,#9.0921164935951211e+01,         # degrees\n",
    "    longnode=-1.1729336712101943e-18,           # degrees\n",
    "    argument=1.8094838714599581e+02,            # degrees\n",
    "    mean_anomaly= -90 #-8.7093652691581923e+01,       # degrees\n",
    ")\n",
    "\n",
    "planet2 = models.Planet(\n",
    "    mass=0.00954588,#0.00061895914,\n",
    "    period=200,#1.4079405,#2.2266898036209028e+01,\n",
    "    eccentricity= 0.7, #5.6691301931178648e-02,\n",
    "    inclination=8.7598285693573246e+01,\n",
    "    longnode=4.6220554014026838e-01,\n",
    "    argument=1.6437004273382669e+00,\n",
    "    mean_anomaly=-1.9584857031843157e+01,\n",
    ")\n",
    "\n",
    "planets = [planet1, planet2]\n",
    "Time = 66.70357200363651-1.4079405+0.003714472890699483 #-1045                                    # days\n",
    "dt = 0.02                                       # days\n",
    "Total = 510 #1700                                    # days\n",
    "\n",
    "results = ttvfast.ttvfast(planets, stellar_mass, Time, dt, Total)\n",
    "#print(results)"
   ]
  },
  {
   "cell_type": "code",
   "execution_count": 2,
   "metadata": {},
   "outputs": [],
   "source": [
    "#print(results.keys())\n",
    "#print(results[\"positions\"][2])\n",
    "whichplanet = results[\"positions\"][0]\n",
    "whichtransit = results[\"positions\"][1]\n",
    "transittimes = results[\"positions\"][2]\n",
    "planet1transits = []\n",
    "planet1times = []\n",
    "transittimesplanet0 = []\n",
    "transitnumberplanet0 = []\n",
    "for i in range(375):\n",
    "    a = whichplanet[i]\n",
    "    condition = a==0  \n",
    "    if condition: \n",
    "        transittimesplanet0.append(transittimes[i] )\n",
    "        transitnumberplanet0.append(whichtransit[i] )"
   ]
  },
  {
   "cell_type": "code",
   "execution_count": 3,
   "metadata": {},
   "outputs": [
    {
     "data": {
      "text/html": [
       "<div>\n",
       "<style scoped>\n",
       "    .dataframe tbody tr th:only-of-type {\n",
       "        vertical-align: middle;\n",
       "    }\n",
       "\n",
       "    .dataframe tbody tr th {\n",
       "        vertical-align: top;\n",
       "    }\n",
       "\n",
       "    .dataframe thead th {\n",
       "        text-align: right;\n",
       "    }\n",
       "</style>\n",
       "<table border=\"1\" class=\"dataframe\">\n",
       "  <thead>\n",
       "    <tr style=\"text-align: right;\">\n",
       "      <th></th>\n",
       "      <th>Time</th>\n",
       "      <th>Uncertainty</th>\n",
       "    </tr>\n",
       "  </thead>\n",
       "  <tbody>\n",
       "    <tr>\n",
       "      <th>0</th>\n",
       "      <td>2.459016e+06</td>\n",
       "      <td>0.000002</td>\n",
       "    </tr>\n",
       "    <tr>\n",
       "      <th>1</th>\n",
       "      <td>2.459033e+06</td>\n",
       "      <td>0.000002</td>\n",
       "    </tr>\n",
       "    <tr>\n",
       "      <th>2</th>\n",
       "      <td>2.459061e+06</td>\n",
       "      <td>0.000002</td>\n",
       "    </tr>\n",
       "    <tr>\n",
       "      <th>3</th>\n",
       "      <td>2.459085e+06</td>\n",
       "      <td>0.000002</td>\n",
       "    </tr>\n",
       "    <tr>\n",
       "      <th>4</th>\n",
       "      <td>2.459092e+06</td>\n",
       "      <td>0.000003</td>\n",
       "    </tr>\n",
       "    <tr>\n",
       "      <th>5</th>\n",
       "      <td>2.459095e+06</td>\n",
       "      <td>0.000009</td>\n",
       "    </tr>\n",
       "    <tr>\n",
       "      <th>6</th>\n",
       "      <td>2.459102e+06</td>\n",
       "      <td>0.000002</td>\n",
       "    </tr>\n",
       "    <tr>\n",
       "      <th>7</th>\n",
       "      <td>2.459116e+06</td>\n",
       "      <td>0.000003</td>\n",
       "    </tr>\n",
       "    <tr>\n",
       "      <th>8</th>\n",
       "      <td>2.459126e+06</td>\n",
       "      <td>0.000002</td>\n",
       "    </tr>\n",
       "    <tr>\n",
       "      <th>9</th>\n",
       "      <td>2.459140e+06</td>\n",
       "      <td>0.000003</td>\n",
       "    </tr>\n",
       "    <tr>\n",
       "      <th>10</th>\n",
       "      <td>2.458779e+06</td>\n",
       "      <td>0.000002</td>\n",
       "    </tr>\n",
       "    <tr>\n",
       "      <th>11</th>\n",
       "      <td>2.458912e+06</td>\n",
       "      <td>0.000003</td>\n",
       "    </tr>\n",
       "    <tr>\n",
       "      <th>12</th>\n",
       "      <td>2.458981e+06</td>\n",
       "      <td>0.000008</td>\n",
       "    </tr>\n",
       "    <tr>\n",
       "      <th>13</th>\n",
       "      <td>2.458991e+06</td>\n",
       "      <td>0.000006</td>\n",
       "    </tr>\n",
       "    <tr>\n",
       "      <th>14</th>\n",
       "      <td>2.459015e+06</td>\n",
       "      <td>0.000007</td>\n",
       "    </tr>\n",
       "  </tbody>\n",
       "</table>\n",
       "</div>"
      ],
      "text/plain": [
       "            Time  Uncertainty\n",
       "0   2.459016e+06     0.000002\n",
       "1   2.459033e+06     0.000002\n",
       "2   2.459061e+06     0.000002\n",
       "3   2.459085e+06     0.000002\n",
       "4   2.459092e+06     0.000003\n",
       "5   2.459095e+06     0.000009\n",
       "6   2.459102e+06     0.000002\n",
       "7   2.459116e+06     0.000003\n",
       "8   2.459126e+06     0.000002\n",
       "9   2.459140e+06     0.000003\n",
       "10  2.458779e+06     0.000002\n",
       "11  2.458912e+06     0.000003\n",
       "12  2.458981e+06     0.000008\n",
       "13  2.458991e+06     0.000006\n",
       "14  2.459015e+06     0.000007"
      ]
     },
     "execution_count": 3,
     "metadata": {},
     "output_type": "execute_result"
    }
   ],
   "source": [
    "# df=pd.read_csv(r'/Users/sarahkubiak/Desktop/WD1856/test.txt', sep=' ')\n",
    "df=pd.read_csv(r'/Users/sarahkubiak/Desktop/WD1856/newdatawithoutbadthings.txt', sep=' ')\n",
    "df"
   ]
  },
  {
   "cell_type": "code",
   "execution_count": 4,
   "metadata": {},
   "outputs": [],
   "source": [
    "brucetransittime=np.array(df['Time'])\n",
    "#brucetransittime= 1.40794050*brucetransitnumber + 2458779.3750828\n",
    "brucetransitnumber= np.round((brucetransittime-2458779.3750828)/1.40794050)\n",
    "#brucex= brucetransitnumber\n",
    "#brucey=np.array(df['dT[sec]'])\n",
    "bruceerr= np.array(df['Uncertainty'])*60*60*24\n",
    "#fig, ax = plt.subplots(figsize=(16, 8))\n",
    "\n",
    "#plt.errorbar(brucex, brucey, yerr = bruceerr, fmt = 'o')\n",
    "#ax.set_ylabel('seconds');\n",
    "#ax.set_xlabel('transit number');"
   ]
  },
  {
   "cell_type": "code",
   "execution_count": 5,
   "metadata": {},
   "outputs": [],
   "source": [
    "actualbrucetransittime = np.array(df['Time'])-2458700"
   ]
  },
  {
   "cell_type": "code",
   "execution_count": 6,
   "metadata": {},
   "outputs": [
    {
     "name": "stdout",
     "output_type": "stream",
     "text": [
      "315.9088683668524\n"
     ]
    }
   ],
   "source": [
    "print(actualbrucetransittime[0])"
   ]
  },
  {
   "cell_type": "code",
   "execution_count": 7,
   "metadata": {},
   "outputs": [
    {
     "name": "stdout",
     "output_type": "stream",
     "text": [
      "66.703572003636\n"
     ]
    }
   ],
   "source": [
    "print(transittimesplanet0[0])"
   ]
  },
  {
   "cell_type": "code",
   "execution_count": 8,
   "metadata": {},
   "outputs": [
    {
     "data": {
      "text/plain": [
       "-1.407952366862446"
      ]
     },
     "execution_count": 8,
     "metadata": {},
     "output_type": "execute_result"
    }
   ],
   "source": [
    "actualbrucetransittime[14]-actualbrucetransittime[0]"
   ]
  },
  {
   "cell_type": "code",
   "execution_count": 9,
   "metadata": {},
   "outputs": [
    {
     "data": {
      "text/plain": [
       "-249.2052963632164"
      ]
     },
     "execution_count": 9,
     "metadata": {},
     "output_type": "execute_result"
    }
   ],
   "source": [
    "transittimesplanet0[0]- actualbrucetransittime[0]"
   ]
  },
  {
   "cell_type": "code",
   "execution_count": 10,
   "metadata": {},
   "outputs": [
    {
     "name": "stdout",
     "output_type": "stream",
     "text": [
      "[66.703572   69.51945347 73.74333002]\n"
     ]
    }
   ],
   "source": [
    "transittimesplanet0 = np.array(transittimesplanet0)\n",
    "print(transittimesplanet0[np.array([0, 2, 5])])"
   ]
  },
  {
   "cell_type": "code",
   "execution_count": 11,
   "metadata": {},
   "outputs": [
    {
     "name": "stdout",
     "output_type": "stream",
     "text": [
      "79.37518705156312\n",
      "287.74876840384854\n",
      "311.6835128489974\n",
      "504.56979627384464\n",
      " bruce transit number 168.0 coresponds to transit time 315.9088683668524\n",
      " bruce transit number 180.0 coresponds to transit time 332.80413679406047\n",
      " bruce transit number 200.0 coresponds to transit time 360.9629293610342\n",
      " bruce transit number 217.0 coresponds to transit time 384.8978941459209\n",
      " bruce transit number 222.0 coresponds to transit time 391.93759056413546\n",
      " bruce transit number 224.0 coresponds to transit time 394.753486501053\n",
      " bruce transit number 229.0 coresponds to transit time 401.793159971945\n",
      " bruce transit number 239.0 coresponds to transit time 415.87255670595914\n",
      " bruce transit number 246.0 coresponds to transit time 425.728129317984\n",
      " bruce transit number 256.0 coresponds to transit time 439.80752397188917\n",
      " bruce transit number 0.0 coresponds to transit time 79.37508499994874\n",
      " bruce transit number 94.0 coresponds to transit time 211.72136700013652\n",
      " bruce transit number 143.0 coresponds to transit time 280.7103829998523\n",
      " bruce transit number 150.0 coresponds to transit time 290.56595900002867\n",
      "[177 189 209 226 231 233 238 248 255 265   9 103 152 159 176]\n"
     ]
    }
   ],
   "source": [
    "#for i in range(29):\n",
    "    #print('datapoint number', i,'coresponds to transit time', transittimesplanet0[i] )\n",
    "print(transittimesplanet0[9])\n",
    "print(transittimesplanet0[157])\n",
    "print(transittimesplanet0[174])\n",
    "print(transittimesplanet0[311])\n",
    "for i in range(14):\n",
    "    print(' bruce transit number', brucetransitnumber[i],'coresponds to transit time', actualbrucetransittime[i] )\n",
    "    #for j in range(len(transittimesplanet0)):\n",
    "        #print(transittimesplanet0[i])\n",
    "        #condition = actualbrucetransittime[i]==transittimesplanet0[i]\n",
    "        #if condition: \n",
    "            #print(i)\n",
    "transitswewant = (brucetransitnumber + 9)\n",
    "transitswewant = (transitswewant.astype(int))\n",
    "print(transitswewant)"
   ]
  },
  {
   "cell_type": "code",
   "execution_count": 12,
   "metadata": {},
   "outputs": [
    {
     "name": "stdout",
     "output_type": "stream",
     "text": [
      "[-136.33910311 -150.10416608 -174.18533778 -193.84287186 -199.66576359\n",
      " -203.4872703  -207.27673653 -218.92133172 -226.13875391 -231.69492244\n",
      "    8.81725948  -89.71567339 -107.99827277 -115.55639567 -134.04587027]\n"
     ]
    }
   ],
   "source": [
    "print((np.array(transittimesplanet0)[transitswewant]-actualbrucetransittime) * 24 * 60 * 60)"
   ]
  },
  {
   "cell_type": "code",
   "execution_count": 13,
   "metadata": {},
   "outputs": [
    {
     "name": "stdout",
     "output_type": "stream",
     "text": [
      "9020588.128618864\n"
     ]
    }
   ],
   "source": [
    "chisq = np.sum(((actualbrucetransittime - np.array(transittimesplanet0)[transitswewant]) * 24 * 60 * 60)**2 / bruceerr**2)\n",
    "print(chisq)"
   ]
  },
  {
   "cell_type": "code",
   "execution_count": 14,
   "metadata": {},
   "outputs": [],
   "source": [
    "def loglikelihood(p, actualbrucetransittime, bruceerr, yesplot= False): #here p is an array of the parameters: let's define p[0] = slope, and p[1] = intercept\n",
    "    #slope = p[0]\n",
    "    #intercept = p[1]\n",
    "    #quad = p[2]\n",
    "    #model = slope*x + intercept+ quad*x**2\n",
    "    #chisq = np.sum((y - model)**2 / e**2)\n",
    "    \n",
    "    gravity =  0.000295994511                        # AU^3/day^2/M_sun\n",
    "    stellar_mass = 0.518 #0.95573417954    #change me                # M_sun\n",
    "\n",
    "\n",
    "    planet1 = models.Planet(\n",
    "        mass = 0.00954588, #0.00002878248,                         # M_sun\n",
    "        period = p[7],#1.4079405,#1.0917340278625494e+01,              # days\n",
    "        eccentricity = 0,#5.6159310042858110e-02,\n",
    "        inclination = 20,#88.778,#9.0921164935951211e+01,         # degrees\n",
    "        longnode = -1.1729336712101943e-18,           # degrees\n",
    "        argument = 1.8094838714599581e+02,            # degrees\n",
    "        mean_anomaly = p[8],#-90 #-8.7093652691581923e+01,       # degrees\n",
    "    )\n",
    "\n",
    "    planet2 = models.Planet(\n",
    "        mass = p[0],#0.00954588,#0.00061895914,\n",
    "        period = p[1],#200,#1.4079405,#2.2266898036209028e+01,\n",
    "        eccentricity = p[2],#0.7, #5.6691301931178648e-02,\n",
    "        inclination = p[3],#8.7598285693573246e+01,\n",
    "        longnode = p[4],#4.6220554014026838e-01,\n",
    "        argument = p[5],#1.6437004273382669e+00,\n",
    "        mean_anomaly = p[6],#-1.9584857031843157e+01,\n",
    "    )\n",
    "\n",
    "    planets = [planet1, planet2]\n",
    "    Time = 66.70357200363651-1.4079405+0.003714472890699483 #-1045                                    # days\n",
    "    dt = 0.02                                       # days\n",
    "    Total = 600 #1700                                    # days\n",
    "\n",
    "    results = ttvfast.ttvfast(planets, stellar_mass, Time, dt, Total)\n",
    "    whichplanet = results[\"positions\"][0]\n",
    "    whichtransit = results[\"positions\"][1]\n",
    "    transittimes = results[\"positions\"][2]\n",
    "    planet1transits = []\n",
    "    planet1times = []\n",
    "    transittimesplanet0 = []\n",
    "    transitnumberplanet0 = []\n",
    "    for i in range(375):\n",
    "        a = whichplanet[i]\n",
    "        condition = a == 0  \n",
    "        if condition: \n",
    "            transittimesplanet0.append(transittimes[i] )\n",
    "            transitnumberplanet0.append(whichtransit[i] )\n",
    "    \n",
    "    \n",
    "    if yesplot: \n",
    "        fig, ax = plt.subplots(figsize=(16, 8))\n",
    "    #m=np.mean((actualbrucetransittime-1.4079405*brucetransitnumber)*24*60*60)\n",
    "    #model data- model line \n",
    "    #plt.errorbar(brucetransitnumber, (actualbrucetransittime-1.4079405*brucetransitnumber)*24*60*60-m, yerr = bruceerr, fmt = 'o-', label = 'Data')\n",
    "    #print(actualbrucetransittime)\n",
    "    #print(np.array(transittimesplanet0)[transitswewant])\n",
    "    #bruce data- model line \n",
    "    #plt.plot(brucetransitnumber, (np.array(transittimesplanet0)[transitswewant]-1.4079405*brucetransitnumber)*24*60*60-m,\"o-\", label = 'Model')\n",
    "    #ax.set_ylabel('seconds');\n",
    "    '''ax.set_xlabel('transit number');\n",
    "    ax.set_title('mass = '+ str(p[0])+ ' period ='+ str(p[1]))\n",
    "    plt.show()'''\n",
    "    '''print(np.array(transittimesplanet0)[transitswewant[0:5]])\n",
    "    print(actualbrucetransittime[0:5])'''\n",
    "    #pdb.set_trace()\n",
    "    pbruce = np.polyfit(brucetransitnumber,actualbrucetransittime,1, w= 1/bruceerr)\n",
    "    pmodel = np.polyfit(brucetransitnumber,np.array(transittimesplanet0)[transitswewant],1,w= 1/bruceerr)\n",
    "    brucetrend = np.polyval(pbruce,brucetransitnumber)\n",
    "    modeltrend = np.polyval(pmodel,brucetransitnumber)\n",
    "    brucetransittimecorrected = actualbrucetransittime - brucetrend\n",
    "    modeltransittimecorrected = np.array(transittimesplanet0)[transitswewant] - modeltrend\n",
    "    if yesplot:\n",
    "        plt.errorbar(brucetransitnumber,brucetransittimecorrected*60*60*24, yerr = bruceerr, fmt = 'o-', label = 'Corrected Data')\n",
    "        print(actualbrucetransittime)\n",
    "        print(np.array(transittimesplanet0)[transitswewant])\n",
    "        #bruce data- model line \n",
    "        plt.plot(brucetransitnumber, modeltransittimecorrected*60*60*24,\"o-\", label = 'Corrected Model')\n",
    "        ax.set_ylabel('seconds');\n",
    "        ax.set_xlabel('transit number');\n",
    "        ax.set_title('ecentricity = '+ str(p[2])+ ' inclination ='+ str(p[3])+ 'periastron ='+ str(p[5])) \n",
    "        plt.show()\n",
    "    chisq = np.sum((brucetransittimecorrected*60*60*24 - modeltransittimecorrected*60*60*24)**2/ bruceerr**2)\n",
    "    #print(brucetransittimecorrected*60*60*24 - modeltransittimecorrected*60*60*24)\n",
    "    #print(bruceerr)\n",
    "    negloglikelihood = 0.5 * chisq\n",
    "    return negloglikelihood\n"
   ]
  },
  {
   "cell_type": "code",
   "execution_count": 15,
   "metadata": {},
   "outputs": [
    {
     "data": {
      "text/plain": [
       "849.3221498613184"
      ]
     },
     "execution_count": 15,
     "metadata": {},
     "output_type": "execute_result"
    }
   ],
   "source": [
    "loglikelihood([0.00954588,200,0.6,8.7598285693573246e+01,4.6220554014026838e-01,1.6437004273382669e+00,-1.9584857031843157e+01,1.40795,-90],actualbrucetransittime , bruceerr)"
   ]
  },
  {
   "cell_type": "code",
   "execution_count": 16,
   "metadata": {},
   "outputs": [
    {
     "name": "stdout",
     "output_type": "stream",
     "text": [
      "[168. 180. 200. 217. 222. 224. 229. 239. 246. 256.   0.  94. 143. 150.\n",
      " 167.]\n"
     ]
    }
   ],
   "source": [
    "print(brucetransitnumber)\n"
   ]
  },
  {
   "cell_type": "code",
   "execution_count": 17,
   "metadata": {},
   "outputs": [
    {
     "data": {
      "text/plain": [
       "\"'for j in range(len(massestotest)):\\n        thismass= massestotest[j]\\n        for k in range(len(periodstotest)):\\n            thisperiod= periodstotest[k]\\n            for m in range(len(meananomolytotest)):\\n                thismeananomoly= meananomolytotest[m]\\n                loglikelihood([thismass,\\n                           thisperiod,0.6,\\n                           8.7598285693573246e+01,\\n                           4.6220554014026838e-01,\\n                           1.6437004273382669e+00,\\n                           thismeananomoly,\\n                           1.40795,-90],actualbrucetransittime , bruceerr)\""
      ]
     },
     "execution_count": 17,
     "metadata": {},
     "output_type": "execute_result"
    }
   ],
   "source": [
    "#grid search \n",
    "ecentricitiestotest = np.linspace(0,0.7,100)\n",
    "inclinationstotest = np.linspace(0,90,100)#/1047.572 #conversion from jupiter to solar masses\n",
    "periastrontotest = np.linspace(0,360,100)\n",
    "''''for j in range(len(massestotest)):\n",
    "        thismass= massestotest[j]\n",
    "        for k in range(len(periodstotest)):\n",
    "            thisperiod= periodstotest[k]\n",
    "            for m in range(len(meananomolytotest)):\n",
    "                thismeananomoly= meananomolytotest[m]\n",
    "                loglikelihood([thismass,\n",
    "                           thisperiod,0.6,\n",
    "                           8.7598285693573246e+01,\n",
    "                           4.6220554014026838e-01,\n",
    "                           1.6437004273382669e+00,\n",
    "                           thismeananomoly,\n",
    "                           1.40795,-90],actualbrucetransittime , bruceerr)'''\n"
   ]
  },
  {
   "cell_type": "code",
   "execution_count": 18,
   "metadata": {},
   "outputs": [],
   "source": [
    "#for j in range(len(meananomolytotest)):\n",
    "   # print(j)\n",
    "   # print('loop finished')\n",
    "   # print(meananomolytotest[j])"
   ]
  },
  {
   "cell_type": "code",
   "execution_count": 19,
   "metadata": {},
   "outputs": [],
   "source": [
    "a=np.zeros((len(ecentricitiestotest),len(inclinationstotest),len(periastrontotest)))\n",
    "#print(a)\n",
    "for c in range(len(ecentricitiestotest)): \n",
    "    for d in range(len(inclinationstotest)):\n",
    "        for e in range(len(periastrontotest)):\n",
    "            #print(c,d,e)\n",
    "            a[c,d,e]=loglikelihood([1/1047.572,130,ecentricitiestotest[c],inclinationstotest[d],\n",
    "                                               4.6220554014026838e-01,periastrontotest[e],\n",
    "                                               -1.9584857031843157e+01,1.40795,-90],actualbrucetransittime , bruceerr)\n",
    "#print(a)\n"
   ]
  },
  {
   "cell_type": "code",
   "execution_count": 20,
   "metadata": {},
   "outputs": [],
   "source": [
    "\n",
    "#c= 28\n",
    "#d= 16\n",
    "#e= 29\n",
    "#print(loglikelihood([0.02,130,ecentricitiestotest[c],inclinationstotest[d],\n",
    "                                               #4.6220554014026838e-01,1.6437004273382669e+00,\n",
    "                                               #meananomolytotest[e],1.40795,-90],actualbrucetransittime , bruceerr))\n",
    "#print(ecentricitiestotest[c])"
   ]
  },
  {
   "cell_type": "code",
   "execution_count": 21,
   "metadata": {},
   "outputs": [
    {
     "data": {
      "text/plain": [
       "Text(0.5, 0, 'ecentricity')"
      ]
     },
     "execution_count": 21,
     "metadata": {},
     "output_type": "execute_result"
    },
    {
     "data": {
      "image/png": "[encoded data removed]",
      "text/plain": [
       "<Figure size 432x288 with 2 Axes>"
      ]
     },
     "metadata": {
      "needs_background": "light"
     },
     "output_type": "display_data"
    }
   ],
   "source": [
    "fig,ax= plt.subplots()\n",
    "im=ax.imshow(np.min(a, axis= 2),extent = [min(ecentricitiestotest), max(ecentricitiestotest),max(inclinationstotest),min(inclinationstotest)], aspect='auto')\n",
    "\n",
    "fig.colorbar(im)\n",
    "ax.set_ylabel('inclination degrees')\n",
    "ax.set_xlabel('ecentricity')\n"
   ]
  },
  {
   "cell_type": "code",
   "execution_count": 22,
   "metadata": {},
   "outputs": [
    {
     "data": {
      "text/plain": [
       "[<matplotlib.lines.Line2D at 0x7fdb4ca629d0>]"
      ]
     },
     "execution_count": 22,
     "metadata": {},
     "output_type": "execute_result"
    },
    {
     "data": {
      "image/png": "[encoded data removed]",
      "text/plain": [
       "<Figure size 432x288 with 1 Axes>"
      ]
     },
     "metadata": {
      "needs_background": "light"
     },
     "output_type": "display_data"
    }
   ],
   "source": [
    "plt.plot(np.resize(a, 5*5*6))"
   ]
  },
  {
   "cell_type": "code",
   "execution_count": 17,
   "metadata": {},
   "outputs": [
    {
     "ename": "NameError",
     "evalue": "name 'ecentricitiestotest' is not defined",
     "output_type": "error",
     "traceback": [
      "\u001b[0;31m---------------------------------------------------------------------------\u001b[0m",
      "\u001b[0;31mNameError\u001b[0m                                 Traceback (most recent call last)",
      "\u001b[0;32m<ipython-input-17-229e1fa53300>\u001b[0m in \u001b[0;36m<module>\u001b[0;34m\u001b[0m\n\u001b[0;32m----> 1\u001b[0;31m \u001b[0mnp\u001b[0m\u001b[0;34m.\u001b[0m\u001b[0msavez\u001b[0m\u001b[0;34m(\u001b[0m\u001b[0;34m\"bigperiastron.npz\"\u001b[0m\u001b[0;34m,\u001b[0m\u001b[0ma\u001b[0m\u001b[0;34m=\u001b[0m\u001b[0ma\u001b[0m\u001b[0;34m,\u001b[0m\u001b[0mecentricitiestotest\u001b[0m\u001b[0;34m=\u001b[0m\u001b[0mecentricitiestotest\u001b[0m\u001b[0;34m,\u001b[0m\u001b[0minclinationstotest\u001b[0m\u001b[0;34m=\u001b[0m\u001b[0minclinationstotest\u001b[0m\u001b[0;34m,\u001b[0m \u001b[0mperiastrontotest\u001b[0m\u001b[0;34m=\u001b[0m\u001b[0mperiastrontotest\u001b[0m\u001b[0;34m)\u001b[0m\u001b[0;34m\u001b[0m\u001b[0;34m\u001b[0m\u001b[0m\n\u001b[0m",
      "\u001b[0;31mNameError\u001b[0m: name 'ecentricitiestotest' is not defined"
     ]
    }
   ],
   "source": [
    "np.savez(\"bigperiastron.npz\",a=a,ecentricitiestotest=ecentricitiestotest,inclinationstotest=inclinationstotest, periastrontotest=periastrontotest)"
   ]
  },
  {
   "cell_type": "code",
   "execution_count": 18,
   "metadata": {},
   "outputs": [],
   "source": [
    "f=np.load('bigperiastron.npz')\n",
    "a = f[\"a\"]\n",
    "ecentricitiestotest = f['ecentricitiestotest']\n",
    "inclinationstotest = f['inclinationstotest']\n",
    "meananomolytotest = f['periastrontotest']\n"
   ]
  },
  {
   "cell_type": "code",
   "execution_count": 19,
   "metadata": {},
   "outputs": [
    {
     "name": "stdout",
     "output_type": "stream",
     "text": [
      "[[[18.30724244 18.52143742 18.7048207  ... 17.79652422 18.06470325\n",
      "   18.30724244]\n",
      "  [18.25073214 18.46290699 18.64630044 ... 17.74966038 18.01213754\n",
      "   18.25073214]\n",
      "  [18.20784094 18.41755685 18.60043104 ... 17.71689803 17.97349916\n",
      "   18.20784073]\n",
      "  ...\n",
      "  [16.09550165 16.00087299 15.87195796 ... 16.17620435 16.15421279\n",
      "   16.09550165]\n",
      "  [16.40671336 16.32374533 16.20261773 ... 16.45253731 16.44988102\n",
      "   16.40671336]\n",
      "  [16.72573211 16.6555469  16.54331884 ... 16.73471857 16.75232572\n",
      "   16.72573211]]\n",
      "\n",
      " [[18.33060187 18.54008629 18.71832629 ... 17.82804926 18.09235946\n",
      "   18.33060187]\n",
      "  [18.26543019 18.47273567 18.6509025  ... 17.77301858 18.03134222\n",
      "   18.26543019]\n",
      "  [18.21387357 18.41854519 18.59606834 ... 17.73214276 17.98427826\n",
      "   18.21387357]\n",
      "  ...\n",
      "  [16.02293604 15.93246709 15.80819987 ... 16.09698854 16.07804246\n",
      "   16.02293604]\n",
      "  [16.34387707 16.26406128 16.14650941 ... 16.38484515 16.38438037\n",
      "   16.34387707]\n",
      "  [16.6731335  16.60509371 16.49535463 ... 16.67898092 16.69796826\n",
      "   16.6731335 ]]\n",
      "\n",
      " [[18.35419042 18.55878526 18.73170165 ... 17.86015323 18.12041123\n",
      "   18.35419042]\n",
      "  [18.280652   18.48296295 18.65577225 ... 17.79715677 18.05120453\n",
      "   18.28065201]\n",
      "  [18.2207524  18.42029912 18.59238773 ... 17.74839986 17.99600197\n",
      "   18.22075238]\n",
      "  ...\n",
      "  [15.9537003  15.86713745 15.74725591 ... 16.02157382 16.0054402\n",
      "   15.9537003 ]\n",
      "  [16.28385999 16.20691272 16.09264935 ... 16.32051372 16.32196618\n",
      "   16.28385999]\n",
      "  [16.6228606  16.55664964 16.44908693 ... 16.62618906 16.64624638\n",
      "   16.62286061]]\n",
      "\n",
      " ...\n",
      "\n",
      " [[15.81183255 14.37690481 13.29922497 ... 19.6811953  17.58294229\n",
      "   15.81183292]\n",
      "  [18.80725395 16.89284477 15.39222593 ... 23.8130588  21.11648811\n",
      "   18.80725383]\n",
      "  [22.59472646 20.13957147 18.15711157 ... 28.86608246 25.5055759\n",
      "   22.59472398]\n",
      "  ...\n",
      "  [43.62371506 49.62265008 56.43042421 ... 33.95377432 38.41024138\n",
      "   43.62371601]\n",
      "  [37.30442435 42.61430175 48.70815598 ... 28.9499297  32.75840808\n",
      "   37.30442141]\n",
      "  [31.68622634 36.32675004 41.72294416 ... 24.5974782  27.7844954\n",
      "   31.68622468]]\n",
      "\n",
      " [[16.06708994 14.59085341 13.51389429 ... 20.12509022 17.91651885\n",
      "   16.06709002]\n",
      "  [19.33259593 17.33603518 15.79921616 ... 24.62098074 21.7650394\n",
      "   19.33259593]\n",
      "  [23.45624097 20.87157628 18.80971566 ... 30.11772264 26.54191344\n",
      "   23.45624059]\n",
      "  ...\n",
      "  [45.58805572 52.11446808 59.55695786 ... 35.1519378  39.94620962\n",
      "   45.58805837]\n",
      "  [38.80271325 44.56629184 51.21492704 ... 29.81322246 33.89644245\n",
      "   38.80271493]\n",
      "  [32.77117663 37.79408424 43.6673987  ... 25.17305847 28.57464888\n",
      "   32.77117681]]\n",
      "\n",
      " [[16.38425001 14.8660205  13.79504424 ... 20.65106819 18.31894078\n",
      "   16.3842492 ]\n",
      "  [19.94827128 17.8644539  16.29278802 ... 25.54994082 22.51583588\n",
      "   19.94827191]\n",
      "  [24.44337211 21.71894682 19.57443289 ... 31.53769678 27.72149449\n",
      "   24.44337181]\n",
      "  ...\n",
      "  [47.79609209 54.89491273 63.02133807 ... 36.52036919 41.68599491\n",
      "   47.79609631]\n",
      "  [40.49966661 46.7541884  53.99821409 ... 30.81463989 35.20011405\n",
      "   40.49966663]\n",
      "  [34.01472114 39.44993964 45.83273885 ... 25.85883005 29.49683062\n",
      "   34.01471889]]]\n"
     ]
    }
   ],
   "source": [
    "print(f[\"a\"])"
   ]
  },
  {
   "cell_type": "code",
   "execution_count": 20,
   "metadata": {
    "scrolled": true
   },
   "outputs": [
    {
     "name": "stdout",
     "output_type": "stream",
     "text": [
      "6.808982454326428e-07\n"
     ]
    },
    {
     "data": {
      "text/plain": [
       "Text(0, 0.5, 'ecentricity')"
      ]
     },
     "execution_count": 20,
     "metadata": {},
     "output_type": "execute_result"
    },
    {
     "data": {
      "image/png": "[encoded data removed]",
      "text/plain": [
       "<Figure size 432x288 with 2 Axes>"
      ]
     },
     "metadata": {
      "needs_background": "light"
     },
     "output_type": "display_data"
    }
   ],
   "source": [
    "noplanetlikihood=np.exp(loglikelihood([0,120,0,90,\n",
    "                                               4.6220554014026838e-01,1.6437004273382669e+00,\n",
    "                                               10,1.40795,-90],actualbrucetransittime , bruceerr, yesplot= False)*-1)\n",
    "print(noplanetlikihood)\n",
    "planetlikihood = np.exp(-1*np.min(a, axis= 2))\n",
    "fig,ax= plt.subplots()\n",
    "im=ax.imshow(np.maximum(np.log10(planetlikihood/noplanetlikihood),-4 ),extent = [max(inclinationstotest),min(inclinationstotest),max(ecentricitiestotest), min(ecentricitiestotest)], aspect='auto')\n",
    "\n",
    "fig.colorbar(im, label = 'log base ten probability')\n",
    "ax.set_xlabel('inclination in degrees')\n",
    "ax.set_ylabel('ecentricity')\n"
   ]
  },
  {
   "cell_type": "code",
   "execution_count": 21,
   "metadata": {},
   "outputs": [
    {
     "name": "stdout",
     "output_type": "stream",
     "text": [
      "[[ 0.91324461  0.91402427  0.91237824 ...  0.98867551  0.99106838\n",
      "   0.98835847]\n",
      " [ 0.91471523  0.91697487  0.91573504 ...  0.99352068  0.99756399\n",
      "   0.99648384]\n",
      " [ 0.91762168  0.91918297  0.91903878 ...  0.99671704  1.0025309\n",
      "   1.00318352]\n",
      " ...\n",
      " [ 0.80601006  0.22878612 -0.48563344 ... -2.77905111 -2.26432809\n",
      "  -1.68975725]\n",
      " [ 0.65087485 -0.01595775 -0.80901011 ... -3.06732173 -2.50901598\n",
      "  -1.88222425]\n",
      " [ 0.45571946 -0.27332727 -1.19148792 ... -3.42652205 -2.81327891\n",
      "  -2.12269654]]\n"
     ]
    }
   ],
   "source": [
    "print((np.log10(planetlikihood/noplanetlikihood)))"
   ]
  },
  {
   "cell_type": "code",
   "execution_count": 22,
   "metadata": {},
   "outputs": [
    {
     "name": "stdout",
     "output_type": "stream",
     "text": [
      "6.808982454326428e-07\n",
      "[[5.57605210e-06 5.58607148e-06 5.56493956e-06 ... 6.63372904e-06\n",
      "  6.67038030e-06 6.62888810e-06]\n",
      " [5.59496590e-06 5.62415240e-06 5.60811940e-06 ... 6.70815207e-06\n",
      "  6.77089694e-06 6.75407776e-06]\n",
      " [5.63253498e-06 5.65282034e-06 5.65094383e-06 ... 6.75770536e-06\n",
      "  6.84877844e-06 6.85907788e-06]\n",
      " ...\n",
      " [4.35604419e-06 1.15310362e-06 2.22560854e-07 ... 1.13248147e-09\n",
      "  3.70470919e-09 1.39099306e-08]\n",
      " [3.04759369e-06 6.56333333e-07 1.05699299e-07 ... 5.83123422e-10\n",
      "  2.10894977e-09 8.93013369e-09]\n",
      " [1.94447194e-06 3.62873243e-07 4.38121226e-08 ... 2.55011736e-10\n",
      "  1.04665441e-09 5.13317031e-09]]\n",
      "[[12.09702954 12.09523429 12.09902443 ... 11.92334346 11.91783368\n",
      "  11.92407348]\n",
      " [12.09364331 12.08844031 12.09129512 ... 11.91218704 11.90287699\n",
      "  11.90536412]\n",
      " [12.08695095 12.08335596 12.08368798 ... 11.90482717 11.89144025\n",
      "  11.88993755]\n",
      " ...\n",
      " [12.34394621 13.67305345 15.31806527 ... 20.59885462 19.41366107\n",
      "  18.09066282]\n",
      " [12.70115823 14.23659705 16.06266758 ... 21.26262225 19.97707575\n",
      "  18.53383447]\n",
      " [13.15052012 14.82921226 16.94335529 ... 22.08971155 20.67766704\n",
      "  19.08754237]]\n"
     ]
    }
   ],
   "source": [
    "print(noplanetlikihood)\n",
    "print(planetlikihood)\n",
    "print(np.min(a, axis = 2))"
   ]
  },
  {
   "cell_type": "code",
   "execution_count": 23,
   "metadata": {},
   "outputs": [
    {
     "ename": "NameError",
     "evalue": "name 'c' is not defined",
     "output_type": "error",
     "traceback": [
      "\u001b[0;31m---------------------------------------------------------------------------\u001b[0m",
      "\u001b[0;31mNameError\u001b[0m                                 Traceback (most recent call last)",
      "\u001b[0;32m<ipython-input-23-f5d73aeca5bf>\u001b[0m in \u001b[0;36m<module>\u001b[0;34m\u001b[0m\n\u001b[0;32m----> 1\u001b[0;31m test=loglikelihood([0.02,130,ecentricitiestotest[c],inclinationstotest[d],\n\u001b[0m\u001b[1;32m      2\u001b[0m                                                \u001b[0;36m4.6220554014026838e-01\u001b[0m\u001b[0;34m,\u001b[0m\u001b[0mperiastrontotest\u001b[0m\u001b[0;34m[\u001b[0m\u001b[0me\u001b[0m\u001b[0;34m]\u001b[0m\u001b[0;34m,\u001b[0m\u001b[0;34m\u001b[0m\u001b[0;34m\u001b[0m\u001b[0m\n\u001b[1;32m      3\u001b[0m                                                -1.9584857031843157e+01,1.40795,-90],actualbrucetransittime , bruceerr, yesplot= True)\n\u001b[1;32m      4\u001b[0m \u001b[0mprint\u001b[0m\u001b[0;34m(\u001b[0m\u001b[0mtest\u001b[0m\u001b[0;34m)\u001b[0m\u001b[0;34m\u001b[0m\u001b[0;34m\u001b[0m\u001b[0m\n\u001b[1;32m      5\u001b[0m \u001b[0mprint\u001b[0m\u001b[0;34m(\u001b[0m\u001b[0mnoplanetlikihood\u001b[0m\u001b[0;34m)\u001b[0m\u001b[0;34m\u001b[0m\u001b[0;34m\u001b[0m\u001b[0m\n",
      "\u001b[0;31mNameError\u001b[0m: name 'c' is not defined"
     ]
    }
   ],
   "source": [
    "test=loglikelihood([0.02,130,ecentricitiestotest[c],inclinationstotest[d],\n",
    "                                               4.6220554014026838e-01,periastrontotest[e],\n",
    "                                               -1.9584857031843157e+01,1.40795,-90],actualbrucetransittime , bruceerr, yesplot= True)\n",
    "print(test)\n",
    "print(noplanetlikihood)"
   ]
  },
  {
   "cell_type": "code",
   "execution_count": 1,
   "metadata": {},
   "outputs": [
    {
     "ename": "NameError",
     "evalue": "name 'np' is not defined",
     "output_type": "error",
     "traceback": [
      "\u001b[0;31m---------------------------------------------------------------------------\u001b[0m",
      "\u001b[0;31mNameError\u001b[0m                                 Traceback (most recent call last)",
      "\u001b[0;32m<ipython-input-1-45a411f211e6>\u001b[0m in \u001b[0;36m<module>\u001b[0;34m\u001b[0m\n\u001b[0;32m----> 1\u001b[0;31m noplanetlikihood=np.exp(loglikelihood([0,120,0,90,\n\u001b[0m\u001b[1;32m      2\u001b[0m                                                \u001b[0;36m4.6220554014026838e-01\u001b[0m\u001b[0;34m,\u001b[0m\u001b[0;36m1.6437004273382669e+00\u001b[0m\u001b[0;34m,\u001b[0m\u001b[0;34m\u001b[0m\u001b[0;34m\u001b[0m\u001b[0m\n\u001b[1;32m      3\u001b[0m                                                10,1.40795,-90],actualbrucetransittime , bruceerr, yesplot= False)*-1)\n\u001b[1;32m      4\u001b[0m \u001b[0mprint\u001b[0m\u001b[0;34m(\u001b[0m\u001b[0mnoplanetlikihood\u001b[0m\u001b[0;34m)\u001b[0m\u001b[0;34m\u001b[0m\u001b[0;34m\u001b[0m\u001b[0m\n\u001b[1;32m      5\u001b[0m \u001b[0mplanetlikihood\u001b[0m \u001b[0;34m=\u001b[0m \u001b[0mnp\u001b[0m\u001b[0;34m.\u001b[0m\u001b[0mexp\u001b[0m\u001b[0;34m(\u001b[0m\u001b[0;34m-\u001b[0m\u001b[0;36m1\u001b[0m\u001b[0;34m*\u001b[0m\u001b[0ma\u001b[0m\u001b[0;34m[\u001b[0m\u001b[0;34m:\u001b[0m\u001b[0;34m,\u001b[0m\u001b[0;36m0\u001b[0m\u001b[0;34m,\u001b[0m\u001b[0;34m:\u001b[0m\u001b[0;34m]\u001b[0m\u001b[0;34m)\u001b[0m\u001b[0;34m\u001b[0m\u001b[0;34m\u001b[0m\u001b[0m\n",
      "\u001b[0;31mNameError\u001b[0m: name 'np' is not defined"
     ]
    }
   ],
   "source": [
    "\n",
    "noplanetlikihood=np.exp(loglikelihood([0,120,0,90,\n",
    "                                               4.6220554014026838e-01,1.6437004273382669e+00,\n",
    "                                               10,1.40795,-90],actualbrucetransittime , bruceerr, yesplot= False)*-1)\n",
    "print(noplanetlikihood)\n",
    "planetlikihood = np.exp(-1*a[:,0,:])\n",
    "fig,ax= plt.subplots()\n",
    "im=ax.imshow(np.maximum(np.log10(planetlikihood/noplanetlikihood),-4 ),extent = [max(inclinationstotest),min(inclinationstotest),max(ecentricitiestotest), min(ecentricitiestotest)], aspect='auto')\n",
    "\n",
    "fig.colorbar(im, label = 'log base ten probability')\n",
    "ax.set_xlabel('periastron')\n",
    "ax.set_ylabel('ecentricity')\n",
    "print(np.shape(a))\n",
    "print(np.shape(planetlikihood))"
   ]
  },
  {
   "cell_type": "code",
   "execution_count": 25,
   "metadata": {},
   "outputs": [
    {
     "ename": "NameError",
     "evalue": "name 'periastrontotest' is not defined",
     "output_type": "error",
     "traceback": [
      "\u001b[0;31m---------------------------------------------------------------------------\u001b[0m",
      "\u001b[0;31mNameError\u001b[0m                                 Traceback (most recent call last)",
      "\u001b[0;32m<ipython-input-25-9434726ba367>\u001b[0m in \u001b[0;36m<module>\u001b[0;34m\u001b[0m\n\u001b[1;32m      1\u001b[0m test=loglikelihood([1/1047.572,130,ecentricitiestotest[35],inclinationstotest[0],\n\u001b[0;32m----> 2\u001b[0;31m                                                \u001b[0;36m4.6220554014026838e-01\u001b[0m\u001b[0;34m,\u001b[0m\u001b[0mperiastrontotest\u001b[0m\u001b[0;34m[\u001b[0m\u001b[0me\u001b[0m\u001b[0;34m]\u001b[0m\u001b[0;34m,\u001b[0m\u001b[0;34m\u001b[0m\u001b[0;34m\u001b[0m\u001b[0m\n\u001b[0m\u001b[1;32m      3\u001b[0m                                                -1.9584857031843157e+01,1.40795,-90],actualbrucetransittime , bruceerr, yesplot= True)\n\u001b[1;32m      4\u001b[0m \u001b[0mprint\u001b[0m\u001b[0;34m(\u001b[0m\u001b[0mtest\u001b[0m\u001b[0;34m)\u001b[0m\u001b[0;34m\u001b[0m\u001b[0;34m\u001b[0m\u001b[0m\n\u001b[1;32m      5\u001b[0m \u001b[0;31m#print(noplanetlikihood)\u001b[0m\u001b[0;34m\u001b[0m\u001b[0;34m\u001b[0m\u001b[0;34m\u001b[0m\u001b[0m\n",
      "\u001b[0;31mNameError\u001b[0m: name 'periastrontotest' is not defined"
     ]
    }
   ],
   "source": [
    "test=loglikelihood([1/1047.572,130,ecentricitiestotest[35],inclinationstotest[0],\n",
    "                                               4.6220554014026838e-01,periastrontotest[e],\n",
    "                                               -1.9584857031843157e+01,1.40795,-90],actualbrucetransittime , bruceerr, yesplot= True)\n",
    "print(test)\n",
    "#print(noplanetlikihood)\n",
    "#a[c,d,e]=loglikelihood([1/1047.572,130,ecentricitiestotest[c],inclinationstotest[d],\n",
    "                                               #4.6220554014026838e-01,1.6437004273382669e+00,\n",
    "                                               #meananomolytotest[e],1.40795,-90],actualbrucetransittime , bruceerr)\n",
    "print(a[35,0,0])\n",
    "print(a[35,0,1])\n",
    "planetlikihood = np.exp(-1*a[35,0,1])\n",
    "ratio = np.maximum(np.log10(planetlikihood/noplanetlikihood),-4 ) \n",
    "print(ratio)\n",
    "\n"
   ]
  },
  {
   "cell_type": "code",
   "execution_count": 32,
   "metadata": {},
   "outputs": [
    {
     "data": {
      "text/plain": [
       "(100, 100)"
      ]
     },
     "execution_count": 32,
     "metadata": {},
     "output_type": "execute_result"
    },
    {
     "data": {
      "image/png": "[encoded data removed]",
      "text/plain": [
       "<Figure size 432x288 with 1 Axes>"
      ]
     },
     "metadata": {
      "needs_background": "light"
     },
     "output_type": "display_data"
    }
   ],
   "source": [
    "fig,ax= plt.subplots()\n",
    "im=ax.imshow(np.log(a[:,0,:]))\n",
    "np.shape(a[:,0,:])"
   ]
  },
  {
   "cell_type": "code",
   "execution_count": 33,
   "metadata": {},
   "outputs": [
    {
     "name": "stdout",
     "output_type": "stream",
     "text": [
      "[[0.48049588 0.84453911 0.60331958 0.12376022 0.23206755 0.76326154]\n",
      " [0.82087039 0.9479292  0.45960522 0.86097504 0.49677526 0.61413096]\n",
      " [0.10452152 0.54733938 0.67721797 0.47833138 0.01728624 0.69167954]]\n"
     ]
    },
    {
     "data": {
      "image/png": "[encoded data removed]",
      "text/plain": [
       "<Figure size 432x288 with 1 Axes>"
      ]
     },
     "metadata": {
      "needs_background": "light"
     },
     "output_type": "display_data"
    }
   ],
   "source": [
    "junk=np.random.uniform(0,1,(3,6))\n",
    "print(junk)\n",
    "fig,ax= plt.subplots()\n",
    "im=ax.imshow(junk)\n"
   ]
  },
  {
   "cell_type": "code",
   "execution_count": null,
   "metadata": {},
   "outputs": [],
   "source": []
  }
 ],
 "metadata": {
  "kernelspec": {
   "display_name": "Python 3",
   "language": "python",
   "name": "python3"
  },
  "language_info": {
   "codemirror_mode": {
    "name": "ipython",
    "version": 3
   },
   "file_extension": ".py",
   "mimetype": "text/x-python",
   "name": "python",
   "nbconvert_exporter": "python",
   "pygments_lexer": "ipython3",
   "version": "3.8.8"
  }
 },
 "nbformat": 4,
 "nbformat_minor": 4
}
