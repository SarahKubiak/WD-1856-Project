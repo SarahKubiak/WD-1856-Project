{
 "cells": [
  {
   "cell_type": "code",
   "execution_count": 1,
   "metadata": {},
   "outputs": [],
   "source": [
    "import ttvfast\n",
    "import numpy as np\n",
    "import pandas as pd \n",
    "import matplotlib.pyplot as plt\n",
    "from ttvfast import models\n",
    "import pdb\n",
    "\n",
    "\n",
    "\n",
    "gravity =  0.000295994511                        # AU^3/day^2/M_sun\n",
    "stellar_mass = 0.518 #0.95573417954    #change me                # M_sun\n",
    "\n",
    "\n",
    "planet1 = models.Planet(\n",
    "    mass=0.00954588, #0.00002878248,                         # M_sun\n",
    "    period=1.4079405,#1.0917340278625494e+01,              # days\n",
    "    eccentricity=0,#5.6159310042858110e-02,\n",
    "    inclination=88.778,#9.0921164935951211e+01,         # degrees\n",
    "    longnode=-1.1729336712101943e-18,           # degrees\n",
    "    argument=1.8094838714599581e+02,            # degrees\n",
    "    mean_anomaly= -90 #-8.7093652691581923e+01,       # degrees\n",
    ")\n",
    "\n",
    "planet2 = models.Planet(\n",
    "    mass=0.00954588,#0.00061895914,\n",
    "    period=200,#1.4079405,#2.2266898036209028e+01,\n",
    "    eccentricity= 0.7, #5.6691301931178648e-02,\n",
    "    inclination=8.7598285693573246e+01,\n",
    "    longnode=4.6220554014026838e-01,\n",
    "    argument=1.6437004273382669e+00,\n",
    "    mean_anomaly=-1.9584857031843157e+01,\n",
    ")\n",
    "\n",
    "planets = [planet1, planet2]\n",
    "Time = 66.70357200363651-1.4079405+0.003714472890699483 #-1045                                    # days\n",
    "dt = 0.02                                       # days\n",
    "Total = 510 #1700                                    # days\n",
    "\n",
    "results = ttvfast.ttvfast(planets, stellar_mass, Time, dt, Total)\n",
    "#print(results)"
   ]
  },
  {
   "cell_type": "code",
   "execution_count": 2,
   "metadata": {},
   "outputs": [],
   "source": [
    "#print(results.keys())\n",
    "#print(results[\"positions\"][2])\n",
    "whichplanet = results[\"positions\"][0]\n",
    "whichtransit = results[\"positions\"][1]\n",
    "transittimes = results[\"positions\"][2]\n",
    "planet1transits = []\n",
    "planet1times = []\n",
    "transittimesplanet0 = []\n",
    "transitnumberplanet0 = []\n",
    "for i in range(375):\n",
    "    a = whichplanet[i]\n",
    "    condition = a==0  \n",
    "    if condition: \n",
    "        transittimesplanet0.append(transittimes[i] )\n",
    "        transitnumberplanet0.append(whichtransit[i] )"
   ]
  },
  {
   "cell_type": "code",
   "execution_count": 3,
   "metadata": {},
   "outputs": [
    {
     "data": {
      "text/html": [
       "<div>\n",
       "<style scoped>\n",
       "    .dataframe tbody tr th:only-of-type {\n",
       "        vertical-align: middle;\n",
       "    }\n",
       "\n",
       "    .dataframe tbody tr th {\n",
       "        vertical-align: top;\n",
       "    }\n",
       "\n",
       "    .dataframe thead th {\n",
       "        text-align: right;\n",
       "    }\n",
       "</style>\n",
       "<table border=\"1\" class=\"dataframe\">\n",
       "  <thead>\n",
       "    <tr style=\"text-align: right;\">\n",
       "      <th></th>\n",
       "      <th>Time</th>\n",
       "      <th>Uncertainty</th>\n",
       "    </tr>\n",
       "  </thead>\n",
       "  <tbody>\n",
       "    <tr>\n",
       "      <th>0</th>\n",
       "      <td>2.459016e+06</td>\n",
       "      <td>0.000002</td>\n",
       "    </tr>\n",
       "    <tr>\n",
       "      <th>1</th>\n",
       "      <td>2.459033e+06</td>\n",
       "      <td>0.000002</td>\n",
       "    </tr>\n",
       "    <tr>\n",
       "      <th>2</th>\n",
       "      <td>2.459061e+06</td>\n",
       "      <td>0.000002</td>\n",
       "    </tr>\n",
       "    <tr>\n",
       "      <th>3</th>\n",
       "      <td>2.459085e+06</td>\n",
       "      <td>0.000002</td>\n",
       "    </tr>\n",
       "    <tr>\n",
       "      <th>4</th>\n",
       "      <td>2.459092e+06</td>\n",
       "      <td>0.000003</td>\n",
       "    </tr>\n",
       "    <tr>\n",
       "      <th>5</th>\n",
       "      <td>2.459095e+06</td>\n",
       "      <td>0.000009</td>\n",
       "    </tr>\n",
       "    <tr>\n",
       "      <th>6</th>\n",
       "      <td>2.459102e+06</td>\n",
       "      <td>0.000002</td>\n",
       "    </tr>\n",
       "    <tr>\n",
       "      <th>7</th>\n",
       "      <td>2.459116e+06</td>\n",
       "      <td>0.000003</td>\n",
       "    </tr>\n",
       "    <tr>\n",
       "      <th>8</th>\n",
       "      <td>2.459126e+06</td>\n",
       "      <td>0.000002</td>\n",
       "    </tr>\n",
       "    <tr>\n",
       "      <th>9</th>\n",
       "      <td>2.459140e+06</td>\n",
       "      <td>0.000003</td>\n",
       "    </tr>\n",
       "    <tr>\n",
       "      <th>10</th>\n",
       "      <td>2.458779e+06</td>\n",
       "      <td>0.000002</td>\n",
       "    </tr>\n",
       "    <tr>\n",
       "      <th>11</th>\n",
       "      <td>2.458912e+06</td>\n",
       "      <td>0.000003</td>\n",
       "    </tr>\n",
       "    <tr>\n",
       "      <th>12</th>\n",
       "      <td>2.458981e+06</td>\n",
       "      <td>0.000008</td>\n",
       "    </tr>\n",
       "    <tr>\n",
       "      <th>13</th>\n",
       "      <td>2.458991e+06</td>\n",
       "      <td>0.000006</td>\n",
       "    </tr>\n",
       "    <tr>\n",
       "      <th>14</th>\n",
       "      <td>2.459015e+06</td>\n",
       "      <td>0.000007</td>\n",
       "    </tr>\n",
       "  </tbody>\n",
       "</table>\n",
       "</div>"
      ],
      "text/plain": [
       "            Time  Uncertainty\n",
       "0   2.459016e+06     0.000002\n",
       "1   2.459033e+06     0.000002\n",
       "2   2.459061e+06     0.000002\n",
       "3   2.459085e+06     0.000002\n",
       "4   2.459092e+06     0.000003\n",
       "5   2.459095e+06     0.000009\n",
       "6   2.459102e+06     0.000002\n",
       "7   2.459116e+06     0.000003\n",
       "8   2.459126e+06     0.000002\n",
       "9   2.459140e+06     0.000003\n",
       "10  2.458779e+06     0.000002\n",
       "11  2.458912e+06     0.000003\n",
       "12  2.458981e+06     0.000008\n",
       "13  2.458991e+06     0.000006\n",
       "14  2.459015e+06     0.000007"
      ]
     },
     "execution_count": 3,
     "metadata": {},
     "output_type": "execute_result"
    }
   ],
   "source": [
    "# df=pd.read_csv(r'/Users/sarahkubiak/Desktop/WD1856/test.txt', sep=' ')\n",
    "df=pd.read_csv(r'/Users/sarahkubiak/Desktop/WD1856/newdatawithoutbadthings.txt', sep=' ')\n",
    "df"
   ]
  },
  {
   "cell_type": "code",
   "execution_count": 4,
   "metadata": {},
   "outputs": [],
   "source": [
    "brucetransittime=np.array(df['Time'])\n",
    "#brucetransittime= 1.40794050*brucetransitnumber + 2458779.3750828\n",
    "brucetransitnumber= np.round((brucetransittime-2458779.3750828)/1.40794050)\n",
    "#brucex= brucetransitnumber\n",
    "#brucey=np.array(df['dT[sec]'])\n",
    "bruceerr= np.array(df['Uncertainty'])*60*60*24\n",
    "#fig, ax = plt.subplots(figsize=(16, 8))\n",
    "\n",
    "#plt.errorbar(brucex, brucey, yerr = bruceerr, fmt = 'o')\n",
    "#ax.set_ylabel('seconds');\n",
    "#ax.set_xlabel('transit number');"
   ]
  },
  {
   "cell_type": "code",
   "execution_count": 5,
   "metadata": {},
   "outputs": [],
   "source": [
    "actualbrucetransittime = np.array(df['Time'])-2458700"
   ]
  },
  {
   "cell_type": "code",
   "execution_count": 6,
   "metadata": {},
   "outputs": [
    {
     "name": "stdout",
     "output_type": "stream",
     "text": [
      "315.9088683668524\n"
     ]
    }
   ],
   "source": [
    "print(actualbrucetransittime[0])"
   ]
  },
  {
   "cell_type": "code",
   "execution_count": 7,
   "metadata": {},
   "outputs": [
    {
     "name": "stdout",
     "output_type": "stream",
     "text": [
      "66.703572003636\n"
     ]
    }
   ],
   "source": [
    "print(transittimesplanet0[0])"
   ]
  },
  {
   "cell_type": "code",
   "execution_count": 8,
   "metadata": {},
   "outputs": [
    {
     "data": {
      "text/plain": [
       "-1.407952366862446"
      ]
     },
     "execution_count": 8,
     "metadata": {},
     "output_type": "execute_result"
    }
   ],
   "source": [
    "actualbrucetransittime[14]-actualbrucetransittime[0]"
   ]
  },
  {
   "cell_type": "code",
   "execution_count": 9,
   "metadata": {},
   "outputs": [
    {
     "data": {
      "text/plain": [
       "-249.2052963632164"
      ]
     },
     "execution_count": 9,
     "metadata": {},
     "output_type": "execute_result"
    }
   ],
   "source": [
    "transittimesplanet0[0]- actualbrucetransittime[0]"
   ]
  },
  {
   "cell_type": "code",
   "execution_count": 10,
   "metadata": {},
   "outputs": [
    {
     "name": "stdout",
     "output_type": "stream",
     "text": [
      "[66.703572   69.51945347 73.74333002]\n"
     ]
    }
   ],
   "source": [
    "transittimesplanet0 = np.array(transittimesplanet0)\n",
    "print(transittimesplanet0[np.array([0, 2, 5])])"
   ]
  },
  {
   "cell_type": "code",
   "execution_count": 11,
   "metadata": {},
   "outputs": [
    {
     "name": "stdout",
     "output_type": "stream",
     "text": [
      " bruce transit number 168.0 coresponds to transit time 315.9088683668524\n",
      " bruce transit number 180.0 coresponds to transit time 332.80413679406047\n",
      " bruce transit number 200.0 coresponds to transit time 360.9629293610342\n",
      " bruce transit number 217.0 coresponds to transit time 384.8978941459209\n",
      " bruce transit number 222.0 coresponds to transit time 391.93759056413546\n",
      " bruce transit number 224.0 coresponds to transit time 394.753486501053\n",
      " bruce transit number 229.0 coresponds to transit time 401.793159971945\n",
      " bruce transit number 239.0 coresponds to transit time 415.87255670595914\n",
      " bruce transit number 246.0 coresponds to transit time 425.728129317984\n",
      " bruce transit number 256.0 coresponds to transit time 439.80752397188917\n",
      " bruce transit number 0.0 coresponds to transit time 79.37508499994874\n",
      " bruce transit number 94.0 coresponds to transit time 211.72136700013652\n",
      " bruce transit number 143.0 coresponds to transit time 280.7103829998523\n",
      " bruce transit number 150.0 coresponds to transit time 290.56595900002867\n"
     ]
    }
   ],
   "source": [
    "#for i in range(29):\n",
    "    #print('datapoint number', i,'coresponds to transit time', transittimesplanet0[i] )\n",
    "#print(transittimesplanet0[9])\n",
    "#print(transittimesplanet0[157])\n",
    "#print(transittimesplanet0[174])\n",
    "#print(transittimesplanet0[311])\n",
    "for i in range(14):\n",
    "    print(' bruce transit number', brucetransitnumber[i],'coresponds to transit time', actualbrucetransittime[i] )\n",
    "    #for j in range(len(transittimesplanet0)):\n",
    "        #print(transittimesplanet0[i])\n",
    "        #condition = actualbrucetransittime[i]==transittimesplanet0[i]\n",
    "        #if condition: \n",
    "            #print(i)\n",
    "transitswewant = (brucetransitnumber + 9)\n",
    "transitswewant = (transitswewant.astype(int))\n",
    "#print(transitswewant)"
   ]
  },
  {
   "cell_type": "code",
   "execution_count": 12,
   "metadata": {},
   "outputs": [
    {
     "name": "stdout",
     "output_type": "stream",
     "text": [
      "[-136.33910311 -150.10416608 -174.18533778 -193.84287186 -199.66576359\n",
      " -203.4872703  -207.27673653 -218.92133172 -226.13875391 -231.69492244\n",
      "    8.81725948  -89.71567339 -107.99827277 -115.55639567 -134.04587027]\n"
     ]
    }
   ],
   "source": [
    "print((np.array(transittimesplanet0)[transitswewant]-actualbrucetransittime) * 24 * 60 * 60)"
   ]
  },
  {
   "cell_type": "code",
   "execution_count": 13,
   "metadata": {},
   "outputs": [
    {
     "name": "stdout",
     "output_type": "stream",
     "text": [
      "9020588.128618864\n"
     ]
    }
   ],
   "source": [
    "chisq = np.sum(((actualbrucetransittime - np.array(transittimesplanet0)[transitswewant]) * 24 * 60 * 60)**2 / bruceerr**2)\n",
    "print(chisq)"
   ]
  },
  {
   "cell_type": "code",
   "execution_count": 14,
   "metadata": {},
   "outputs": [],
   "source": [
    "def loglikelihood(p, actualbrucetransittime, bruceerr, yesplot= False): #here p is an array of the parameters: let's define p[0] = slope, and p[1] = intercept\n",
    "    #slope = p[0]\n",
    "    #intercept = p[1]\n",
    "    #quad = p[2]\n",
    "    #model = slope*x + intercept+ quad*x**2\n",
    "    #chisq = np.sum((y - model)**2 / e**2)\n",
    "    \n",
    "    gravity =  0.000295994511                        # AU^3/day^2/M_sun\n",
    "    stellar_mass = 0.518 #0.95573417954    #change me                # M_sun\n",
    "\n",
    "\n",
    "    planet1 = models.Planet(\n",
    "        mass = 0.00954588, #0.00002878248,                         # M_sun\n",
    "        period = p[7],#1.4079405,#1.0917340278625494e+01,              # days\n",
    "        eccentricity = 0,#5.6159310042858110e-02,\n",
    "        inclination = 20,#88.778,#9.0921164935951211e+01,         # degrees\n",
    "        longnode = -1.1729336712101943e-18,           # degrees\n",
    "        argument = 1.8094838714599581e+02,            # degrees\n",
    "        mean_anomaly = p[8],#-90 #-8.7093652691581923e+01,       # degrees\n",
    "    )\n",
    "\n",
    "    planet2 = models.Planet(\n",
    "        mass = p[0],#0.00954588,#0.00061895914,\n",
    "        period = p[1],#200,#1.4079405,#2.2266898036209028e+01,\n",
    "        eccentricity = p[2],#0.7, #5.6691301931178648e-02,\n",
    "        inclination = p[3],#8.7598285693573246e+01,\n",
    "        longnode = p[4],#4.6220554014026838e-01,\n",
    "        argument = p[5],#1.6437004273382669e+00,\n",
    "        mean_anomaly = p[6],#-1.9584857031843157e+01,\n",
    "    )\n",
    "\n",
    "    planets = [planet1, planet2]\n",
    "    Time = 66.70357200363651-1.4079405+0.003714472890699483 #-1045                                    # days\n",
    "    dt = 0.02                                       # days\n",
    "    Total = 510 #1700                                    # days\n",
    "\n",
    "    results = ttvfast.ttvfast(planets, stellar_mass, Time, dt, Total)\n",
    "    whichplanet = results[\"positions\"][0]\n",
    "    whichtransit = results[\"positions\"][1]\n",
    "    transittimes = results[\"positions\"][2]\n",
    "    planet1transits = []\n",
    "    planet1times = []\n",
    "    transittimesplanet0 = []\n",
    "    transitnumberplanet0 = []\n",
    "    for i in range(375):\n",
    "        a = whichplanet[i]\n",
    "        condition = a == 0  \n",
    "        if condition: \n",
    "            transittimesplanet0.append(transittimes[i] )\n",
    "            transitnumberplanet0.append(whichtransit[i] )\n",
    "    \n",
    "    \n",
    "    if yesplot: \n",
    "        fig, ax = plt.subplots(figsize=(16, 8))\n",
    "    #m=np.mean((actualbrucetransittime-1.4079405*brucetransitnumber)*24*60*60)\n",
    "    #model data- model line \n",
    "    #plt.errorbar(brucetransitnumber, (actualbrucetransittime-1.4079405*brucetransitnumber)*24*60*60-m, yerr = bruceerr, fmt = 'o-', label = 'Data')\n",
    "    #print(actualbrucetransittime)\n",
    "    #print(np.array(transittimesplanet0)[transitswewant])\n",
    "    #bruce data- model line \n",
    "    #plt.plot(brucetransitnumber, (np.array(transittimesplanet0)[transitswewant]-1.4079405*brucetransitnumber)*24*60*60-m,\"o-\", label = 'Model')\n",
    "    #ax.set_ylabel('seconds');\n",
    "    '''ax.set_xlabel('transit number');\n",
    "    ax.set_title('mass = '+ str(p[0])+ ' period ='+ str(p[1]))\n",
    "    plt.show()'''\n",
    "    '''print(np.array(transittimesplanet0)[transitswewant[0:5]])\n",
    "    print(actualbrucetransittime[0:5])'''\n",
    "    #print(\"transits we want\",np.array(transittimesplanet0)[transitswewant])\n",
    "    #print(\"actual brue transits\",actualbrucetransittime)\n",
    "    #print(\"actual bruce - transits we want\",actualbrucetransittime-np.array(transittimesplanet0)[transitswewant])\n",
    "    pbruce = np.polyfit(brucetransitnumber,actualbrucetransittime,1, w= 1/bruceerr)\n",
    "    pmodel = np.polyfit(brucetransitnumber,np.array(transittimesplanet0)[transitswewant],1,w= 1/bruceerr)\n",
    "    brucetrend = np.polyval(pbruce,brucetransitnumber)\n",
    "    modeltrend = np.polyval(pmodel,brucetransitnumber)\n",
    "    brucetransittimecorrected = actualbrucetransittime - brucetrend\n",
    "    modeltransittimecorrected = np.array(transittimesplanet0)[transitswewant] - modeltrend\n",
    "    if yesplot:\n",
    "        plt.errorbar(brucetransitnumber,brucetransittimecorrected*60*60*24, yerr = bruceerr, fmt = 'o-', label = 'Corrected Data')\n",
    "        print(actualbrucetransittime)\n",
    "        print(np.array(transittimesplanet0)[transitswewant])\n",
    "        #bruce data- model line \n",
    "        plt.plot(brucetransitnumber, modeltransittimecorrected*60*60*24,\"o-\", label = 'Corrected Model')\n",
    "        ax.set_ylabel('seconds');\n",
    "        ax.set_xlabel('transit number');\n",
    "        ax.set_title('mass = '+ str(p[0])+ ' period ='+ str(p[1])+ 'mean anomoly ='+ str(p[6])) \n",
    "        plt.show()\n",
    "    chisq = np.sum((brucetransittimecorrected*60*60*24 - modeltransittimecorrected*60*60*24)**2/ bruceerr**2)\n",
    "    #print(brucetransittimecorrected*60*60*24 - modeltransittimecorrected*60*60*24)\n",
    "    #print(bruceerr)\n",
    "    negloglikelihood = 0.5 * chisq\n",
    "    return negloglikelihood\n"
   ]
  },
  {
   "cell_type": "code",
   "execution_count": 15,
   "metadata": {},
   "outputs": [
    {
     "data": {
      "text/plain": [
       "849.3221498613184"
      ]
     },
     "execution_count": 15,
     "metadata": {},
     "output_type": "execute_result"
    }
   ],
   "source": [
    "loglikelihood([0.00954588,200,0.6,8.7598285693573246e+01,4.6220554014026838e-01,1.6437004273382669e+00,-1.9584857031843157e+01,1.40795,-90],actualbrucetransittime , bruceerr)"
   ]
  },
  {
   "cell_type": "code",
   "execution_count": 16,
   "metadata": {},
   "outputs": [
    {
     "name": "stdout",
     "output_type": "stream",
     "text": [
      "[168. 180. 200. 217. 222. 224. 229. 239. 246. 256.   0.  94. 143. 150.\n",
      " 167.]\n"
     ]
    }
   ],
   "source": [
    "print(brucetransitnumber)\n"
   ]
  },
  {
   "cell_type": "code",
   "execution_count": 17,
   "metadata": {},
   "outputs": [
    {
     "data": {
      "text/plain": [
       "\"'for j in range(len(massestotest)):\\n        thismass= massestotest[j]\\n        for k in range(len(periodstotest)):\\n            thisperiod= periodstotest[k]\\n            for m in range(len(meananomolytotest)):\\n                thismeananomoly= meananomolytotest[m]\\n                loglikelihood([thismass,\\n                           thisperiod,0.6,\\n                           8.7598285693573246e+01,\\n                           4.6220554014026838e-01,\\n                           1.6437004273382669e+00,\\n                           thismeananomoly,\\n                           1.40795,-90],actualbrucetransittime , bruceerr)\""
      ]
     },
     "execution_count": 17,
     "metadata": {},
     "output_type": "execute_result"
    }
   ],
   "source": [
    "#grid search \n",
    "periodstotest = np.linspace(50,1000,300)\n",
    "massestotest = np.linspace(0.1,13,100)/1047.572 #conversion from jupiter to solar masses\n",
    "periastrontotest = np.linspace(0,360,100)\n",
    "''''for j in range(len(massestotest)):\n",
    "        thismass= massestotest[j]\n",
    "        for k in range(len(periodstotest)):\n",
    "            thisperiod= periodstotest[k]\n",
    "            for m in range(len(meananomolytotest)):\n",
    "                thismeananomoly= meananomolytotest[m]\n",
    "                loglikelihood([thismass,\n",
    "                           thisperiod,0.6,\n",
    "                           8.7598285693573246e+01,\n",
    "                           4.6220554014026838e-01,\n",
    "                           1.6437004273382669e+00,\n",
    "                           thismeananomoly,\n",
    "                           1.40795,-90],actualbrucetransittime , bruceerr)'''\n"
   ]
  },
  {
   "cell_type": "code",
   "execution_count": 18,
   "metadata": {},
   "outputs": [],
   "source": [
    "#for j in range(len(ecentricitiestotest)):\n",
    "    #print(j)\n",
    "    #print('loop finished')\n",
    "    #print(ecentricitiestotest[j])"
   ]
  },
  {
   "cell_type": "code",
   "execution_count": 19,
   "metadata": {},
   "outputs": [
    {
     "name": "stdout",
     "output_type": "stream",
     "text": [
      "[[[0. 0. 0. ... 0. 0. 0.]\n",
      "  [0. 0. 0. ... 0. 0. 0.]\n",
      "  [0. 0. 0. ... 0. 0. 0.]\n",
      "  ...\n",
      "  [0. 0. 0. ... 0. 0. 0.]\n",
      "  [0. 0. 0. ... 0. 0. 0.]\n",
      "  [0. 0. 0. ... 0. 0. 0.]]\n",
      "\n",
      " [[0. 0. 0. ... 0. 0. 0.]\n",
      "  [0. 0. 0. ... 0. 0. 0.]\n",
      "  [0. 0. 0. ... 0. 0. 0.]\n",
      "  ...\n",
      "  [0. 0. 0. ... 0. 0. 0.]\n",
      "  [0. 0. 0. ... 0. 0. 0.]\n",
      "  [0. 0. 0. ... 0. 0. 0.]]\n",
      "\n",
      " [[0. 0. 0. ... 0. 0. 0.]\n",
      "  [0. 0. 0. ... 0. 0. 0.]\n",
      "  [0. 0. 0. ... 0. 0. 0.]\n",
      "  ...\n",
      "  [0. 0. 0. ... 0. 0. 0.]\n",
      "  [0. 0. 0. ... 0. 0. 0.]\n",
      "  [0. 0. 0. ... 0. 0. 0.]]\n",
      "\n",
      " ...\n",
      "\n",
      " [[0. 0. 0. ... 0. 0. 0.]\n",
      "  [0. 0. 0. ... 0. 0. 0.]\n",
      "  [0. 0. 0. ... 0. 0. 0.]\n",
      "  ...\n",
      "  [0. 0. 0. ... 0. 0. 0.]\n",
      "  [0. 0. 0. ... 0. 0. 0.]\n",
      "  [0. 0. 0. ... 0. 0. 0.]]\n",
      "\n",
      " [[0. 0. 0. ... 0. 0. 0.]\n",
      "  [0. 0. 0. ... 0. 0. 0.]\n",
      "  [0. 0. 0. ... 0. 0. 0.]\n",
      "  ...\n",
      "  [0. 0. 0. ... 0. 0. 0.]\n",
      "  [0. 0. 0. ... 0. 0. 0.]\n",
      "  [0. 0. 0. ... 0. 0. 0.]]\n",
      "\n",
      " [[0. 0. 0. ... 0. 0. 0.]\n",
      "  [0. 0. 0. ... 0. 0. 0.]\n",
      "  [0. 0. 0. ... 0. 0. 0.]\n",
      "  ...\n",
      "  [0. 0. 0. ... 0. 0. 0.]\n",
      "  [0. 0. 0. ... 0. 0. 0.]\n",
      "  [0. 0. 0. ... 0. 0. 0.]]]\n",
      "[[[  14.82374232   14.88227817   14.93662238 ...   14.69994325\n",
      "     14.76248699   14.823742  ]\n",
      "  [  16.61643701   16.75378075   16.87910553 ...   16.32160098\n",
      "     16.4710594    16.61643766]\n",
      "  [  19.51618562   19.7351813    19.93163675 ...   19.03929569\n",
      "     19.28182455   19.51618571]\n",
      "  ...\n",
      "  [5096.22708878 5113.58417741 5115.82159322 ... 5027.88459231\n",
      "   5066.66031414 5096.22708581]\n",
      "  [5197.73915775 5215.315046   5217.46565669 ... 5128.17335237\n",
      "   5167.6683713  5197.73916093]\n",
      "  [5300.20375491 5317.99791194 5320.05824676 ... 5229.40508135\n",
      "   5269.62590611 5300.20377065]]\n",
      "\n",
      " [[  14.61161935   14.61836222   14.63059529 ...   14.61616758\n",
      "     14.61083008   14.6116188 ]\n",
      "  [  16.24321146   16.27754999   16.31900803 ...   16.19777663\n",
      "     16.21654015   16.24320903]\n",
      "  [  19.11297445   19.19613816   19.28173354 ...   18.95438361\n",
      "     19.03235681   19.11297248]\n",
      "  ...\n",
      "  [5795.92353224 5886.13021005 5943.49930294 ... 5508.04987011\n",
      "   5670.17839245 5795.92348172]\n",
      "  [5913.25901476 6005.20834212 6063.59853286 ... 5619.53537052\n",
      "   5784.98065286 5913.25901476]\n",
      "  [6031.74414689 6125.45095839 6184.86816586 ... 5732.11279502\n",
      "   5900.90859434 6031.74409964]]\n",
      "\n",
      " [[  15.13668385   15.15217173   15.17039777 ...   15.12113205\n",
      "     15.12580489   15.1366856 ]\n",
      "  [  17.05683458   17.14163922   17.23201156 ...   16.93085642\n",
      "     16.98449915   17.05683498]\n",
      "  [  19.76751735   19.97714943   20.19427495 ...   19.42926798\n",
      "     19.58032837   19.76751739]\n",
      "  ...\n",
      "  [3748.44382329 3995.57994253 4236.55447681 ... 3287.46397165\n",
      "   3508.19250966 3748.44379834]\n",
      "  [3822.94130621 4074.96201919 4320.66446529 ... 3352.73025133\n",
      "   3577.9019869  3822.94131072]\n",
      "  [3898.14866253 4155.09744726 4405.56895005 ... 3418.62024984\n",
      "   3648.27739674 3898.14857536]]\n",
      "\n",
      " ...\n",
      "\n",
      " [[  14.17150251   14.16915147   14.16729843 ...   14.17756799\n",
      "     14.17432282   14.17150251]\n",
      "  [  14.13485706   14.12946569   14.12522012 ...   14.14874433\n",
      "     14.14131368   14.13485706]\n",
      "  [  14.0985368    14.0901429    14.08353135 ...   14.12017922\n",
      "     14.10860056   14.0985368 ]\n",
      "  ...\n",
      "  [  12.0871096    11.92896291   11.79759937 ...   12.50037718\n",
      "     12.27600662   12.0871096 ]\n",
      "  [  12.08039833   11.92204214   11.79037516 ...   12.49432698\n",
      "     12.26953635   12.08039833]\n",
      "  [  12.07397564   11.91543522   11.78348391 ...   12.48849628\n",
      "     12.26331875   12.07397564]]\n",
      "\n",
      " [[  14.17187651   14.16951023   14.16763382 ...   14.17794852\n",
      "     14.17470473   14.17187651]\n",
      "  [  14.135708     14.13028141   14.1259825  ...   14.14962888\n",
      "     14.14218818   14.135708  ]\n",
      "  [  14.09986343   14.0914121    14.08472156 ...   14.12155249\n",
      "     14.10996302   14.09986343]\n",
      "  ...\n",
      "  [  12.10362577   11.94419264   11.81178218 ...   12.52020664\n",
      "     12.29406659   12.10362577]\n",
      "  [  12.09677869   11.93712486   11.80442029 ...   12.51407009\n",
      "     12.28747813   12.09677869]\n",
      "  [  12.09020976   11.93037082   11.79738575 ...   12.50814175\n",
      "     12.28113515   12.09021052]]\n",
      "\n",
      " [[  14.17224691   14.16986355   14.16796956 ...   14.17833504\n",
      "     14.17508891   14.17224691]\n",
      "  [  14.136549     14.1310929    14.1267488  ...   14.15050506\n",
      "     14.14305381   14.136549  ]\n",
      "  [  14.1011731    14.0926623    14.08590455 ...   14.12291624\n",
      "     14.11130778   14.1011731 ]\n",
      "  ...\n",
      "  [  12.12021175   11.95948121   11.82601543 ...   12.54009695\n",
      "     12.31219956   12.12021175]\n",
      "  [  12.11323004   11.95227665   11.8185185  ...   12.53387375\n",
      "     12.30549627   12.11323004]\n",
      "  [  12.10652561   11.94537581   11.81134428 ...   12.5278578\n",
      "     12.29903651   12.10652561]]]\n"
     ]
    }
   ],
   "source": [
    "a=np.zeros((len(periodstotest),len(massestotest),len(periastrontotest)))\n",
    "testedmasses= np.zeros((len(periodstotest),len(massestotest),len(periastrontotest)))\n",
    "testedperiods = np.zeros((len(periodstotest),len(massestotest),len(periastrontotest)))\n",
    "print(a)\n",
    "for c in range(len(periodstotest)):\n",
    "    for d in range(len(massestotest)):\n",
    "        for e in range(len(periastrontotest)):\n",
    "            a[c,d,e]=loglikelihood([massestotest[d],periodstotest[c],0,8.7598285693573246e+01,\n",
    "                                               4.6220554014026838e-01,periastrontotest[e],\n",
    "                                               225,1.40795,-90],actualbrucetransittime , bruceerr)\n",
    "            testedmasses[c,d,e]=massestotest[d]\n",
    "            testedperiods[c,d,e]= periodstotest[c]\n",
    "print(a)"
   ]
  },
  {
   "cell_type": "code",
   "execution_count": 20,
   "metadata": {},
   "outputs": [
    {
     "data": {
      "text/plain": [
       "Text(0.5, 0, 'masses in solar masses')"
      ]
     },
     "execution_count": 20,
     "metadata": {},
     "output_type": "execute_result"
    },
    {
     "data": {
      "image/png": "[encoded data removed]",
      "text/plain": [
       "<Figure size 432x288 with 2 Axes>"
      ]
     },
     "metadata": {
      "needs_background": "light"
     },
     "output_type": "display_data"
    }
   ],
   "source": [
    "fig,ax= plt.subplots()\n",
    "im=ax.imshow(np.min(a, axis= 2),extent = [min(massestotest), max(massestotest),max(periodstotest),min(periodstotest)], aspect='auto')\n",
    "\n",
    "fig.colorbar(im)\n",
    "ax.set_ylabel('period in days')\n",
    "ax.set_xlabel('masses in solar masses')\n"
   ]
  },
  {
   "cell_type": "code",
   "execution_count": 21,
   "metadata": {},
   "outputs": [
    {
     "data": {
      "text/plain": [
       "Text(0.5, 0, 'masses in solar masses')"
      ]
     },
     "execution_count": 21,
     "metadata": {},
     "output_type": "execute_result"
    },
    {
     "data": {
      "image/png": "[encoded data removed]",
      "text/plain": [
       "<Figure size 432x288 with 2 Axes>"
      ]
     },
     "metadata": {
      "needs_background": "light"
     },
     "output_type": "display_data"
    }
   ],
   "source": [
    "fig,ax= plt.subplots()\n",
    "im=ax.imshow(np.min(testedmasses, axis= 2),extent = [min(massestotest), max(massestotest),max(periodstotest),min(periodstotest)], aspect='auto')\n",
    "\n",
    "fig.colorbar(im)\n",
    "ax.set_ylabel('period in days')\n",
    "ax.set_xlabel('masses in solar masses')"
   ]
  },
  {
   "cell_type": "code",
   "execution_count": 22,
   "metadata": {},
   "outputs": [
    {
     "data": {
      "text/plain": [
       "Text(0.5, 0, 'masses in solar masses')"
      ]
     },
     "execution_count": 22,
     "metadata": {},
     "output_type": "execute_result"
    },
    {
     "data": {
      "image/png": "[encoded data removed]",
      "text/plain": [
       "<Figure size 432x288 with 2 Axes>"
      ]
     },
     "metadata": {
      "needs_background": "light"
     },
     "output_type": "display_data"
    }
   ],
   "source": [
    "fig,ax= plt.subplots()\n",
    "im=ax.imshow(np.min(testedperiods, axis= 2),extent = [min(massestotest), max(massestotest),max(periodstotest),min(periodstotest)], aspect='auto')\n",
    "\n",
    "fig.colorbar(im)\n",
    "ax.set_ylabel('period in days')\n",
    "ax.set_xlabel('masses in solar masses')"
   ]
  },
  {
   "cell_type": "code",
   "execution_count": 23,
   "metadata": {},
   "outputs": [
    {
     "data": {
      "text/plain": [
       "[<matplotlib.lines.Line2D at 0x7ff91fe12b20>]"
      ]
     },
     "execution_count": 23,
     "metadata": {},
     "output_type": "execute_result"
    },
    {
     "data": {
      "image/png": "[encoded data removed]",
      "text/plain": [
       "<Figure size 432x288 with 1 Axes>"
      ]
     },
     "metadata": {
      "needs_background": "light"
     },
     "output_type": "display_data"
    }
   ],
   "source": [
    "plt.plot(np.resize(a, 5*5*6))"
   ]
  },
  {
   "cell_type": "code",
   "execution_count": 24,
   "metadata": {},
   "outputs": [],
   "source": [
    "np.savez(\"biggermeananomly225masstest.npz\",a=a,massestotest=massestotest,periodstotest=periodstotest,periastrontotest=periastrontotest )"
   ]
  },
  {
   "cell_type": "code",
   "execution_count": 25,
   "metadata": {},
   "outputs": [],
   "source": [
    "f=np.load('biggermeananomly225masstest.npz')\n",
    "a = f[\"a\"]\n",
    "massestotest = f['massestotest']\n",
    "periodstotest = f['periodstotest']\n",
    "periastrontotest = f['periastrontotest']"
   ]
  },
  {
   "cell_type": "code",
   "execution_count": 26,
   "metadata": {},
   "outputs": [
    {
     "name": "stdout",
     "output_type": "stream",
     "text": [
      "[[[  14.82374232   14.88227817   14.93662238 ...   14.69994325\n",
      "     14.76248699   14.823742  ]\n",
      "  [  16.61643701   16.75378075   16.87910553 ...   16.32160098\n",
      "     16.4710594    16.61643766]\n",
      "  [  19.51618562   19.7351813    19.93163675 ...   19.03929569\n",
      "     19.28182455   19.51618571]\n",
      "  ...\n",
      "  [5096.22708878 5113.58417741 5115.82159322 ... 5027.88459231\n",
      "   5066.66031414 5096.22708581]\n",
      "  [5197.73915775 5215.315046   5217.46565669 ... 5128.17335237\n",
      "   5167.6683713  5197.73916093]\n",
      "  [5300.20375491 5317.99791194 5320.05824676 ... 5229.40508135\n",
      "   5269.62590611 5300.20377065]]\n",
      "\n",
      " [[  14.61161935   14.61836222   14.63059529 ...   14.61616758\n",
      "     14.61083008   14.6116188 ]\n",
      "  [  16.24321146   16.27754999   16.31900803 ...   16.19777663\n",
      "     16.21654015   16.24320903]\n",
      "  [  19.11297445   19.19613816   19.28173354 ...   18.95438361\n",
      "     19.03235681   19.11297248]\n",
      "  ...\n",
      "  [5795.92353224 5886.13021005 5943.49930294 ... 5508.04987011\n",
      "   5670.17839245 5795.92348172]\n",
      "  [5913.25901476 6005.20834212 6063.59853286 ... 5619.53537052\n",
      "   5784.98065286 5913.25901476]\n",
      "  [6031.74414689 6125.45095839 6184.86816586 ... 5732.11279502\n",
      "   5900.90859434 6031.74409964]]\n",
      "\n",
      " [[  15.13668385   15.15217173   15.17039777 ...   15.12113205\n",
      "     15.12580489   15.1366856 ]\n",
      "  [  17.05683458   17.14163922   17.23201156 ...   16.93085642\n",
      "     16.98449915   17.05683498]\n",
      "  [  19.76751735   19.97714943   20.19427495 ...   19.42926798\n",
      "     19.58032837   19.76751739]\n",
      "  ...\n",
      "  [3748.44382329 3995.57994253 4236.55447681 ... 3287.46397165\n",
      "   3508.19250966 3748.44379834]\n",
      "  [3822.94130621 4074.96201919 4320.66446529 ... 3352.73025133\n",
      "   3577.9019869  3822.94131072]\n",
      "  [3898.14866253 4155.09744726 4405.56895005 ... 3418.62024984\n",
      "   3648.27739674 3898.14857536]]\n",
      "\n",
      " ...\n",
      "\n",
      " [[  14.17150251   14.16915147   14.16729843 ...   14.17756799\n",
      "     14.17432282   14.17150251]\n",
      "  [  14.13485706   14.12946569   14.12522012 ...   14.14874433\n",
      "     14.14131368   14.13485706]\n",
      "  [  14.0985368    14.0901429    14.08353135 ...   14.12017922\n",
      "     14.10860056   14.0985368 ]\n",
      "  ...\n",
      "  [  12.0871096    11.92896291   11.79759937 ...   12.50037718\n",
      "     12.27600662   12.0871096 ]\n",
      "  [  12.08039833   11.92204214   11.79037516 ...   12.49432698\n",
      "     12.26953635   12.08039833]\n",
      "  [  12.07397564   11.91543522   11.78348391 ...   12.48849628\n",
      "     12.26331875   12.07397564]]\n",
      "\n",
      " [[  14.17187651   14.16951023   14.16763382 ...   14.17794852\n",
      "     14.17470473   14.17187651]\n",
      "  [  14.135708     14.13028141   14.1259825  ...   14.14962888\n",
      "     14.14218818   14.135708  ]\n",
      "  [  14.09986343   14.0914121    14.08472156 ...   14.12155249\n",
      "     14.10996302   14.09986343]\n",
      "  ...\n",
      "  [  12.10362577   11.94419264   11.81178218 ...   12.52020664\n",
      "     12.29406659   12.10362577]\n",
      "  [  12.09677869   11.93712486   11.80442029 ...   12.51407009\n",
      "     12.28747813   12.09677869]\n",
      "  [  12.09020976   11.93037082   11.79738575 ...   12.50814175\n",
      "     12.28113515   12.09021052]]\n",
      "\n",
      " [[  14.17224691   14.16986355   14.16796956 ...   14.17833504\n",
      "     14.17508891   14.17224691]\n",
      "  [  14.136549     14.1310929    14.1267488  ...   14.15050506\n",
      "     14.14305381   14.136549  ]\n",
      "  [  14.1011731    14.0926623    14.08590455 ...   14.12291624\n",
      "     14.11130778   14.1011731 ]\n",
      "  ...\n",
      "  [  12.12021175   11.95948121   11.82601543 ...   12.54009695\n",
      "     12.31219956   12.12021175]\n",
      "  [  12.11323004   11.95227665   11.8185185  ...   12.53387375\n",
      "     12.30549627   12.11323004]\n",
      "  [  12.10652561   11.94537581   11.81134428 ...   12.5278578\n",
      "     12.29903651   12.10652561]]]\n"
     ]
    }
   ],
   "source": [
    "print(f[\"a\"])"
   ]
  },
  {
   "cell_type": "code",
   "execution_count": 27,
   "metadata": {},
   "outputs": [
    {
     "name": "stdout",
     "output_type": "stream",
     "text": [
      "6.808982454326428e-07\n"
     ]
    },
    {
     "name": "stderr",
     "output_type": "stream",
     "text": [
      "<ipython-input-27-91f9e3773cdc>:8: RuntimeWarning: divide by zero encountered in log10\n",
      "  im=ax.imshow(np.maximum(np.log10(planetlikihood/noplanetlikihood), -4 ),extent = [min(massestotest)*1047.572, max(massestotest)*1047.572,max(periodstotest),min(periodstotest)], aspect='auto')\n"
     ]
    },
    {
     "data": {
      "text/plain": [
       "Text(0.5, 0, 'masses in Jupiter masses')"
      ]
     },
     "execution_count": 27,
     "metadata": {},
     "output_type": "execute_result"
    },
    {
     "data": {
      "image/png": "[encoded data removed]",
      "text/plain": [
       "<Figure size 432x288 with 2 Axes>"
      ]
     },
     "metadata": {
      "needs_background": "light"
     },
     "output_type": "display_data"
    }
   ],
   "source": [
    "noplanetlikihood=np.exp(loglikelihood([0,120,0,90,\n",
    "                                               4.6220554014026838e-01,1.6437004273382669e+00,\n",
    "                                               225,1.40795,-90],actualbrucetransittime , bruceerr, yesplot= False)*-1)\n",
    "print(noplanetlikihood)\n",
    "planetlikihood = np.exp(-1*np.min(a, axis= 2))\n",
    "\n",
    "fig,ax= plt.subplots()\n",
    "im=ax.imshow(np.maximum(np.log10(planetlikihood/noplanetlikihood), -4 ),extent = [min(massestotest)*1047.572, max(massestotest)*1047.572,max(periodstotest),min(periodstotest)], aspect='auto')\n",
    "\n",
    "fig.colorbar(im, label = 'log base ten probability')\n",
    "ax.set_ylabel('period in days')\n",
    "ax.set_xlabel('masses in Jupiter masses')"
   ]
  },
  {
   "cell_type": "code",
   "execution_count": 28,
   "metadata": {},
   "outputs": [
    {
     "name": "stdout",
     "output_type": "stream",
     "text": [
      "6.808982454326428e-07\n",
      "[[9.96071174e-07 7.28291373e-07 2.31943061e-07 ... 0.00000000e+00\n",
      "  0.00000000e+00 0.00000000e+00]\n",
      " [1.12105832e-06 1.20447558e-06 6.73403888e-07 ... 0.00000000e+00\n",
      "  0.00000000e+00 0.00000000e+00]\n",
      " [2.15124091e-06 4.35991571e-06 3.61110325e-06 ... 0.00000000e+00\n",
      "  0.00000000e+00 0.00000000e+00]\n",
      " ...\n",
      " [7.05085231e-07 7.37630497e-07 7.71381321e-07 ... 1.01454799e-05\n",
      "  1.02650615e-05 1.03828758e-05]\n",
      " [7.04914328e-07 7.37223305e-07 7.70711187e-07 ... 1.00479931e-05\n",
      "  1.01666263e-05 1.02835192e-05]\n",
      " [7.04738436e-07 7.36808125e-07 7.70040778e-07 ... 9.95071518e-06\n",
      "  1.00683919e-05 1.01843868e-05]]\n",
      "[[  13.81944712   14.13256463   15.27677392 ... 3388.81251522\n",
      "  3457.20512443 3526.25907543]\n",
      " [  13.70123739   13.62946629   14.21092056 ... 2673.97499011\n",
      "  2725.68401408 2777.8472165 ]\n",
      " [  13.04946571   12.34305783   12.53149722 ... 2612.24520685\n",
      "  2664.02907585 2716.29627282]\n",
      " ...\n",
      " [  14.16494715   14.11982282   14.07508301 ...   11.49848229\n",
      "    11.48676451   11.47535267]\n",
      " [  14.16518956   14.120375     14.07595213 ...   11.50813763\n",
      "    11.49640013   11.48496803]\n",
      " [  14.16543912   14.12093833   14.07682236 ...   11.51786613\n",
      "    11.50610956   11.49465472]]\n"
     ]
    }
   ],
   "source": [
    "print(noplanetlikihood)\n",
    "print(planetlikihood)\n",
    "print(np.min(a, axis = 2))"
   ]
  },
  {
   "cell_type": "code",
   "execution_count": 29,
   "metadata": {},
   "outputs": [],
   "source": [
    "#test=loglikelihood([massestotest[c],periodstotest[d],0.6,8.7598285693573246e+01,\n",
    "                                              # 4.6220554014026838e-01,1.6437004273382669e+00,\n",
    "                                               #meananomolytotest[e],1.40795,-90],actualbrucetransittime , bruceerr, yesplot= True)\n",
    "#print(test)\n",
    "#print(noplanetlikihood)"
   ]
  },
  {
   "cell_type": "code",
   "execution_count": 30,
   "metadata": {},
   "outputs": [
    {
     "name": "stdout",
     "output_type": "stream",
     "text": [
      "(9, 6, 84)\n",
      "78.59531772575251\n",
      "0.0008417733404655546\n",
      "305.45454545454544\n"
     ]
    }
   ],
   "source": [
    "import numpy as np\n",
    "f=np.load('biggermeananomly225masstest.npz')\n",
    "a = f[\"a\"]\n",
    "ind = np.unravel_index(np.argmin(f[\"a\"], axis=None), f[\"a\"].shape)\n",
    "print(ind)\n",
    "print(f[\"periodstotest\"][ind[0]])\n",
    "print(f[\"massestotest\"][ind[1]])\n",
    "#meananomolytotest = np.linspace(0,360,100)\n",
    "print(f[\"periastrontotest\"][ind[2]])"
   ]
  },
  {
   "cell_type": "code",
   "execution_count": 31,
   "metadata": {},
   "outputs": [
    {
     "name": "stdout",
     "output_type": "stream",
     "text": [
      "[315.90886837 332.80413679 360.96292936 384.89789415 391.93759056\n",
      " 394.7534865  401.79315997 415.87255671 425.72812932 439.80752397\n",
      "  79.375085   211.721367   280.710383   290.565959   314.500916  ]\n",
      "[315.91106682 332.80648794 360.96552897 384.90071265 391.94046775\n",
      " 394.75636988 401.79612796 415.87564987 425.73131412 439.81083402\n",
      "  79.37515732 211.72263074 280.71227201 290.56793593 314.50311587]\n"
     ]
    },
    {
     "data": {
      "image/png": "[encoded data removed]",
      "text/plain": [
       "<Figure size 1152x576 with 1 Axes>"
      ]
     },
     "metadata": {
      "needs_background": "light"
     },
     "output_type": "display_data"
    }
   ],
   "source": [
    "somethingwedontcareabout=np.exp(loglikelihood([f[\"massestotest\"][ind[1]],f[\"periodstotest\"][ind[0]],0,90,\n",
    "                                               4.6220554014026838e-01,f[\"periastrontotest\"][ind[2]],\n",
    "                                               225,1.40795,-90],actualbrucetransittime , bruceerr, yesplot= True)*-1)"
   ]
  },
  {
   "cell_type": "code",
   "execution_count": 32,
   "metadata": {},
   "outputs": [
    {
     "name": "stdout",
     "output_type": "stream",
     "text": [
      "6.808982454326428e-07\n",
      "(300, 100, 100)\n",
      "(300, 100)\n"
     ]
    },
    {
     "data": {
      "image/png": "[encoded data removed]",
      "text/plain": [
       "<Figure size 432x288 with 2 Axes>"
      ]
     },
     "metadata": {
      "needs_background": "light"
     },
     "output_type": "display_data"
    }
   ],
   "source": [
    "\n",
    "noplanetlikihood=np.exp(loglikelihood([0,120,0,90,\n",
    "                                               4.6220554014026838e-01,1.6437004273382669e+00,\n",
    "                                               225,1.40795,-90],actualbrucetransittime , bruceerr, yesplot= False)*-1)\n",
    "print(noplanetlikihood)\n",
    "planetlikihood = np.exp(-1*a[:,0,:])\n",
    "fig,ax= plt.subplots()\n",
    "im=ax.imshow(np.maximum(np.log10(planetlikihood/noplanetlikihood),-4 ),extent = [min(massestotest)*1047.572, max(massestotest)*1047.572,max(periodstotest),min(periodstotest)], aspect='auto')\n",
    "\n",
    "fig.colorbar(im, label = 'log base ten probability')\n",
    "ax.set_xlabel('periods in days')\n",
    "ax.set_ylabel('masses in jupiter masses')\n",
    "print(np.shape(a))\n",
    "print(np.shape(planetlikihood))"
   ]
  },
  {
   "cell_type": "code",
   "execution_count": 33,
   "metadata": {},
   "outputs": [
    {
     "name": "stdout",
     "output_type": "stream",
     "text": [
      "[315.90886837 332.80413679 360.96292936 384.89789415 391.93759056\n",
      " 394.7534865  401.79315997 415.87255671 425.72812932 439.80752397\n",
      "  79.375085   211.721367   280.710383   290.565959   314.500916  ]\n",
      "[315.90628252 332.80113982 360.95905729 384.89348583 391.93300016\n",
      " 394.7488029  401.78830893 415.86732059 425.72253218 439.8019857\n",
      "  79.3751761  211.72141779 280.70870764 290.56425836 314.49839236]\n"
     ]
    },
    {
     "data": {
      "image/png": "[encoded data removed]",
      "text/plain": [
       "<Figure size 1152x576 with 1 Axes>"
      ]
     },
     "metadata": {
      "needs_background": "light"
     },
     "output_type": "display_data"
    },
    {
     "name": "stdout",
     "output_type": "stream",
     "text": [
      "14.00936000221352\n",
      "14.008104922804026\n",
      "0.08327511503301284\n"
     ]
    }
   ],
   "source": [
    "test=loglikelihood([massestotest[35],periodstotest[0],0.6,8.7598285693573246e+01,\n",
    "                                               4.6220554014026838e-01,1.6437004273382669e+00,\n",
    "                                               225,1.40795,-90],actualbrucetransittime , bruceerr, yesplot= True)\n",
    "#print(test)\n",
    "#print(noplanetlikihood)\n",
    "#a[c,d,e]=loglikelihood([1/1047.572,130,ecentricitiestotest[c],inclinationstotest[d],\n",
    "                                               #4.6220554014026838e-01,1.6437004273382669e+00,\n",
    "                                               #meananomolytotest[e],1.40795,-90],actualbrucetransittime , bruceerr)\n",
    "print(a[35,0,0])\n",
    "print(a[35,0,1])\n",
    "planetlikihood = np.exp(-1*a[35,0,1])\n",
    "ratio = np.maximum(np.log10(planetlikihood/noplanetlikihood),-4 ) \n",
    "print(ratio)\n"
   ]
  },
  {
   "cell_type": "code",
   "execution_count": 34,
   "metadata": {},
   "outputs": [],
   "source": [
    "#fig,ax= plt.subplots()\n",
    "#im=ax.imshow(np.log(a[:,0,:]))\n",
    "#np.shape(a[:,0,:])"
   ]
  },
  {
   "cell_type": "code",
   "execution_count": 35,
   "metadata": {},
   "outputs": [],
   "source": [
    "#junk=np.random.uniform(0,1,(3,6))\n",
    "#print(junk)\n",
    "#fig,ax= plt.subplots()\n",
    "#im=ax.imshow(junk)"
   ]
  },
  {
   "cell_type": "code",
   "execution_count": 36,
   "metadata": {},
   "outputs": [
    {
     "name": "stdout",
     "output_type": "stream",
     "text": [
      "[45.]\n"
     ]
    }
   ],
   "source": [
    "test = np.linspace(45,45,1)\n",
    "print(test)"
   ]
  },
  {
   "cell_type": "code",
   "execution_count": null,
   "metadata": {},
   "outputs": [],
   "source": []
  }
 ],
 "metadata": {
  "kernelspec": {
   "display_name": "Python 3",
   "language": "python",
   "name": "python3"
  },
  "language_info": {
   "codemirror_mode": {
    "name": "ipython",
    "version": 3
   },
   "file_extension": ".py",
   "mimetype": "text/x-python",
   "name": "python",
   "nbconvert_exporter": "python",
   "pygments_lexer": "ipython3",
   "version": "3.8.8"
  }
 },
 "nbformat": 4,
 "nbformat_minor": 4
}
