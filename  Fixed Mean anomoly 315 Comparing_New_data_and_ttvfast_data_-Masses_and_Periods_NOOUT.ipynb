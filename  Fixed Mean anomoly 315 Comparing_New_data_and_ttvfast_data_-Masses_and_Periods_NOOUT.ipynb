{
 "cells": [
  {
   "cell_type": "code",
   "execution_count": 1,
   "metadata": {},
   "outputs": [],
   "source": [
    "import ttvfast\n",
    "import numpy as np\n",
    "import pandas as pd \n",
    "import matplotlib.pyplot as plt\n",
    "from ttvfast import models\n",
    "import pdb\n",
    "\n",
    "\n",
    "\n",
    "gravity =  0.000295994511                        # AU^3/day^2/M_sun\n",
    "stellar_mass = 0.518 #0.95573417954    #change me                # M_sun\n",
    "\n",
    "\n",
    "planet1 = models.Planet(\n",
    "    mass=0.00954588, #0.00002878248,                         # M_sun\n",
    "    period=1.4079405,#1.0917340278625494e+01,              # days\n",
    "    eccentricity=0,#5.6159310042858110e-02,\n",
    "    inclination=88.778,#9.0921164935951211e+01,         # degrees\n",
    "    longnode=-1.1729336712101943e-18,           # degrees\n",
    "    argument=1.8094838714599581e+02,            # degrees\n",
    "    mean_anomaly= -90 #-8.7093652691581923e+01,       # degrees\n",
    ")\n",
    "\n",
    "planet2 = models.Planet(\n",
    "    mass=0.00954588,#0.00061895914,\n",
    "    period=200,#1.4079405,#2.2266898036209028e+01,\n",
    "    eccentricity= 0.7, #5.6691301931178648e-02,\n",
    "    inclination=8.7598285693573246e+01,\n",
    "    longnode=4.6220554014026838e-01,\n",
    "    argument=1.6437004273382669e+00,\n",
    "    mean_anomaly=-1.9584857031843157e+01,\n",
    ")\n",
    "\n",
    "planets = [planet1, planet2]\n",
    "Time = 66.70357200363651-1.4079405+0.003714472890699483 #-1045                                    # days\n",
    "dt = 0.02                                       # days\n",
    "Total = 510 #1700                                    # days\n",
    "\n",
    "results = ttvfast.ttvfast(planets, stellar_mass, Time, dt, Total)\n",
    "#print(results)"
   ]
  },
  {
   "cell_type": "code",
   "execution_count": 2,
   "metadata": {},
   "outputs": [],
   "source": [
    "#print(results.keys())\n",
    "#print(results[\"positions\"][2])\n",
    "whichplanet = results[\"positions\"][0]\n",
    "whichtransit = results[\"positions\"][1]\n",
    "transittimes = results[\"positions\"][2]\n",
    "planet1transits = []\n",
    "planet1times = []\n",
    "transittimesplanet0 = []\n",
    "transitnumberplanet0 = []\n",
    "for i in range(375):\n",
    "    a = whichplanet[i]\n",
    "    condition = a==0  \n",
    "    if condition: \n",
    "        transittimesplanet0.append(transittimes[i] )\n",
    "        transitnumberplanet0.append(whichtransit[i] )"
   ]
  },
  {
   "cell_type": "code",
   "execution_count": 3,
   "metadata": {},
   "outputs": [
    {
     "data": {
      "text/html": [
       "<div>\n",
       "<style scoped>\n",
       "    .dataframe tbody tr th:only-of-type {\n",
       "        vertical-align: middle;\n",
       "    }\n",
       "\n",
       "    .dataframe tbody tr th {\n",
       "        vertical-align: top;\n",
       "    }\n",
       "\n",
       "    .dataframe thead th {\n",
       "        text-align: right;\n",
       "    }\n",
       "</style>\n",
       "<table border=\"1\" class=\"dataframe\">\n",
       "  <thead>\n",
       "    <tr style=\"text-align: right;\">\n",
       "      <th></th>\n",
       "      <th>Time</th>\n",
       "      <th>Uncertainty</th>\n",
       "    </tr>\n",
       "  </thead>\n",
       "  <tbody>\n",
       "    <tr>\n",
       "      <th>0</th>\n",
       "      <td>2.459016e+06</td>\n",
       "      <td>0.000002</td>\n",
       "    </tr>\n",
       "    <tr>\n",
       "      <th>1</th>\n",
       "      <td>2.459033e+06</td>\n",
       "      <td>0.000002</td>\n",
       "    </tr>\n",
       "    <tr>\n",
       "      <th>2</th>\n",
       "      <td>2.459061e+06</td>\n",
       "      <td>0.000002</td>\n",
       "    </tr>\n",
       "    <tr>\n",
       "      <th>3</th>\n",
       "      <td>2.459085e+06</td>\n",
       "      <td>0.000002</td>\n",
       "    </tr>\n",
       "    <tr>\n",
       "      <th>4</th>\n",
       "      <td>2.459092e+06</td>\n",
       "      <td>0.000003</td>\n",
       "    </tr>\n",
       "    <tr>\n",
       "      <th>5</th>\n",
       "      <td>2.459095e+06</td>\n",
       "      <td>0.000009</td>\n",
       "    </tr>\n",
       "    <tr>\n",
       "      <th>6</th>\n",
       "      <td>2.459102e+06</td>\n",
       "      <td>0.000002</td>\n",
       "    </tr>\n",
       "    <tr>\n",
       "      <th>7</th>\n",
       "      <td>2.459116e+06</td>\n",
       "      <td>0.000003</td>\n",
       "    </tr>\n",
       "    <tr>\n",
       "      <th>8</th>\n",
       "      <td>2.459126e+06</td>\n",
       "      <td>0.000002</td>\n",
       "    </tr>\n",
       "    <tr>\n",
       "      <th>9</th>\n",
       "      <td>2.459140e+06</td>\n",
       "      <td>0.000003</td>\n",
       "    </tr>\n",
       "    <tr>\n",
       "      <th>10</th>\n",
       "      <td>2.458779e+06</td>\n",
       "      <td>0.000002</td>\n",
       "    </tr>\n",
       "    <tr>\n",
       "      <th>11</th>\n",
       "      <td>2.458912e+06</td>\n",
       "      <td>0.000003</td>\n",
       "    </tr>\n",
       "    <tr>\n",
       "      <th>12</th>\n",
       "      <td>2.458981e+06</td>\n",
       "      <td>0.000008</td>\n",
       "    </tr>\n",
       "    <tr>\n",
       "      <th>13</th>\n",
       "      <td>2.458991e+06</td>\n",
       "      <td>0.000006</td>\n",
       "    </tr>\n",
       "    <tr>\n",
       "      <th>14</th>\n",
       "      <td>2.459015e+06</td>\n",
       "      <td>0.000007</td>\n",
       "    </tr>\n",
       "  </tbody>\n",
       "</table>\n",
       "</div>"
      ],
      "text/plain": [
       "            Time  Uncertainty\n",
       "0   2.459016e+06     0.000002\n",
       "1   2.459033e+06     0.000002\n",
       "2   2.459061e+06     0.000002\n",
       "3   2.459085e+06     0.000002\n",
       "4   2.459092e+06     0.000003\n",
       "5   2.459095e+06     0.000009\n",
       "6   2.459102e+06     0.000002\n",
       "7   2.459116e+06     0.000003\n",
       "8   2.459126e+06     0.000002\n",
       "9   2.459140e+06     0.000003\n",
       "10  2.458779e+06     0.000002\n",
       "11  2.458912e+06     0.000003\n",
       "12  2.458981e+06     0.000008\n",
       "13  2.458991e+06     0.000006\n",
       "14  2.459015e+06     0.000007"
      ]
     },
     "execution_count": 3,
     "metadata": {},
     "output_type": "execute_result"
    }
   ],
   "source": [
    "# df=pd.read_csv(r'/Users/sarahkubiak/Desktop/WD1856/test.txt', sep=' ')\n",
    "df=pd.read_csv(r'/Users/sarahkubiak/Desktop/WD1856/newdatawithoutbadthings.txt', sep=' ')\n",
    "df"
   ]
  },
  {
   "cell_type": "code",
   "execution_count": 4,
   "metadata": {},
   "outputs": [],
   "source": [
    "brucetransittime=np.array(df['Time'])\n",
    "#brucetransittime= 1.40794050*brucetransitnumber + 2458779.3750828\n",
    "brucetransitnumber= np.round((brucetransittime-2458779.3750828)/1.40794050)\n",
    "#brucex= brucetransitnumber\n",
    "#brucey=np.array(df['dT[sec]'])\n",
    "bruceerr= np.array(df['Uncertainty'])*60*60*24\n",
    "#fig, ax = plt.subplots(figsize=(16, 8))\n",
    "\n",
    "#plt.errorbar(brucex, brucey, yerr = bruceerr, fmt = 'o')\n",
    "#ax.set_ylabel('seconds');\n",
    "#ax.set_xlabel('transit number');"
   ]
  },
  {
   "cell_type": "code",
   "execution_count": 5,
   "metadata": {},
   "outputs": [],
   "source": [
    "actualbrucetransittime = np.array(df['Time'])-2458700"
   ]
  },
  {
   "cell_type": "code",
   "execution_count": 6,
   "metadata": {},
   "outputs": [
    {
     "name": "stdout",
     "output_type": "stream",
     "text": [
      "315.9088683668524\n"
     ]
    }
   ],
   "source": [
    "print(actualbrucetransittime[0])"
   ]
  },
  {
   "cell_type": "code",
   "execution_count": 7,
   "metadata": {},
   "outputs": [
    {
     "name": "stdout",
     "output_type": "stream",
     "text": [
      "66.703572003636\n"
     ]
    }
   ],
   "source": [
    "print(transittimesplanet0[0])"
   ]
  },
  {
   "cell_type": "code",
   "execution_count": 8,
   "metadata": {},
   "outputs": [
    {
     "data": {
      "text/plain": [
       "-1.407952366862446"
      ]
     },
     "execution_count": 8,
     "metadata": {},
     "output_type": "execute_result"
    }
   ],
   "source": [
    "actualbrucetransittime[14]-actualbrucetransittime[0]"
   ]
  },
  {
   "cell_type": "code",
   "execution_count": 9,
   "metadata": {},
   "outputs": [
    {
     "data": {
      "text/plain": [
       "-249.2052963632164"
      ]
     },
     "execution_count": 9,
     "metadata": {},
     "output_type": "execute_result"
    }
   ],
   "source": [
    "transittimesplanet0[0]- actualbrucetransittime[0]"
   ]
  },
  {
   "cell_type": "code",
   "execution_count": 10,
   "metadata": {},
   "outputs": [
    {
     "name": "stdout",
     "output_type": "stream",
     "text": [
      "[66.703572   69.51945347 73.74333002]\n"
     ]
    }
   ],
   "source": [
    "transittimesplanet0 = np.array(transittimesplanet0)\n",
    "print(transittimesplanet0[np.array([0, 2, 5])])"
   ]
  },
  {
   "cell_type": "code",
   "execution_count": 11,
   "metadata": {},
   "outputs": [
    {
     "name": "stdout",
     "output_type": "stream",
     "text": [
      " bruce transit number 168.0 coresponds to transit time 315.9088683668524\n",
      " bruce transit number 180.0 coresponds to transit time 332.80413679406047\n",
      " bruce transit number 200.0 coresponds to transit time 360.9629293610342\n",
      " bruce transit number 217.0 coresponds to transit time 384.8978941459209\n",
      " bruce transit number 222.0 coresponds to transit time 391.93759056413546\n",
      " bruce transit number 224.0 coresponds to transit time 394.753486501053\n",
      " bruce transit number 229.0 coresponds to transit time 401.793159971945\n",
      " bruce transit number 239.0 coresponds to transit time 415.87255670595914\n",
      " bruce transit number 246.0 coresponds to transit time 425.728129317984\n",
      " bruce transit number 256.0 coresponds to transit time 439.80752397188917\n",
      " bruce transit number 0.0 coresponds to transit time 79.37508499994874\n",
      " bruce transit number 94.0 coresponds to transit time 211.72136700013652\n",
      " bruce transit number 143.0 coresponds to transit time 280.7103829998523\n",
      " bruce transit number 150.0 coresponds to transit time 290.56595900002867\n"
     ]
    }
   ],
   "source": [
    "#for i in range(29):\n",
    "    #print('datapoint number', i,'coresponds to transit time', transittimesplanet0[i] )\n",
    "#print(transittimesplanet0[9])\n",
    "#print(transittimesplanet0[157])\n",
    "#print(transittimesplanet0[174])\n",
    "#print(transittimesplanet0[311])\n",
    "for i in range(14):\n",
    "    print(' bruce transit number', brucetransitnumber[i],'coresponds to transit time', actualbrucetransittime[i] )\n",
    "    #for j in range(len(transittimesplanet0)):\n",
    "        #print(transittimesplanet0[i])\n",
    "        #condition = actualbrucetransittime[i]==transittimesplanet0[i]\n",
    "        #if condition: \n",
    "            #print(i)\n",
    "transitswewant = (brucetransitnumber + 9)\n",
    "transitswewant = (transitswewant.astype(int))\n",
    "#print(transitswewant)"
   ]
  },
  {
   "cell_type": "code",
   "execution_count": 12,
   "metadata": {},
   "outputs": [
    {
     "name": "stdout",
     "output_type": "stream",
     "text": [
      "[-136.33910311 -150.10416608 -174.18533778 -193.84287186 -199.66576359\n",
      " -203.4872703  -207.27673653 -218.92133172 -226.13875391 -231.69492244\n",
      "    8.81725948  -89.71567339 -107.99827277 -115.55639567 -134.04587027]\n"
     ]
    }
   ],
   "source": [
    "print((np.array(transittimesplanet0)[transitswewant]-actualbrucetransittime) * 24 * 60 * 60)"
   ]
  },
  {
   "cell_type": "code",
   "execution_count": 13,
   "metadata": {},
   "outputs": [
    {
     "name": "stdout",
     "output_type": "stream",
     "text": [
      "9020588.128618864\n"
     ]
    }
   ],
   "source": [
    "chisq = np.sum(((actualbrucetransittime - np.array(transittimesplanet0)[transitswewant]) * 24 * 60 * 60)**2 / bruceerr**2)\n",
    "print(chisq)"
   ]
  },
  {
   "cell_type": "code",
   "execution_count": 14,
   "metadata": {},
   "outputs": [],
   "source": [
    "def loglikelihood(p, actualbrucetransittime, bruceerr, yesplot= False): #here p is an array of the parameters: let's define p[0] = slope, and p[1] = intercept\n",
    "    #slope = p[0]\n",
    "    #intercept = p[1]\n",
    "    #quad = p[2]\n",
    "    #model = slope*x + intercept+ quad*x**2\n",
    "    #chisq = np.sum((y - model)**2 / e**2)\n",
    "    \n",
    "    gravity =  0.000295994511                        # AU^3/day^2/M_sun\n",
    "    stellar_mass = 0.518 #0.95573417954    #change me                # M_sun\n",
    "\n",
    "\n",
    "    planet1 = models.Planet(\n",
    "        mass = 0.00954588, #0.00002878248,                         # M_sun\n",
    "        period = p[7],#1.4079405,#1.0917340278625494e+01,              # days\n",
    "        eccentricity = 0,#5.6159310042858110e-02,\n",
    "        inclination = 20,#88.778,#9.0921164935951211e+01,         # degrees\n",
    "        longnode = -1.1729336712101943e-18,           # degrees\n",
    "        argument = 1.8094838714599581e+02,            # degrees\n",
    "        mean_anomaly = p[8],#-90 #-8.7093652691581923e+01,       # degrees\n",
    "    )\n",
    "\n",
    "    planet2 = models.Planet(\n",
    "        mass = p[0],#0.00954588,#0.00061895914,\n",
    "        period = p[1],#200,#1.4079405,#2.2266898036209028e+01,\n",
    "        eccentricity = p[2],#0.7, #5.6691301931178648e-02,\n",
    "        inclination = p[3],#8.7598285693573246e+01,\n",
    "        longnode = p[4],#4.6220554014026838e-01,\n",
    "        argument = p[5],#1.6437004273382669e+00,\n",
    "        mean_anomaly = p[6],#-1.9584857031843157e+01,\n",
    "    )\n",
    "\n",
    "    planets = [planet1, planet2]\n",
    "    Time = 66.70357200363651-1.4079405+0.003714472890699483 #-1045                                    # days\n",
    "    dt = 0.02                                       # days\n",
    "    Total = 510 #1700                                    # days\n",
    "\n",
    "    results = ttvfast.ttvfast(planets, stellar_mass, Time, dt, Total)\n",
    "    whichplanet = results[\"positions\"][0]\n",
    "    whichtransit = results[\"positions\"][1]\n",
    "    transittimes = results[\"positions\"][2]\n",
    "    planet1transits = []\n",
    "    planet1times = []\n",
    "    transittimesplanet0 = []\n",
    "    transitnumberplanet0 = []\n",
    "    for i in range(375):\n",
    "        a = whichplanet[i]\n",
    "        condition = a == 0  \n",
    "        if condition: \n",
    "            transittimesplanet0.append(transittimes[i] )\n",
    "            transitnumberplanet0.append(whichtransit[i] )\n",
    "    \n",
    "    \n",
    "    if yesplot: \n",
    "        fig, ax = plt.subplots(figsize=(16, 8))\n",
    "    #m=np.mean((actualbrucetransittime-1.4079405*brucetransitnumber)*24*60*60)\n",
    "    #model data- model line \n",
    "    #plt.errorbar(brucetransitnumber, (actualbrucetransittime-1.4079405*brucetransitnumber)*24*60*60-m, yerr = bruceerr, fmt = 'o-', label = 'Data')\n",
    "    #print(actualbrucetransittime)\n",
    "    #print(np.array(transittimesplanet0)[transitswewant])\n",
    "    #bruce data- model line \n",
    "    #plt.plot(brucetransitnumber, (np.array(transittimesplanet0)[transitswewant]-1.4079405*brucetransitnumber)*24*60*60-m,\"o-\", label = 'Model')\n",
    "    #ax.set_ylabel('seconds');\n",
    "    '''ax.set_xlabel('transit number');\n",
    "    ax.set_title('mass = '+ str(p[0])+ ' period ='+ str(p[1]))\n",
    "    plt.show()'''\n",
    "    '''print(np.array(transittimesplanet0)[transitswewant[0:5]])\n",
    "    print(actualbrucetransittime[0:5])'''\n",
    "    #print(\"transits we want\",np.array(transittimesplanet0)[transitswewant])\n",
    "    #print(\"actual brue transits\",actualbrucetransittime)\n",
    "    #print(\"actual bruce - transits we want\",actualbrucetransittime-np.array(transittimesplanet0)[transitswewant])\n",
    "    pbruce = np.polyfit(brucetransitnumber,actualbrucetransittime,1, w= 1/bruceerr)\n",
    "    pmodel = np.polyfit(brucetransitnumber,np.array(transittimesplanet0)[transitswewant],1,w= 1/bruceerr)\n",
    "    brucetrend = np.polyval(pbruce,brucetransitnumber)\n",
    "    modeltrend = np.polyval(pmodel,brucetransitnumber)\n",
    "    brucetransittimecorrected = actualbrucetransittime - brucetrend\n",
    "    modeltransittimecorrected = np.array(transittimesplanet0)[transitswewant] - modeltrend\n",
    "    if yesplot:\n",
    "        plt.errorbar(brucetransitnumber,brucetransittimecorrected*60*60*24, yerr = bruceerr, fmt = 'o-', label = 'Corrected Data')\n",
    "        print(actualbrucetransittime)\n",
    "        print(np.array(transittimesplanet0)[transitswewant])\n",
    "        #bruce data- model line \n",
    "        plt.plot(brucetransitnumber, modeltransittimecorrected*60*60*24,\"o-\", label = 'Corrected Model')\n",
    "        ax.set_ylabel('seconds');\n",
    "        ax.set_xlabel('transit number');\n",
    "        ax.set_title('mass = '+ str(p[0])+ ' period ='+ str(p[1])+ 'periastron ='+ str(p[5])) \n",
    "        plt.show()\n",
    "    chisq = np.sum((brucetransittimecorrected*60*60*24 - modeltransittimecorrected*60*60*24)**2/ bruceerr**2)\n",
    "    #print(brucetransittimecorrected*60*60*24 - modeltransittimecorrected*60*60*24)\n",
    "    #print(bruceerr)\n",
    "    negloglikelihood = 0.5 * chisq\n",
    "    return negloglikelihood\n"
   ]
  },
  {
   "cell_type": "code",
   "execution_count": 15,
   "metadata": {},
   "outputs": [
    {
     "data": {
      "text/plain": [
       "849.3221498613184"
      ]
     },
     "execution_count": 15,
     "metadata": {},
     "output_type": "execute_result"
    }
   ],
   "source": [
    "loglikelihood([0.00954588,200,0.6,8.7598285693573246e+01,4.6220554014026838e-01,1.6437004273382669e+00,-1.9584857031843157e+01,1.40795,-90],actualbrucetransittime , bruceerr)"
   ]
  },
  {
   "cell_type": "code",
   "execution_count": 16,
   "metadata": {},
   "outputs": [
    {
     "name": "stdout",
     "output_type": "stream",
     "text": [
      "[168. 180. 200. 217. 222. 224. 229. 239. 246. 256.   0.  94. 143. 150.\n",
      " 167.]\n"
     ]
    }
   ],
   "source": [
    "print(brucetransitnumber)\n"
   ]
  },
  {
   "cell_type": "code",
   "execution_count": 17,
   "metadata": {},
   "outputs": [
    {
     "data": {
      "text/plain": [
       "\"'for j in range(len(massestotest)):\\n        thismass= massestotest[j]\\n        for k in range(len(periodstotest)):\\n            thisperiod= periodstotest[k]\\n            for m in range(len(meananomolytotest)):\\n                thismeananomoly= meananomolytotest[m]\\n                loglikelihood([thismass,\\n                           thisperiod,0.6,\\n                           8.7598285693573246e+01,\\n                           4.6220554014026838e-01,\\n                           1.6437004273382669e+00,\\n                           thismeananomoly,\\n                           1.40795,-90],actualbrucetransittime , bruceerr)\""
      ]
     },
     "execution_count": 17,
     "metadata": {},
     "output_type": "execute_result"
    }
   ],
   "source": [
    "#grid search \n",
    "periodstotest = np.linspace(50,1000,300)\n",
    "massestotest = np.linspace(0.1,13,100)/1047.572 #conversion from jupiter to solar masses\n",
    "periastrontotest = np.linspace(0,360,100)\n",
    "''''for j in range(len(massestotest)):\n",
    "        thismass= massestotest[j]\n",
    "        for k in range(len(periodstotest)):\n",
    "            thisperiod= periodstotest[k]\n",
    "            for m in range(len(meananomolytotest)):\n",
    "                thismeananomoly= meananomolytotest[m]\n",
    "                loglikelihood([thismass,\n",
    "                           thisperiod,0.6,\n",
    "                           8.7598285693573246e+01,\n",
    "                           4.6220554014026838e-01,\n",
    "                           1.6437004273382669e+00,\n",
    "                           thismeananomoly,\n",
    "                           1.40795,-90],actualbrucetransittime , bruceerr)'''\n"
   ]
  },
  {
   "cell_type": "code",
   "execution_count": 18,
   "metadata": {},
   "outputs": [],
   "source": [
    "#for j in range(len(ecentricitiestotest)):\n",
    "    #print(j)\n",
    "    #print('loop finished')\n",
    "    #print(ecentricitiestotest[j])"
   ]
  },
  {
   "cell_type": "code",
   "execution_count": 19,
   "metadata": {},
   "outputs": [
    {
     "name": "stdout",
     "output_type": "stream",
     "text": [
      "[[[0. 0. 0. ... 0. 0. 0.]\n",
      "  [0. 0. 0. ... 0. 0. 0.]\n",
      "  [0. 0. 0. ... 0. 0. 0.]\n",
      "  ...\n",
      "  [0. 0. 0. ... 0. 0. 0.]\n",
      "  [0. 0. 0. ... 0. 0. 0.]\n",
      "  [0. 0. 0. ... 0. 0. 0.]]\n",
      "\n",
      " [[0. 0. 0. ... 0. 0. 0.]\n",
      "  [0. 0. 0. ... 0. 0. 0.]\n",
      "  [0. 0. 0. ... 0. 0. 0.]\n",
      "  ...\n",
      "  [0. 0. 0. ... 0. 0. 0.]\n",
      "  [0. 0. 0. ... 0. 0. 0.]\n",
      "  [0. 0. 0. ... 0. 0. 0.]]\n",
      "\n",
      " [[0. 0. 0. ... 0. 0. 0.]\n",
      "  [0. 0. 0. ... 0. 0. 0.]\n",
      "  [0. 0. 0. ... 0. 0. 0.]\n",
      "  ...\n",
      "  [0. 0. 0. ... 0. 0. 0.]\n",
      "  [0. 0. 0. ... 0. 0. 0.]\n",
      "  [0. 0. 0. ... 0. 0. 0.]]\n",
      "\n",
      " ...\n",
      "\n",
      " [[0. 0. 0. ... 0. 0. 0.]\n",
      "  [0. 0. 0. ... 0. 0. 0.]\n",
      "  [0. 0. 0. ... 0. 0. 0.]\n",
      "  ...\n",
      "  [0. 0. 0. ... 0. 0. 0.]\n",
      "  [0. 0. 0. ... 0. 0. 0.]\n",
      "  [0. 0. 0. ... 0. 0. 0.]]\n",
      "\n",
      " [[0. 0. 0. ... 0. 0. 0.]\n",
      "  [0. 0. 0. ... 0. 0. 0.]\n",
      "  [0. 0. 0. ... 0. 0. 0.]\n",
      "  ...\n",
      "  [0. 0. 0. ... 0. 0. 0.]\n",
      "  [0. 0. 0. ... 0. 0. 0.]\n",
      "  [0. 0. 0. ... 0. 0. 0.]]\n",
      "\n",
      " [[0. 0. 0. ... 0. 0. 0.]\n",
      "  [0. 0. 0. ... 0. 0. 0.]\n",
      "  [0. 0. 0. ... 0. 0. 0.]\n",
      "  ...\n",
      "  [0. 0. 0. ... 0. 0. 0.]\n",
      "  [0. 0. 0. ... 0. 0. 0.]\n",
      "  [0. 0. 0. ... 0. 0. 0.]]]\n",
      "[[[  14.4072644    14.38910698   14.38055454 ...   14.46918876\n",
      "     14.43426066   14.4072644 ]\n",
      "  [  15.82655627   15.79050603   15.76836383 ...   15.93350974\n",
      "     15.87472145   15.82655627]\n",
      "  [  18.54404114   18.49659849   18.45807627 ...   18.65571922\n",
      "     18.59752997   18.54403977]\n",
      "  ...\n",
      "  [5881.98427281 5908.04166219 5893.00661811 ... 5707.78768329\n",
      "   5814.28819378 5881.9842982 ]\n",
      "  [5999.52247636 6026.11440032 6010.77394773 ... 5821.75432376\n",
      "   5930.4390233  5999.52246231]\n",
      "  [6118.15987951 6145.29298163 6129.64211482 ... 5936.78617596\n",
      "   6047.67604969 6118.15987645]]\n",
      "\n",
      " [[  13.91317736   13.83956168   13.77909215 ...   14.08790001\n",
      "     13.99700769   13.91317736]\n",
      "  [  14.30613378   14.08873143   13.90529151 ...   14.80763341\n",
      "     14.54881417   14.30612685]\n",
      "  [  15.56474245   15.14957653   14.79334682 ...   16.5048184\n",
      "     16.02224222   15.56474352]\n",
      "  ...\n",
      "  [3830.51335418 3593.81663692 3378.62719312 ... 4328.65596656\n",
      "   4078.73152542 3830.51331262]\n",
      "  [3907.12483384 3665.93491979 3446.6794503  ... 4414.75231169\n",
      "   4160.06536503 3907.12482979]\n",
      "  [3984.44879828 3738.72957548 3515.37723238 ... 4501.63888961\n",
      "   4242.15027396 3984.44879597]]\n",
      "\n",
      " [[  14.2781534    14.2483431    14.22742827 ...   14.36502959\n",
      "     14.31710118   14.27815547]\n",
      "  [  14.98130147   14.95861273   14.96081256 ...   15.11262535\n",
      "     15.03202965   14.98130409]\n",
      "  [  16.36379763   16.40026343   16.48258365 ...   16.46168291\n",
      "     16.38215725   16.36379207]\n",
      "  ...\n",
      "  [3119.03742354 3364.03900485 3631.56175218 ... 2750.34467719\n",
      "   2910.4986179  3119.03736428]\n",
      "  [3181.77217842 3431.87606962 3704.92848798 ... 2805.26998482\n",
      "   2968.84751489 3181.77214622]\n",
      "  [3245.11090674 3500.36941845 3779.00658387 ... 2860.71645316\n",
      "   3027.7543781  3245.11087005]]\n",
      "\n",
      " ...\n",
      "\n",
      " [[  14.2197017    14.22158602   14.22306203 ...   14.21483685\n",
      "     14.21744642   14.2197017 ]\n",
      "  [  14.2456943    14.25003464   14.25346214 ...   14.23446006\n",
      "     14.24047437   14.2456943 ]\n",
      "  [  14.27181587   14.27864796   14.28402858 ...   14.25417998\n",
      "     14.26363104   14.27181587]\n",
      "  ...\n",
      "  [  17.37139895   17.68458745   17.92988794 ...   16.57529441\n",
      "     16.99832841   17.37139895]\n",
      "  [  17.41023142   17.72735778   17.97572898 ...   16.60423158\n",
      "     17.03249661   17.41023142]\n",
      "  [  17.44920251   17.77027922   18.02172358 ...   16.63326269\n",
      "     17.0667771    17.44920251]]\n",
      "\n",
      " [[  14.21944512   14.22133804   14.22283598 ...   14.21457248\n",
      "     14.2171814    14.21944512]\n",
      "  [  14.2451052    14.24947831   14.25293773 ...   14.23384577\n",
      "     14.23987078   14.2451052 ]\n",
      "  [  14.27090127   14.27776688   14.28320741 ...   14.25321867\n",
      "     14.26268038   14.27090127]\n",
      "  ...\n",
      "  [  17.32579212   17.64069676   17.88867503 ...   16.52934644\n",
      "     16.95202601   17.32579212]\n",
      "  [  17.36402842   17.68289105   17.93397153 ...   16.55768524\n",
      "     16.98559849   17.36402842]\n",
      "  [  17.40239049   17.72522388   17.97942619 ...   16.58612596\n",
      "     17.01927572   17.40239049]]\n",
      "\n",
      " [[  14.21919591   14.22109951   14.22261392 ...   14.21431434\n",
      "     14.21692174   14.21919591]\n",
      "  [  14.24451911   14.24892168   14.25241971 ...   14.23324437\n",
      "     14.23927243   14.24451911]\n",
      "  [  14.26997696   14.27689078   14.28238916 ...   14.25226825\n",
      "     14.26173932   14.26997696]\n",
      "  ...\n",
      "  [  17.28059645   17.59711227   17.84765454 ...   16.48398031\n",
      "     16.90623305   17.28059645]\n",
      "  [  17.31824069   17.63873384   17.89241047 ...   16.51174386\n",
      "     16.93920401   17.31824069]\n",
      "  [  17.35600446   17.68048509   17.93730574 ...   16.5395905\n",
      "     16.97228994   17.35600446]]]\n",
      "[[[  14.4072644    14.38910698   14.38055454 ...   14.46918876\n",
      "     14.43426066   14.4072644 ]\n",
      "  [  15.82655627   15.79050603   15.76836383 ...   15.93350974\n",
      "     15.87472145   15.82655627]\n",
      "  [  18.54404114   18.49659849   18.45807627 ...   18.65571922\n",
      "     18.59752997   18.54403977]\n",
      "  ...\n",
      "  [5881.98427281 5908.04166219 5893.00661811 ... 5707.78768329\n",
      "   5814.28819378 5881.9842982 ]\n",
      "  [5999.52247636 6026.11440032 6010.77394773 ... 5821.75432376\n",
      "   5930.4390233  5999.52246231]\n",
      "  [6118.15987951 6145.29298163 6129.64211482 ... 5936.78617596\n",
      "   6047.67604969 6118.15987645]]\n",
      "\n",
      " [[  13.91317736   13.83956168   13.77909215 ...   14.08790001\n",
      "     13.99700769   13.91317736]\n",
      "  [  14.30613378   14.08873143   13.90529151 ...   14.80763341\n",
      "     14.54881417   14.30612685]\n",
      "  [  15.56474245   15.14957653   14.79334682 ...   16.5048184\n",
      "     16.02224222   15.56474352]\n",
      "  ...\n",
      "  [3830.51335418 3593.81663692 3378.62719312 ... 4328.65596656\n",
      "   4078.73152542 3830.51331262]\n",
      "  [3907.12483384 3665.93491979 3446.6794503  ... 4414.75231169\n",
      "   4160.06536503 3907.12482979]\n",
      "  [3984.44879828 3738.72957548 3515.37723238 ... 4501.63888961\n",
      "   4242.15027396 3984.44879597]]\n",
      "\n",
      " [[  14.2781534    14.2483431    14.22742827 ...   14.36502959\n",
      "     14.31710118   14.27815547]\n",
      "  [  14.98130147   14.95861273   14.96081256 ...   15.11262535\n",
      "     15.03202965   14.98130409]\n",
      "  [  16.36379763   16.40026343   16.48258365 ...   16.46168291\n",
      "     16.38215725   16.36379207]\n",
      "  ...\n",
      "  [3119.03742354 3364.03900485 3631.56175218 ... 2750.34467719\n",
      "   2910.4986179  3119.03736428]\n",
      "  [3181.77217842 3431.87606962 3704.92848798 ... 2805.26998482\n",
      "   2968.84751489 3181.77214622]\n",
      "  [3245.11090674 3500.36941845 3779.00658387 ... 2860.71645316\n",
      "   3027.7543781  3245.11087005]]\n",
      "\n",
      " ...\n",
      "\n",
      " [[  14.2197017    14.22158602   14.22306203 ...   14.21483685\n",
      "     14.21744642   14.2197017 ]\n",
      "  [  14.2456943    14.25003464   14.25346214 ...   14.23446006\n",
      "     14.24047437   14.2456943 ]\n",
      "  [  14.27181587   14.27864796   14.28402858 ...   14.25417998\n",
      "     14.26363104   14.27181587]\n",
      "  ...\n",
      "  [  17.37139895   17.68458745   17.92988794 ...   16.57529441\n",
      "     16.99832841   17.37139895]\n",
      "  [  17.41023142   17.72735778   17.97572898 ...   16.60423158\n",
      "     17.03249661   17.41023142]\n",
      "  [  17.44920251   17.77027922   18.02172358 ...   16.63326269\n",
      "     17.0667771    17.44920251]]\n",
      "\n",
      " [[  14.21944512   14.22133804   14.22283598 ...   14.21457248\n",
      "     14.2171814    14.21944512]\n",
      "  [  14.2451052    14.24947831   14.25293773 ...   14.23384577\n",
      "     14.23987078   14.2451052 ]\n",
      "  [  14.27090127   14.27776688   14.28320741 ...   14.25321867\n",
      "     14.26268038   14.27090127]\n",
      "  ...\n",
      "  [  17.32579212   17.64069676   17.88867503 ...   16.52934644\n",
      "     16.95202601   17.32579212]\n",
      "  [  17.36402842   17.68289105   17.93397153 ...   16.55768524\n",
      "     16.98559849   17.36402842]\n",
      "  [  17.40239049   17.72522388   17.97942619 ...   16.58612596\n",
      "     17.01927572   17.40239049]]\n",
      "\n",
      " [[  14.21919591   14.22109951   14.22261392 ...   14.21431434\n",
      "     14.21692174   14.21919591]\n",
      "  [  14.24451911   14.24892168   14.25241971 ...   14.23324437\n",
      "     14.23927243   14.24451911]\n",
      "  [  14.26997696   14.27689078   14.28238916 ...   14.25226825\n",
      "     14.26173932   14.26997696]\n",
      "  ...\n",
      "  [  17.28059645   17.59711227   17.84765454 ...   16.48398031\n",
      "     16.90623305   17.28059645]\n",
      "  [  17.31824069   17.63873384   17.89241047 ...   16.51174386\n",
      "     16.93920401   17.31824069]\n",
      "  [  17.35600446   17.68048509   17.93730574 ...   16.5395905\n",
      "     16.97228994   17.35600446]]]\n"
     ]
    }
   ],
   "source": [
    "a=np.zeros((len(periodstotest),len(massestotest),len(periastrontotest)))\n",
    "testedmasses= np.zeros((len(periodstotest),len(massestotest),len(periastrontotest)))\n",
    "testedperiods = np.zeros((len(periodstotest),len(massestotest),len(periastrontotest)))\n",
    "print(a)\n",
    "for c in range(len(periodstotest)):\n",
    "    for d in range(len(massestotest)):\n",
    "        for e in range(len(periastrontotest)):\n",
    "            a[c,d,e]=loglikelihood([massestotest[d],periodstotest[c],0,8.7598285693573246e+01,\n",
    "                                               4.6220554014026838e-01,periastrontotest[e],\n",
    "                                               315,1.40795,-90],actualbrucetransittime , bruceerr)\n",
    "            testedmasses[c,d,e]=massestotest[d]\n",
    "            testedperiods[c,d,e]= periodstotest[c]\n",
    "print(a)\n",
    "print(a)"
   ]
  },
  {
   "cell_type": "code",
   "execution_count": 20,
   "metadata": {},
   "outputs": [
    {
     "data": {
      "text/plain": [
       "Text(0.5, 0, 'masses in solar masses')"
      ]
     },
     "execution_count": 20,
     "metadata": {},
     "output_type": "execute_result"
    },
    {
     "data": {
      "image/png": "[encoded data removed]",
      "text/plain": [
       "<Figure size 432x288 with 2 Axes>"
      ]
     },
     "metadata": {
      "needs_background": "light"
     },
     "output_type": "display_data"
    }
   ],
   "source": [
    "fig,ax= plt.subplots()\n",
    "im=ax.imshow(np.min(a, axis= 2),extent = [min(massestotest), max(massestotest),max(periodstotest),min(periodstotest)], aspect='auto')\n",
    "\n",
    "fig.colorbar(im)\n",
    "ax.set_ylabel('period in days')\n",
    "ax.set_xlabel('masses in solar masses')\n"
   ]
  },
  {
   "cell_type": "code",
   "execution_count": 21,
   "metadata": {},
   "outputs": [
    {
     "data": {
      "text/plain": [
       "Text(0.5, 0, 'masses in solar masses')"
      ]
     },
     "execution_count": 21,
     "metadata": {},
     "output_type": "execute_result"
    },
    {
     "data": {
      "image/png": "[encoded data removed]",
      "text/plain": [
       "<Figure size 432x288 with 2 Axes>"
      ]
     },
     "metadata": {
      "needs_background": "light"
     },
     "output_type": "display_data"
    }
   ],
   "source": [
    "fig,ax= plt.subplots()\n",
    "im=ax.imshow(np.min(testedmasses, axis= 2),extent = [min(massestotest), max(massestotest),max(periodstotest),min(periodstotest)], aspect='auto')\n",
    "\n",
    "fig.colorbar(im)\n",
    "ax.set_ylabel('period in days')\n",
    "ax.set_xlabel('masses in solar masses')"
   ]
  },
  {
   "cell_type": "code",
   "execution_count": 22,
   "metadata": {},
   "outputs": [
    {
     "data": {
      "text/plain": [
       "Text(0.5, 0, 'masses in solar masses')"
      ]
     },
     "execution_count": 22,
     "metadata": {},
     "output_type": "execute_result"
    },
    {
     "data": {
      "image/png": "[encoded data removed]",
      "text/plain": [
       "<Figure size 432x288 with 2 Axes>"
      ]
     },
     "metadata": {
      "needs_background": "light"
     },
     "output_type": "display_data"
    }
   ],
   "source": [
    "fig,ax= plt.subplots()\n",
    "im=ax.imshow(np.min(testedperiods, axis= 2),extent = [min(massestotest), max(massestotest),max(periodstotest),min(periodstotest)], aspect='auto')\n",
    "\n",
    "fig.colorbar(im)\n",
    "ax.set_ylabel('period in days')\n",
    "ax.set_xlabel('masses in solar masses')"
   ]
  },
  {
   "cell_type": "code",
   "execution_count": 23,
   "metadata": {},
   "outputs": [
    {
     "data": {
      "text/plain": [
       "[<matplotlib.lines.Line2D at 0x7fd150838190>]"
      ]
     },
     "execution_count": 23,
     "metadata": {},
     "output_type": "execute_result"
    },
    {
     "data": {
      "image/png": "[encoded data removed]",
      "text/plain": [
       "<Figure size 432x288 with 1 Axes>"
      ]
     },
     "metadata": {
      "needs_background": "light"
     },
     "output_type": "display_data"
    }
   ],
   "source": [
    "plt.plot(np.resize(a, 5*5*6))"
   ]
  },
  {
   "cell_type": "code",
   "execution_count": 24,
   "metadata": {},
   "outputs": [],
   "source": [
    "np.savez(\"biggermeananomly315masstest.npz\",a=a,massestotest=massestotest,periodstotest=periodstotest,periastrontotest=periastrontotest )"
   ]
  },
  {
   "cell_type": "code",
   "execution_count": 25,
   "metadata": {},
   "outputs": [],
   "source": [
    "f=np.load('biggermeananomly315masstest.npz')\n",
    "a = f[\"a\"]\n",
    "massestotest = f['massestotest']\n",
    "periodstotest = f['periodstotest']\n",
    "periastrontotest = f['periastrontotest']"
   ]
  },
  {
   "cell_type": "code",
   "execution_count": 26,
   "metadata": {},
   "outputs": [
    {
     "name": "stdout",
     "output_type": "stream",
     "text": [
      "[[[  14.4072644    14.38910698   14.38055454 ...   14.46918876\n",
      "     14.43426066   14.4072644 ]\n",
      "  [  15.82655627   15.79050603   15.76836383 ...   15.93350974\n",
      "     15.87472145   15.82655627]\n",
      "  [  18.54404114   18.49659849   18.45807627 ...   18.65571922\n",
      "     18.59752997   18.54403977]\n",
      "  ...\n",
      "  [5881.98427281 5908.04166219 5893.00661811 ... 5707.78768329\n",
      "   5814.28819378 5881.9842982 ]\n",
      "  [5999.52247636 6026.11440032 6010.77394773 ... 5821.75432376\n",
      "   5930.4390233  5999.52246231]\n",
      "  [6118.15987951 6145.29298163 6129.64211482 ... 5936.78617596\n",
      "   6047.67604969 6118.15987645]]\n",
      "\n",
      " [[  13.91317736   13.83956168   13.77909215 ...   14.08790001\n",
      "     13.99700769   13.91317736]\n",
      "  [  14.30613378   14.08873143   13.90529151 ...   14.80763341\n",
      "     14.54881417   14.30612685]\n",
      "  [  15.56474245   15.14957653   14.79334682 ...   16.5048184\n",
      "     16.02224222   15.56474352]\n",
      "  ...\n",
      "  [3830.51335418 3593.81663692 3378.62719312 ... 4328.65596656\n",
      "   4078.73152542 3830.51331262]\n",
      "  [3907.12483384 3665.93491979 3446.6794503  ... 4414.75231169\n",
      "   4160.06536503 3907.12482979]\n",
      "  [3984.44879828 3738.72957548 3515.37723238 ... 4501.63888961\n",
      "   4242.15027396 3984.44879597]]\n",
      "\n",
      " [[  14.2781534    14.2483431    14.22742827 ...   14.36502959\n",
      "     14.31710118   14.27815547]\n",
      "  [  14.98130147   14.95861273   14.96081256 ...   15.11262535\n",
      "     15.03202965   14.98130409]\n",
      "  [  16.36379763   16.40026343   16.48258365 ...   16.46168291\n",
      "     16.38215725   16.36379207]\n",
      "  ...\n",
      "  [3119.03742354 3364.03900485 3631.56175218 ... 2750.34467719\n",
      "   2910.4986179  3119.03736428]\n",
      "  [3181.77217842 3431.87606962 3704.92848798 ... 2805.26998482\n",
      "   2968.84751489 3181.77214622]\n",
      "  [3245.11090674 3500.36941845 3779.00658387 ... 2860.71645316\n",
      "   3027.7543781  3245.11087005]]\n",
      "\n",
      " ...\n",
      "\n",
      " [[  14.2197017    14.22158602   14.22306203 ...   14.21483685\n",
      "     14.21744642   14.2197017 ]\n",
      "  [  14.2456943    14.25003464   14.25346214 ...   14.23446006\n",
      "     14.24047437   14.2456943 ]\n",
      "  [  14.27181587   14.27864796   14.28402858 ...   14.25417998\n",
      "     14.26363104   14.27181587]\n",
      "  ...\n",
      "  [  17.37139895   17.68458745   17.92988794 ...   16.57529441\n",
      "     16.99832841   17.37139895]\n",
      "  [  17.41023142   17.72735778   17.97572898 ...   16.60423158\n",
      "     17.03249661   17.41023142]\n",
      "  [  17.44920251   17.77027922   18.02172358 ...   16.63326269\n",
      "     17.0667771    17.44920251]]\n",
      "\n",
      " [[  14.21944512   14.22133804   14.22283598 ...   14.21457248\n",
      "     14.2171814    14.21944512]\n",
      "  [  14.2451052    14.24947831   14.25293773 ...   14.23384577\n",
      "     14.23987078   14.2451052 ]\n",
      "  [  14.27090127   14.27776688   14.28320741 ...   14.25321867\n",
      "     14.26268038   14.27090127]\n",
      "  ...\n",
      "  [  17.32579212   17.64069676   17.88867503 ...   16.52934644\n",
      "     16.95202601   17.32579212]\n",
      "  [  17.36402842   17.68289105   17.93397153 ...   16.55768524\n",
      "     16.98559849   17.36402842]\n",
      "  [  17.40239049   17.72522388   17.97942619 ...   16.58612596\n",
      "     17.01927572   17.40239049]]\n",
      "\n",
      " [[  14.21919591   14.22109951   14.22261392 ...   14.21431434\n",
      "     14.21692174   14.21919591]\n",
      "  [  14.24451911   14.24892168   14.25241971 ...   14.23324437\n",
      "     14.23927243   14.24451911]\n",
      "  [  14.26997696   14.27689078   14.28238916 ...   14.25226825\n",
      "     14.26173932   14.26997696]\n",
      "  ...\n",
      "  [  17.28059645   17.59711227   17.84765454 ...   16.48398031\n",
      "     16.90623305   17.28059645]\n",
      "  [  17.31824069   17.63873384   17.89241047 ...   16.51174386\n",
      "     16.93920401   17.31824069]\n",
      "  [  17.35600446   17.68048509   17.93730574 ...   16.5395905\n",
      "     16.97228994   17.35600446]]]\n"
     ]
    }
   ],
   "source": [
    "print(f[\"a\"])"
   ]
  },
  {
   "cell_type": "code",
   "execution_count": 27,
   "metadata": {},
   "outputs": [
    {
     "name": "stdout",
     "output_type": "stream",
     "text": [
      "6.808982454326428e-07\n"
     ]
    },
    {
     "name": "stderr",
     "output_type": "stream",
     "text": [
      "<ipython-input-27-417635197afe>:8: RuntimeWarning: divide by zero encountered in log10\n",
      "  im=ax.imshow(np.maximum(np.log10(planetlikihood/noplanetlikihood), -4 ),extent = [min(massestotest)*1047.572, max(massestotest)*1047.572,max(periodstotest),min(periodstotest)], aspect='auto')\n"
     ]
    },
    {
     "data": {
      "text/plain": [
       "Text(0.5, 0, 'masses in Jupiter masses')"
      ]
     },
     "execution_count": 27,
     "metadata": {},
     "output_type": "execute_result"
    },
    {
     "data": {
      "image/png": "[encoded data removed]",
      "text/plain": [
       "<Figure size 432x288 with 2 Axes>"
      ]
     },
     "metadata": {
      "needs_background": "light"
     },
     "output_type": "display_data"
    }
   ],
   "source": [
    "noplanetlikihood=np.exp(loglikelihood([0,120,0,90,\n",
    "                                               4.6220554014026838e-01,1.6437004273382669e+00,\n",
    "                                               315,1.40795,-90],actualbrucetransittime , bruceerr, yesplot= False)*-1)\n",
    "print(noplanetlikihood)\n",
    "planetlikihood = np.exp(-1*np.min(a, axis= 2))\n",
    "\n",
    "fig,ax= plt.subplots()\n",
    "im=ax.imshow(np.maximum(np.log10(planetlikihood/noplanetlikihood), -4 ),extent = [min(massestotest)*1047.572, max(massestotest)*1047.572,max(periodstotest),min(periodstotest)], aspect='auto')\n",
    "\n",
    "fig.colorbar(im, label = 'log base ten probability')\n",
    "ax.set_ylabel('period in days')\n",
    "ax.set_xlabel('masses in Jupiter masses')"
   ]
  },
  {
   "cell_type": "code",
   "execution_count": 28,
   "metadata": {},
   "outputs": [
    {
     "name": "stdout",
     "output_type": "stream",
     "text": [
      "6.808982454326428e-07\n",
      "[[9.95963301e-07 7.26690179e-07 2.30742768e-07 ... 0.00000000e+00\n",
      "  0.00000000e+00 0.00000000e+00]\n",
      " [1.12249179e-06 1.20306751e-06 6.67895873e-07 ... 0.00000000e+00\n",
      "  0.00000000e+00 0.00000000e+00]\n",
      " [2.15409614e-06 4.36450219e-06 3.60386103e-06 ... 0.00000000e+00\n",
      "  0.00000000e+00 0.00000000e+00]\n",
      " ...\n",
      " [7.05077979e-07 7.37614072e-07 7.71353883e-07 ... 1.01524318e-05\n",
      "  1.02689030e-05 1.03834701e-05]\n",
      " [7.04898795e-07 7.37192709e-07 7.70654135e-07 ... 1.00515478e-05\n",
      "  1.01671084e-05 1.02808035e-05]\n",
      " [7.04719749e-07 7.36763582e-07 7.69960630e-07 ... 9.95101529e-06\n",
      "  1.00656615e-05 1.01785104e-05]]\n",
      "[[  13.81955543   14.13476561   15.28196231 ... 3389.09417513\n",
      "  3457.41927241 3526.40337197]\n",
      " [  13.69995953   13.630636     14.21913355 ... 2676.22569792\n",
      "  2727.97056942 2780.16889064]\n",
      " [  13.04813935   12.34200642   12.53350478 ... 2608.58679556\n",
      "  2660.24595447 2712.38619961]\n",
      " ...\n",
      " [  14.16495743   14.11984509   14.07511858 ...   11.49779729\n",
      "    11.48639036   11.47529543]\n",
      " [  14.1652116    14.1204165    14.07602616 ...   11.50778393\n",
      "    11.49635272   11.48523214]\n",
      " [  14.16546563   14.12099878   14.07692645 ...   11.51783597\n",
      "    11.50638078   11.49523188]]\n"
     ]
    }
   ],
   "source": [
    "print(noplanetlikihood)\n",
    "print(planetlikihood)\n",
    "print(np.min(a, axis = 2))"
   ]
  },
  {
   "cell_type": "code",
   "execution_count": 29,
   "metadata": {},
   "outputs": [],
   "source": [
    "#test=loglikelihood([massestotest[c],periodstotest[d],0.6,8.7598285693573246e+01,\n",
    "                                              # 4.6220554014026838e-01,1.6437004273382669e+00,\n",
    "                                               #meananomolytotest[e],1.40795,-90],actualbrucetransittime , bruceerr, yesplot= True)\n",
    "#print(test)\n",
    "#print(noplanetlikihood)"
   ]
  },
  {
   "cell_type": "code",
   "execution_count": 30,
   "metadata": {},
   "outputs": [
    {
     "name": "stdout",
     "output_type": "stream",
     "text": [
      "(9, 6, 59)\n",
      "78.59531772575251\n",
      "0.0008417733404655546\n",
      "214.54545454545453\n"
     ]
    }
   ],
   "source": [
    "import numpy as np\n",
    "f=np.load('biggermeananomly315masstest.npz')\n",
    "a = f[\"a\"]\n",
    "ind = np.unravel_index(np.argmin(f[\"a\"], axis=None), f[\"a\"].shape)\n",
    "print(ind)\n",
    "print(f[\"periodstotest\"][ind[0]])\n",
    "print(f[\"massestotest\"][ind[1]])\n",
    "#meananomolytotest = np.linspace(0,360,100)\n",
    "print(f[\"periastrontotest\"][ind[2]])"
   ]
  },
  {
   "cell_type": "code",
   "execution_count": 31,
   "metadata": {},
   "outputs": [
    {
     "name": "stdout",
     "output_type": "stream",
     "text": [
      "[315.90886837 332.80413679 360.96292936 384.89789415 391.93759056\n",
      " 394.7534865  401.79315997 415.87255671 425.72812932 439.80752397\n",
      "  79.375085   211.721367   280.710383   290.565959   314.500916  ]\n",
      "[315.91106526 332.8064861  360.96552697 384.90071059 391.94046567\n",
      " 394.75636776 401.79612567 415.87564749 425.73131166 439.81083147\n",
      "  79.37515731 211.72262976 280.71227056 290.56793439 314.50311433]\n"
     ]
    },
    {
     "data": {
      "image/png": "[encoded data removed]",
      "text/plain": [
       "<Figure size 1152x576 with 1 Axes>"
      ]
     },
     "metadata": {
      "needs_background": "light"
     },
     "output_type": "display_data"
    }
   ],
   "source": [
    "somethingwedontcareabout=np.exp(loglikelihood([f[\"massestotest\"][ind[1]],f[\"periodstotest\"][ind[0]],0,90,\n",
    "                                               4.6220554014026838e-01,f[\"periastrontotest\"][ind[2]],\n",
    "                                               315,1.40795,-90],actualbrucetransittime , bruceerr, yesplot= True)*-1)"
   ]
  },
  {
   "cell_type": "code",
   "execution_count": 32,
   "metadata": {},
   "outputs": [
    {
     "name": "stdout",
     "output_type": "stream",
     "text": [
      "6.808982454326428e-07\n",
      "(300, 100, 100)\n",
      "(300, 100)\n"
     ]
    },
    {
     "data": {
      "image/png": "[encoded data removed]",
      "text/plain": [
       "<Figure size 432x288 with 2 Axes>"
      ]
     },
     "metadata": {
      "needs_background": "light"
     },
     "output_type": "display_data"
    }
   ],
   "source": [
    "\n",
    "noplanetlikihood=np.exp(loglikelihood([0,120,0,90,\n",
    "                                               4.6220554014026838e-01,1.6437004273382669e+00,\n",
    "                                               315,1.40795,-90],actualbrucetransittime , bruceerr, yesplot= False)*-1)\n",
    "print(noplanetlikihood)\n",
    "planetlikihood = np.exp(-1*a[:,0,:])\n",
    "fig,ax= plt.subplots()\n",
    "im=ax.imshow(np.maximum(np.log10(planetlikihood/noplanetlikihood),-4 ),extent = [min(massestotest)*1047.572, max(massestotest)*1047.572,max(periodstotest),min(periodstotest)], aspect='auto')\n",
    "\n",
    "fig.colorbar(im, label = 'log base ten probability')\n",
    "ax.set_xlabel('periods in days')\n",
    "ax.set_ylabel('masses in jupiter masses')\n",
    "print(np.shape(a))\n",
    "print(np.shape(planetlikihood))"
   ]
  },
  {
   "cell_type": "code",
   "execution_count": 33,
   "metadata": {},
   "outputs": [
    {
     "name": "stdout",
     "output_type": "stream",
     "text": [
      "[315.90886837 332.80413679 360.96292936 384.89789415 391.93759056\n",
      " 394.7534865  401.79315997 415.87255671 425.72812932 439.80752397\n",
      "  79.375085   211.721367   280.710383   290.565959   314.500916  ]\n",
      "[315.9199098  332.81635508 360.97711162 384.91405995 391.95428992\n",
      " 394.77038129 401.81057536 415.89131241 425.74768791 439.82822162\n",
      "  79.37544961 211.72603637 280.71910472 290.57526881 314.51183923]\n"
     ]
    },
    {
     "data": {
      "image/png": "[encoded data removed]",
      "text/plain": [
       "<Figure size 1152x576 with 1 Axes>"
      ]
     },
     "metadata": {
      "needs_background": "light"
     },
     "output_type": "display_data"
    },
    {
     "name": "stdout",
     "output_type": "stream",
     "text": [
      "14.62266328790918\n",
      "14.648738451396317\n",
      "-0.1949484913568283\n"
     ]
    }
   ],
   "source": [
    "test=loglikelihood([massestotest[35],periodstotest[0],0.6,8.7598285693573246e+01,\n",
    "                                               4.6220554014026838e-01,1.6437004273382669e+00,\n",
    "                                               315,1.40795,-90],actualbrucetransittime , bruceerr, yesplot= True)\n",
    "#print(test)\n",
    "#print(noplanetlikihood)\n",
    "#a[c,d,e]=loglikelihood([1/1047.572,130,ecentricitiestotest[c],inclinationstotest[d],\n",
    "                                               #4.6220554014026838e-01,1.6437004273382669e+00,\n",
    "                                               #meananomolytotest[e],1.40795,-90],actualbrucetransittime , bruceerr)\n",
    "print(a[35,0,0])\n",
    "print(a[35,0,1])\n",
    "planetlikihood = np.exp(-1*a[35,0,1])\n",
    "ratio = np.maximum(np.log10(planetlikihood/noplanetlikihood),-4 ) \n",
    "print(ratio)\n"
   ]
  },
  {
   "cell_type": "code",
   "execution_count": 34,
   "metadata": {},
   "outputs": [],
   "source": [
    "#fig,ax= plt.subplots()\n",
    "#im=ax.imshow(np.log(a[:,0,:]))\n",
    "#np.shape(a[:,0,:])"
   ]
  },
  {
   "cell_type": "code",
   "execution_count": 35,
   "metadata": {},
   "outputs": [],
   "source": [
    "#junk=np.random.uniform(0,1,(3,6))\n",
    "#print(junk)\n",
    "#fig,ax= plt.subplots()\n",
    "#im=ax.imshow(junk)"
   ]
  },
  {
   "cell_type": "code",
   "execution_count": 36,
   "metadata": {},
   "outputs": [
    {
     "name": "stdout",
     "output_type": "stream",
     "text": [
      "[45.]\n"
     ]
    }
   ],
   "source": [
    "test = np.linspace(45,45,1)\n",
    "print(test)"
   ]
  },
  {
   "cell_type": "code",
   "execution_count": null,
   "metadata": {},
   "outputs": [],
   "source": []
  }
 ],
 "metadata": {
  "kernelspec": {
   "display_name": "Python 3",
   "language": "python",
   "name": "python3"
  },
  "language_info": {
   "codemirror_mode": {
    "name": "ipython",
    "version": 3
   },
   "file_extension": ".py",
   "mimetype": "text/x-python",
   "name": "python",
   "nbconvert_exporter": "python",
   "pygments_lexer": "ipython3",
   "version": "3.8.8"
  }
 },
 "nbformat": 4,
 "nbformat_minor": 4
}
